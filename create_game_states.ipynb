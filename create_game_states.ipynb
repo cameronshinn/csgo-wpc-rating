{
 "metadata": {
  "language_info": {
   "codemirror_mode": {
    "name": "ipython",
    "version": 3
   },
   "file_extension": ".py",
   "mimetype": "text/x-python",
   "name": "python",
   "nbconvert_exporter": "python",
   "pygments_lexer": "ipython3",
   "version": "3.8.5"
  },
  "orig_nbformat": 2,
  "kernelspec": {
   "name": "python3",
   "display_name": "Python 3",
   "language": "python"
  },
  "metadata": {
   "interpreter": {
    "hash": "31f2aee4e71d21fbe5cf8b01ff0e069b9275f58929596ceb00d14d90e3e16cd6"
   }
  }
 },
 "nbformat": 4,
 "nbformat_minor": 2,
 "cells": [
  {
   "cell_type": "code",
   "execution_count": 1,
   "metadata": {},
   "outputs": [],
   "source": [
    "import pandas as pd\n",
    "\n",
    "damages_df = pd.read_csv('toy_dataset/Damages.csv', index_col=0)\n",
    "player_frames_df = pd.read_csv('toy_dataset/PlayerFrames.csv', index_col=0)\n",
    "bomb_events_df = pd.read_csv('toy_dataset/BombEvents.csv', index_col=0)\n",
    "rounds_df = pd.read_csv('toy_dataset/Rounds.csv', index_col=0)\n",
    "kills_df = pd.read_csv('toy_dataset/Kills.csv', index_col=0)\n"
   ]
  },
  {
   "cell_type": "code",
   "execution_count": 2,
   "metadata": {},
   "outputs": [
    {
     "output_type": "execute_result",
     "data": {
      "text/plain": [
       "                                             MatchId      MapName  RoundNum  \\\n",
       "0  Liga-Gamers-Club-2021-Serie-A-April-Cup-santos...  de_overpass         1   \n",
       "1  Liga-Gamers-Club-2021-Serie-A-April-Cup-santos...  de_overpass         2   \n",
       "2  Liga-Gamers-Club-2021-Serie-A-April-Cup-santos...  de_overpass         3   \n",
       "3  Liga-Gamers-Club-2021-Serie-A-April-Cup-santos...  de_overpass         4   \n",
       "4  Liga-Gamers-Club-2021-Serie-A-April-Cup-santos...  de_overpass         5   \n",
       "\n",
       "   StartTick  FreezeTimeEnd  EndTick  EndOfficialTick  TScore  CTScore  \\\n",
       "0      13232          15794    27867            27867       0        0   \n",
       "1      28507          31070    46939            46945       0        1   \n",
       "2      47585          50138    64531            64534       1        1   \n",
       "3      65174          67724    81080            81090       2        1   \n",
       "4      81730          84283    98592            98601       3        1   \n",
       "\n",
       "  WinningSide      WinningTeam       LosingTeam RoundEndReason  CTStartEqVal  \\\n",
       "0          CT       SWS Gaming  Santos e-Sports    BombDefused          4350   \n",
       "1           T  Santos e-Sports       SWS Gaming   TargetBombed         20800   \n",
       "2           T  Santos e-Sports       SWS Gaming   TargetBombed         16350   \n",
       "3           T  Santos e-Sports       SWS Gaming   TargetBombed          6200   \n",
       "4           T  Santos e-Sports       SWS Gaming  TerroristsWin         24150   \n",
       "\n",
       "  CTBuyType  TStartEqVal  TBuyType  \n",
       "0    Pistol         4550    Pistol  \n",
       "1  Half Buy        16150  Half Buy  \n",
       "2  Half Buy        23800  Full Buy  \n",
       "3  Half Buy        25300  Full Buy  \n",
       "4  Full Buy        25400  Full Buy  "
      ],
      "text/html": "<div>\n<style scoped>\n    .dataframe tbody tr th:only-of-type {\n        vertical-align: middle;\n    }\n\n    .dataframe tbody tr th {\n        vertical-align: top;\n    }\n\n    .dataframe thead th {\n        text-align: right;\n    }\n</style>\n<table border=\"1\" class=\"dataframe\">\n  <thead>\n    <tr style=\"text-align: right;\">\n      <th></th>\n      <th>MatchId</th>\n      <th>MapName</th>\n      <th>RoundNum</th>\n      <th>StartTick</th>\n      <th>FreezeTimeEnd</th>\n      <th>EndTick</th>\n      <th>EndOfficialTick</th>\n      <th>TScore</th>\n      <th>CTScore</th>\n      <th>WinningSide</th>\n      <th>WinningTeam</th>\n      <th>LosingTeam</th>\n      <th>RoundEndReason</th>\n      <th>CTStartEqVal</th>\n      <th>CTBuyType</th>\n      <th>TStartEqVal</th>\n      <th>TBuyType</th>\n    </tr>\n  </thead>\n  <tbody>\n    <tr>\n      <th>0</th>\n      <td>Liga-Gamers-Club-2021-Serie-A-April-Cup-santos...</td>\n      <td>de_overpass</td>\n      <td>1</td>\n      <td>13232</td>\n      <td>15794</td>\n      <td>27867</td>\n      <td>27867</td>\n      <td>0</td>\n      <td>0</td>\n      <td>CT</td>\n      <td>SWS Gaming</td>\n      <td>Santos e-Sports</td>\n      <td>BombDefused</td>\n      <td>4350</td>\n      <td>Pistol</td>\n      <td>4550</td>\n      <td>Pistol</td>\n    </tr>\n    <tr>\n      <th>1</th>\n      <td>Liga-Gamers-Club-2021-Serie-A-April-Cup-santos...</td>\n      <td>de_overpass</td>\n      <td>2</td>\n      <td>28507</td>\n      <td>31070</td>\n      <td>46939</td>\n      <td>46945</td>\n      <td>0</td>\n      <td>1</td>\n      <td>T</td>\n      <td>Santos e-Sports</td>\n      <td>SWS Gaming</td>\n      <td>TargetBombed</td>\n      <td>20800</td>\n      <td>Half Buy</td>\n      <td>16150</td>\n      <td>Half Buy</td>\n    </tr>\n    <tr>\n      <th>2</th>\n      <td>Liga-Gamers-Club-2021-Serie-A-April-Cup-santos...</td>\n      <td>de_overpass</td>\n      <td>3</td>\n      <td>47585</td>\n      <td>50138</td>\n      <td>64531</td>\n      <td>64534</td>\n      <td>1</td>\n      <td>1</td>\n      <td>T</td>\n      <td>Santos e-Sports</td>\n      <td>SWS Gaming</td>\n      <td>TargetBombed</td>\n      <td>16350</td>\n      <td>Half Buy</td>\n      <td>23800</td>\n      <td>Full Buy</td>\n    </tr>\n    <tr>\n      <th>3</th>\n      <td>Liga-Gamers-Club-2021-Serie-A-April-Cup-santos...</td>\n      <td>de_overpass</td>\n      <td>4</td>\n      <td>65174</td>\n      <td>67724</td>\n      <td>81080</td>\n      <td>81090</td>\n      <td>2</td>\n      <td>1</td>\n      <td>T</td>\n      <td>Santos e-Sports</td>\n      <td>SWS Gaming</td>\n      <td>TargetBombed</td>\n      <td>6200</td>\n      <td>Half Buy</td>\n      <td>25300</td>\n      <td>Full Buy</td>\n    </tr>\n    <tr>\n      <th>4</th>\n      <td>Liga-Gamers-Club-2021-Serie-A-April-Cup-santos...</td>\n      <td>de_overpass</td>\n      <td>5</td>\n      <td>81730</td>\n      <td>84283</td>\n      <td>98592</td>\n      <td>98601</td>\n      <td>3</td>\n      <td>1</td>\n      <td>T</td>\n      <td>Santos e-Sports</td>\n      <td>SWS Gaming</td>\n      <td>TerroristsWin</td>\n      <td>24150</td>\n      <td>Full Buy</td>\n      <td>25400</td>\n      <td>Full Buy</td>\n    </tr>\n  </tbody>\n</table>\n</div>"
     },
     "metadata": {},
     "execution_count": 2
    }
   ],
   "source": [
    "rounds_df.head()"
   ]
  },
  {
   "cell_type": "code",
   "execution_count": 3,
   "metadata": {},
   "outputs": [],
   "source": [
    "game_state_cols = ['MatchId', 'MapName', 'RoundNum', 'TicksSinceStart', 'CTStartEqVal', 'TStartEqVal', 'CTAlive', 'TAlive', 'CTTotalHP', 'TTotalHP', 'BombPlantedA', 'BombPlantedB', 'CTClosestA', 'TClosestA', 'CTClosestB', 'TClosestB']"
   ]
  },
  {
   "source": [
    "## Remove events before and after the round"
   ],
   "cell_type": "markdown",
   "metadata": {}
  },
  {
   "cell_type": "code",
   "execution_count": 4,
   "metadata": {},
   "outputs": [],
   "source": [
    "# TODO: Check that only the post-round time is getting cut (weird since the endtick and officialendtick are practically the same)"
   ]
  },
  {
   "cell_type": "code",
   "execution_count": 5,
   "metadata": {},
   "outputs": [],
   "source": [
    "def keep_in_round_time(df):\n",
    "    # df needs to have \"MatchId\", \"MapName\", \"RoundNum\" columns\n",
    "    merged_df = df.merge(rounds_df[['MatchId', 'MapName', 'RoundNum', 'FreezeTimeEnd', 'EndTick']], how='left', on=['MatchId', 'MapName', 'RoundNum'], validate='many_to_one')\n",
    "    merged_dropped_df = merged_df[(merged_df.Tick > merged_df.FreezeTimeEnd) & (merged_df.Tick <= merged_df.EndTick)]\n",
    "    return merged_dropped_df.drop(['FreezeTimeEnd', 'EndTick'], axis=1)"
   ]
  },
  {
   "cell_type": "code",
   "execution_count": 6,
   "metadata": {},
   "outputs": [],
   "source": [
    "# m_bomb_events_df = bomb_events_df.merge(rounds_df[['MatchId', 'MapName', 'RoundNum', 'FreezeTimeEnd', 'EndTick']], how='left', on=['MatchId', 'MapName', 'RoundNum'], validate='many_to_one')\n",
    "# m_bomb_events_df[(m_bomb_events_df.Tick <= m_bomb_events_df.FreezeTimeEnd) | (m_bomb_events_df.Tick > m_bomb_events_df.EndTick)]"
   ]
  },
  {
   "cell_type": "code",
   "execution_count": 7,
   "metadata": {},
   "outputs": [],
   "source": [
    "damages_df = keep_in_round_time(damages_df)\r\n",
    "player_frames_df = keep_in_round_time(player_frames_df)\r\n",
    "bomb_events_df = keep_in_round_time(bomb_events_df)\r\n",
    "kills_df = keep_in_round_time(kills_df)"
   ]
  },
  {
   "source": [
    "## Bomb Plants"
   ],
   "cell_type": "markdown",
   "metadata": {}
  },
  {
   "cell_type": "code",
   "execution_count": 8,
   "metadata": {},
   "outputs": [
    {
     "output_type": "execute_result",
     "data": {
      "text/plain": [
       "                                             MatchId      MapName  RoundNum  \\\n",
       "0  Liga-Gamers-Club-2021-Serie-A-April-Cup-santos...  de_overpass         1   \n",
       "1  Liga-Gamers-Club-2021-Serie-A-April-Cup-santos...  de_overpass         1   \n",
       "2  Liga-Gamers-Club-2021-Serie-A-April-Cup-santos...  de_overpass         2   \n",
       "3  Liga-Gamers-Club-2021-Serie-A-April-Cup-santos...  de_overpass         3   \n",
       "4  Liga-Gamers-Club-2021-Serie-A-April-Cup-santos...  de_overpass         4   \n",
       "\n",
       "    Tick     Second      PlayerSteamId   PlayerName       PlayerTeam  \\\n",
       "0  23419  59.570312  76561198169934019   ★ ⑳ MaLLby  Santos e-Sports   \n",
       "1  27867  94.320312  76561197963277583   ★ ㉑ matios       SWS Gaming   \n",
       "2  41686  82.937500  76561198148561509   ★ ㉑ cass1n  Santos e-Sports   \n",
       "3  59274  71.375000  76561198169934019   ★ ⑳ MaLLby  Santos e-Sports   \n",
       "4  75832  63.343750  76561198128804839  ★ ㉑ voltera  Santos e-Sports   \n",
       "\n",
       "       PlayerX     PlayerY    PlayerZ BombAction BombSite  \n",
       "0 -2549.361572  645.968750  480.03125      plant        A  \n",
       "1 -2507.430908  645.319946  480.03125     defuse        A  \n",
       "2  -954.525574  -31.595411   96.03125      plant        B  \n",
       "3 -1166.488892  -79.727104   98.03125      plant        B  \n",
       "4 -1166.488892  -73.471153   98.03125      plant        B  "
      ],
      "text/html": "<div>\n<style scoped>\n    .dataframe tbody tr th:only-of-type {\n        vertical-align: middle;\n    }\n\n    .dataframe tbody tr th {\n        vertical-align: top;\n    }\n\n    .dataframe thead th {\n        text-align: right;\n    }\n</style>\n<table border=\"1\" class=\"dataframe\">\n  <thead>\n    <tr style=\"text-align: right;\">\n      <th></th>\n      <th>MatchId</th>\n      <th>MapName</th>\n      <th>RoundNum</th>\n      <th>Tick</th>\n      <th>Second</th>\n      <th>PlayerSteamId</th>\n      <th>PlayerName</th>\n      <th>PlayerTeam</th>\n      <th>PlayerX</th>\n      <th>PlayerY</th>\n      <th>PlayerZ</th>\n      <th>BombAction</th>\n      <th>BombSite</th>\n    </tr>\n  </thead>\n  <tbody>\n    <tr>\n      <th>0</th>\n      <td>Liga-Gamers-Club-2021-Serie-A-April-Cup-santos...</td>\n      <td>de_overpass</td>\n      <td>1</td>\n      <td>23419</td>\n      <td>59.570312</td>\n      <td>76561198169934019</td>\n      <td>★ ⑳ MaLLby</td>\n      <td>Santos e-Sports</td>\n      <td>-2549.361572</td>\n      <td>645.968750</td>\n      <td>480.03125</td>\n      <td>plant</td>\n      <td>A</td>\n    </tr>\n    <tr>\n      <th>1</th>\n      <td>Liga-Gamers-Club-2021-Serie-A-April-Cup-santos...</td>\n      <td>de_overpass</td>\n      <td>1</td>\n      <td>27867</td>\n      <td>94.320312</td>\n      <td>76561197963277583</td>\n      <td>★ ㉑ matios</td>\n      <td>SWS Gaming</td>\n      <td>-2507.430908</td>\n      <td>645.319946</td>\n      <td>480.03125</td>\n      <td>defuse</td>\n      <td>A</td>\n    </tr>\n    <tr>\n      <th>2</th>\n      <td>Liga-Gamers-Club-2021-Serie-A-April-Cup-santos...</td>\n      <td>de_overpass</td>\n      <td>2</td>\n      <td>41686</td>\n      <td>82.937500</td>\n      <td>76561198148561509</td>\n      <td>★ ㉑ cass1n</td>\n      <td>Santos e-Sports</td>\n      <td>-954.525574</td>\n      <td>-31.595411</td>\n      <td>96.03125</td>\n      <td>plant</td>\n      <td>B</td>\n    </tr>\n    <tr>\n      <th>3</th>\n      <td>Liga-Gamers-Club-2021-Serie-A-April-Cup-santos...</td>\n      <td>de_overpass</td>\n      <td>3</td>\n      <td>59274</td>\n      <td>71.375000</td>\n      <td>76561198169934019</td>\n      <td>★ ⑳ MaLLby</td>\n      <td>Santos e-Sports</td>\n      <td>-1166.488892</td>\n      <td>-79.727104</td>\n      <td>98.03125</td>\n      <td>plant</td>\n      <td>B</td>\n    </tr>\n    <tr>\n      <th>4</th>\n      <td>Liga-Gamers-Club-2021-Serie-A-April-Cup-santos...</td>\n      <td>de_overpass</td>\n      <td>4</td>\n      <td>75832</td>\n      <td>63.343750</td>\n      <td>76561198128804839</td>\n      <td>★ ㉑ voltera</td>\n      <td>Santos e-Sports</td>\n      <td>-1166.488892</td>\n      <td>-73.471153</td>\n      <td>98.03125</td>\n      <td>plant</td>\n      <td>B</td>\n    </tr>\n  </tbody>\n</table>\n</div>"
     },
     "metadata": {},
     "execution_count": 8
    }
   ],
   "source": [
    "bomb_events_df.head()"
   ]
  },
  {
   "cell_type": "code",
   "execution_count": 9,
   "metadata": {},
   "outputs": [
    {
     "output_type": "execute_result",
     "data": {
      "text/plain": [
       "                                                                               BombPlantedA  \\\n",
       "MatchId                                            MapName     RoundNum Tick                  \n",
       "Liga-Gamers-Club-2021-Serie-A-April-Cup-santos-... de_overpass 1        23419          True   \n",
       "                                                                        27867         False   \n",
       "                                                               2        41686         False   \n",
       "                                                               3        59274         False   \n",
       "                                                               4        75832         False   \n",
       "\n",
       "                                                                               BombPlantedB  \\\n",
       "MatchId                                            MapName     RoundNum Tick                  \n",
       "Liga-Gamers-Club-2021-Serie-A-April-Cup-santos-... de_overpass 1        23419         False   \n",
       "                                                                        27867         False   \n",
       "                                                               2        41686          True   \n",
       "                                                               3        59274          True   \n",
       "                                                               4        75832          True   \n",
       "\n",
       "                                                                              AttackerSide  \\\n",
       "MatchId                                            MapName     RoundNum Tick                 \n",
       "Liga-Gamers-Club-2021-Serie-A-April-Cup-santos-... de_overpass 1        23419            T   \n",
       "                                                                        27867           CT   \n",
       "                                                               2        41686            T   \n",
       "                                                               3        59274            T   \n",
       "                                                               4        75832            T   \n",
       "\n",
       "                                                                              VictimSide  \\\n",
       "MatchId                                            MapName     RoundNum Tick               \n",
       "Liga-Gamers-Club-2021-Serie-A-April-Cup-santos-... de_overpass 1        23419         CT   \n",
       "                                                                        27867          T   \n",
       "                                                               2        41686         CT   \n",
       "                                                               3        59274         CT   \n",
       "                                                               4        75832         CT   \n",
       "\n",
       "                                                                                 AttackerSteamId  \n",
       "MatchId                                            MapName     RoundNum Tick                      \n",
       "Liga-Gamers-Club-2021-Serie-A-April-Cup-santos-... de_overpass 1        23419  76561198169934019  \n",
       "                                                                        27867  76561197963277583  \n",
       "                                                               2        41686  76561198148561509  \n",
       "                                                               3        59274  76561198169934019  \n",
       "                                                               4        75832  76561198128804839  "
      ],
      "text/html": "<div>\n<style scoped>\n    .dataframe tbody tr th:only-of-type {\n        vertical-align: middle;\n    }\n\n    .dataframe tbody tr th {\n        vertical-align: top;\n    }\n\n    .dataframe thead th {\n        text-align: right;\n    }\n</style>\n<table border=\"1\" class=\"dataframe\">\n  <thead>\n    <tr style=\"text-align: right;\">\n      <th></th>\n      <th></th>\n      <th></th>\n      <th></th>\n      <th>BombPlantedA</th>\n      <th>BombPlantedB</th>\n      <th>AttackerSide</th>\n      <th>VictimSide</th>\n      <th>AttackerSteamId</th>\n    </tr>\n    <tr>\n      <th>MatchId</th>\n      <th>MapName</th>\n      <th>RoundNum</th>\n      <th>Tick</th>\n      <th></th>\n      <th></th>\n      <th></th>\n      <th></th>\n      <th></th>\n    </tr>\n  </thead>\n  <tbody>\n    <tr>\n      <th rowspan=\"5\" valign=\"top\">Liga-Gamers-Club-2021-Serie-A-April-Cup-santos-vs-sws-bo3</th>\n      <th rowspan=\"5\" valign=\"top\">de_overpass</th>\n      <th rowspan=\"2\" valign=\"top\">1</th>\n      <th>23419</th>\n      <td>True</td>\n      <td>False</td>\n      <td>T</td>\n      <td>CT</td>\n      <td>76561198169934019</td>\n    </tr>\n    <tr>\n      <th>27867</th>\n      <td>False</td>\n      <td>False</td>\n      <td>CT</td>\n      <td>T</td>\n      <td>76561197963277583</td>\n    </tr>\n    <tr>\n      <th>2</th>\n      <th>41686</th>\n      <td>False</td>\n      <td>True</td>\n      <td>T</td>\n      <td>CT</td>\n      <td>76561198148561509</td>\n    </tr>\n    <tr>\n      <th>3</th>\n      <th>59274</th>\n      <td>False</td>\n      <td>True</td>\n      <td>T</td>\n      <td>CT</td>\n      <td>76561198169934019</td>\n    </tr>\n    <tr>\n      <th>4</th>\n      <th>75832</th>\n      <td>False</td>\n      <td>True</td>\n      <td>T</td>\n      <td>CT</td>\n      <td>76561198128804839</td>\n    </tr>\n  </tbody>\n</table>\n</div>"
     },
     "metadata": {},
     "execution_count": 9
    }
   ],
   "source": [
    "bomb_events_df['BombPlantedA'] = (bomb_events_df['BombSite'] == 'A') & (bomb_events_df['BombAction'] == 'plant')\n",
    "bomb_events_df['BombPlantedB'] = (bomb_events_df['BombSite'] == 'B') & (bomb_events_df['BombAction'] == 'plant')\n",
    "bomb_events_df['AttackerSide'] = bomb_events_df['BombAction'].map({'plant': 'T', 'defuse': 'CT'})\n",
    "bomb_events_df['VictimSide'] = bomb_events_df['BombAction'].map({'plant': 'CT', 'defuse': 'T'})\n",
    "bomb_events_df['AttackerSteamId'] = bomb_events_df['PlayerSteamId']\n",
    "\n",
    "bomb_state_df = bomb_events_df.drop(columns=['Second', 'PlayerX', 'PlayerY', 'PlayerZ', 'BombSite', 'PlayerName', 'PlayerTeam', 'BombAction', 'PlayerSteamId'])\n",
    "bomb_state_df.set_index(['MatchId', 'MapName', 'RoundNum', 'Tick'], inplace=True)\n",
    "bomb_state_df.head()"
   ]
  },
  {
   "source": [
    "## Kills and Damage"
   ],
   "cell_type": "markdown",
   "metadata": {}
  },
  {
   "cell_type": "code",
   "execution_count": 10,
   "metadata": {},
   "outputs": [],
   "source": [
    "# Drop C4 kills and damages since those happen when the round ends\n",
    "kills_df = kills_df[kills_df.Weapon != 'C4']\n",
    "damages_df = damages_df[damages_df.Weapon != 'C4']"
   ]
  },
  {
   "cell_type": "code",
   "execution_count": 11,
   "metadata": {},
   "outputs": [
    {
     "output_type": "execute_result",
     "data": {
      "text/plain": [
       "                                             MatchId      MapName  RoundNum  \\\n",
       "0  Liga-Gamers-Club-2021-Serie-A-April-Cup-santos...  de_overpass         1   \n",
       "1  Liga-Gamers-Club-2021-Serie-A-April-Cup-santos...  de_overpass         1   \n",
       "2  Liga-Gamers-Club-2021-Serie-A-April-Cup-santos...  de_overpass         1   \n",
       "3  Liga-Gamers-Club-2021-Serie-A-April-Cup-santos...  de_overpass         1   \n",
       "4  Liga-Gamers-Club-2021-Serie-A-April-Cup-santos...  de_overpass         1   \n",
       "\n",
       "    Tick  AttackerSteamId AttackerSide      VictimSteamId VictimSide  \n",
       "0  20967     7.656120e+16            T  76561198286138224         CT  \n",
       "1  21115     7.656120e+16            T  76561198135228658         CT  \n",
       "2  21259     7.656120e+16           CT  76561198148561509          T  \n",
       "3  21799     7.656120e+16            T  76561198061789000         CT  \n",
       "4  22791     7.656120e+16            T  76561198051070311         CT  "
      ],
      "text/html": "<div>\n<style scoped>\n    .dataframe tbody tr th:only-of-type {\n        vertical-align: middle;\n    }\n\n    .dataframe tbody tr th {\n        vertical-align: top;\n    }\n\n    .dataframe thead th {\n        text-align: right;\n    }\n</style>\n<table border=\"1\" class=\"dataframe\">\n  <thead>\n    <tr style=\"text-align: right;\">\n      <th></th>\n      <th>MatchId</th>\n      <th>MapName</th>\n      <th>RoundNum</th>\n      <th>Tick</th>\n      <th>AttackerSteamId</th>\n      <th>AttackerSide</th>\n      <th>VictimSteamId</th>\n      <th>VictimSide</th>\n    </tr>\n  </thead>\n  <tbody>\n    <tr>\n      <th>0</th>\n      <td>Liga-Gamers-Club-2021-Serie-A-April-Cup-santos...</td>\n      <td>de_overpass</td>\n      <td>1</td>\n      <td>20967</td>\n      <td>7.656120e+16</td>\n      <td>T</td>\n      <td>76561198286138224</td>\n      <td>CT</td>\n    </tr>\n    <tr>\n      <th>1</th>\n      <td>Liga-Gamers-Club-2021-Serie-A-April-Cup-santos...</td>\n      <td>de_overpass</td>\n      <td>1</td>\n      <td>21115</td>\n      <td>7.656120e+16</td>\n      <td>T</td>\n      <td>76561198135228658</td>\n      <td>CT</td>\n    </tr>\n    <tr>\n      <th>2</th>\n      <td>Liga-Gamers-Club-2021-Serie-A-April-Cup-santos...</td>\n      <td>de_overpass</td>\n      <td>1</td>\n      <td>21259</td>\n      <td>7.656120e+16</td>\n      <td>CT</td>\n      <td>76561198148561509</td>\n      <td>T</td>\n    </tr>\n    <tr>\n      <th>3</th>\n      <td>Liga-Gamers-Club-2021-Serie-A-April-Cup-santos...</td>\n      <td>de_overpass</td>\n      <td>1</td>\n      <td>21799</td>\n      <td>7.656120e+16</td>\n      <td>T</td>\n      <td>76561198061789000</td>\n      <td>CT</td>\n    </tr>\n    <tr>\n      <th>4</th>\n      <td>Liga-Gamers-Club-2021-Serie-A-April-Cup-santos...</td>\n      <td>de_overpass</td>\n      <td>1</td>\n      <td>22791</td>\n      <td>7.656120e+16</td>\n      <td>T</td>\n      <td>76561198051070311</td>\n      <td>CT</td>\n    </tr>\n  </tbody>\n</table>\n</div>"
     },
     "metadata": {},
     "execution_count": 11
    }
   ],
   "source": [
    "kills_df = kills_df[['MatchId', 'MapName', 'RoundNum', 'Tick', 'AttackerSteamId', 'AttackerSide', 'VictimSteamId', 'VictimSide']]\n",
    "kills_df.head()"
   ]
  },
  {
   "cell_type": "code",
   "execution_count": 12,
   "metadata": {},
   "outputs": [
    {
     "output_type": "execute_result",
     "data": {
      "text/plain": [
       "                                             MatchId      MapName  RoundNum  \\\n",
       "0  Liga-Gamers-Club-2021-Serie-A-April-Cup-santos...  de_overpass         1   \n",
       "1  Liga-Gamers-Club-2021-Serie-A-April-Cup-santos...  de_overpass         1   \n",
       "2  Liga-Gamers-Club-2021-Serie-A-April-Cup-santos...  de_overpass         1   \n",
       "3  Liga-Gamers-Club-2021-Serie-A-April-Cup-santos...  de_overpass         1   \n",
       "4  Liga-Gamers-Club-2021-Serie-A-April-Cup-santos...  de_overpass         1   \n",
       "\n",
       "    Tick  HpDamageTaken  AttackerSteamId AttackerSide      VictimSteamId  \\\n",
       "0  20943             21     7.656120e+16            T  76561198286138224   \n",
       "1  20967             79     7.656120e+16            T  76561198286138224   \n",
       "2  21115            100     7.656120e+16            T  76561198135228658   \n",
       "3  21259            100     7.656120e+16           CT  76561198148561509   \n",
       "4  21759             11     7.656120e+16            T  76561198061789000   \n",
       "\n",
       "  VictimSide  \n",
       "0         CT  \n",
       "1         CT  \n",
       "2         CT  \n",
       "3          T  \n",
       "4         CT  "
      ],
      "text/html": "<div>\n<style scoped>\n    .dataframe tbody tr th:only-of-type {\n        vertical-align: middle;\n    }\n\n    .dataframe tbody tr th {\n        vertical-align: top;\n    }\n\n    .dataframe thead th {\n        text-align: right;\n    }\n</style>\n<table border=\"1\" class=\"dataframe\">\n  <thead>\n    <tr style=\"text-align: right;\">\n      <th></th>\n      <th>MatchId</th>\n      <th>MapName</th>\n      <th>RoundNum</th>\n      <th>Tick</th>\n      <th>HpDamageTaken</th>\n      <th>AttackerSteamId</th>\n      <th>AttackerSide</th>\n      <th>VictimSteamId</th>\n      <th>VictimSide</th>\n    </tr>\n  </thead>\n  <tbody>\n    <tr>\n      <th>0</th>\n      <td>Liga-Gamers-Club-2021-Serie-A-April-Cup-santos...</td>\n      <td>de_overpass</td>\n      <td>1</td>\n      <td>20943</td>\n      <td>21</td>\n      <td>7.656120e+16</td>\n      <td>T</td>\n      <td>76561198286138224</td>\n      <td>CT</td>\n    </tr>\n    <tr>\n      <th>1</th>\n      <td>Liga-Gamers-Club-2021-Serie-A-April-Cup-santos...</td>\n      <td>de_overpass</td>\n      <td>1</td>\n      <td>20967</td>\n      <td>79</td>\n      <td>7.656120e+16</td>\n      <td>T</td>\n      <td>76561198286138224</td>\n      <td>CT</td>\n    </tr>\n    <tr>\n      <th>2</th>\n      <td>Liga-Gamers-Club-2021-Serie-A-April-Cup-santos...</td>\n      <td>de_overpass</td>\n      <td>1</td>\n      <td>21115</td>\n      <td>100</td>\n      <td>7.656120e+16</td>\n      <td>T</td>\n      <td>76561198135228658</td>\n      <td>CT</td>\n    </tr>\n    <tr>\n      <th>3</th>\n      <td>Liga-Gamers-Club-2021-Serie-A-April-Cup-santos...</td>\n      <td>de_overpass</td>\n      <td>1</td>\n      <td>21259</td>\n      <td>100</td>\n      <td>7.656120e+16</td>\n      <td>CT</td>\n      <td>76561198148561509</td>\n      <td>T</td>\n    </tr>\n    <tr>\n      <th>4</th>\n      <td>Liga-Gamers-Club-2021-Serie-A-April-Cup-santos...</td>\n      <td>de_overpass</td>\n      <td>1</td>\n      <td>21759</td>\n      <td>11</td>\n      <td>7.656120e+16</td>\n      <td>T</td>\n      <td>76561198061789000</td>\n      <td>CT</td>\n    </tr>\n  </tbody>\n</table>\n</div>"
     },
     "metadata": {},
     "execution_count": 12
    }
   ],
   "source": [
    "damages_df = damages_df[['MatchId', 'MapName', 'RoundNum', 'Tick', 'HpDamageTaken', 'AttackerSteamId', 'AttackerSide', 'VictimSteamId', 'VictimSide']]\n",
    "damages_df.head()"
   ]
  },
  {
   "source": [
    "# Combine simultaneous instances of damage from the same player to the same player\n",
    "kills_damage_key = ['MatchId', 'MapName', 'RoundNum', 'Tick', 'AttackerSteamId', 'AttackerSide', 'VictimSteamId', 'VictimSide']\n",
    "damages_df = damages_df.groupby(kills_damage_key, as_index=False).sum()\n",
    "damages_df['HpDamageTaken'] = damages_df.HpDamageTaken.apply(lambda x: min([x, 100]))  # Bugged/laggy damages instances > 100 (shouldn't be possible)\n"
   ],
   "cell_type": "code",
   "metadata": {},
   "execution_count": 13,
   "outputs": []
  },
  {
   "cell_type": "code",
   "execution_count": 14,
   "metadata": {},
   "outputs": [],
   "source": [
    "# Check that all kills have a corresponding damage event\n",
    "inner_merge_df = kills_df.merge(damages_df, on=kills_damage_key)\n",
    "\n",
    "if len(inner_merge_df) != len(kills_df):\n",
    "    raise ValueError(f'{len(inner_merge_df)} kills have corresponding damage event, {len(kills_df)} kills in total')"
   ]
  },
  {
   "source": [
    "### Merging kills into damage"
   ],
   "cell_type": "markdown",
   "metadata": {}
  },
  {
   "cell_type": "code",
   "execution_count": 15,
   "metadata": {},
   "outputs": [
    {
     "output_type": "execute_result",
     "data": {
      "text/plain": [
       "                                             MatchId     MapName  RoundNum  \\\n",
       "0  DreamHack-Masters-Spring-2021-astralis-vs-comp...  de_inferno         1   \n",
       "1  DreamHack-Masters-Spring-2021-astralis-vs-comp...  de_inferno         1   \n",
       "2  DreamHack-Masters-Spring-2021-astralis-vs-comp...  de_inferno         1   \n",
       "3  DreamHack-Masters-Spring-2021-astralis-vs-comp...  de_inferno         1   \n",
       "4  DreamHack-Masters-Spring-2021-astralis-vs-comp...  de_inferno         1   \n",
       "\n",
       "   Tick  AttackerSteamId AttackerSide      VictimSteamId VictimSide  \\\n",
       "0  6431     7.656120e+16           CT  76561198131369187          T   \n",
       "1  6499     7.656120e+16           CT  76561198131369187          T   \n",
       "2  6522     7.656120e+16           CT  76561198131369187          T   \n",
       "3  6543     7.656120e+16           CT  76561198131369187          T   \n",
       "4  6646     7.656120e+16            T  76561198023592320         CT   \n",
       "\n",
       "   HpDamageTaken  IsKill  \n",
       "0             16   False  \n",
       "1             16   False  \n",
       "2             20   False  \n",
       "3             48    True  \n",
       "4             12   False  "
      ],
      "text/html": "<div>\n<style scoped>\n    .dataframe tbody tr th:only-of-type {\n        vertical-align: middle;\n    }\n\n    .dataframe tbody tr th {\n        vertical-align: top;\n    }\n\n    .dataframe thead th {\n        text-align: right;\n    }\n</style>\n<table border=\"1\" class=\"dataframe\">\n  <thead>\n    <tr style=\"text-align: right;\">\n      <th></th>\n      <th>MatchId</th>\n      <th>MapName</th>\n      <th>RoundNum</th>\n      <th>Tick</th>\n      <th>AttackerSteamId</th>\n      <th>AttackerSide</th>\n      <th>VictimSteamId</th>\n      <th>VictimSide</th>\n      <th>HpDamageTaken</th>\n      <th>IsKill</th>\n    </tr>\n  </thead>\n  <tbody>\n    <tr>\n      <th>0</th>\n      <td>DreamHack-Masters-Spring-2021-astralis-vs-comp...</td>\n      <td>de_inferno</td>\n      <td>1</td>\n      <td>6431</td>\n      <td>7.656120e+16</td>\n      <td>CT</td>\n      <td>76561198131369187</td>\n      <td>T</td>\n      <td>16</td>\n      <td>False</td>\n    </tr>\n    <tr>\n      <th>1</th>\n      <td>DreamHack-Masters-Spring-2021-astralis-vs-comp...</td>\n      <td>de_inferno</td>\n      <td>1</td>\n      <td>6499</td>\n      <td>7.656120e+16</td>\n      <td>CT</td>\n      <td>76561198131369187</td>\n      <td>T</td>\n      <td>16</td>\n      <td>False</td>\n    </tr>\n    <tr>\n      <th>2</th>\n      <td>DreamHack-Masters-Spring-2021-astralis-vs-comp...</td>\n      <td>de_inferno</td>\n      <td>1</td>\n      <td>6522</td>\n      <td>7.656120e+16</td>\n      <td>CT</td>\n      <td>76561198131369187</td>\n      <td>T</td>\n      <td>20</td>\n      <td>False</td>\n    </tr>\n    <tr>\n      <th>3</th>\n      <td>DreamHack-Masters-Spring-2021-astralis-vs-comp...</td>\n      <td>de_inferno</td>\n      <td>1</td>\n      <td>6543</td>\n      <td>7.656120e+16</td>\n      <td>CT</td>\n      <td>76561198131369187</td>\n      <td>T</td>\n      <td>48</td>\n      <td>True</td>\n    </tr>\n    <tr>\n      <th>4</th>\n      <td>DreamHack-Masters-Spring-2021-astralis-vs-comp...</td>\n      <td>de_inferno</td>\n      <td>1</td>\n      <td>6646</td>\n      <td>7.656120e+16</td>\n      <td>T</td>\n      <td>76561198023592320</td>\n      <td>CT</td>\n      <td>12</td>\n      <td>False</td>\n    </tr>\n  </tbody>\n</table>\n</div>"
     },
     "metadata": {},
     "execution_count": 15
    }
   ],
   "source": [
    "kills_df['IsKill'] = True\n",
    "damages_df = pd.merge(damages_df, kills_df, how='left', on=kills_damage_key, validate='one_to_one')\n",
    "damages_df['IsKill'].fillna(False, inplace=True)\n",
    "damages_df.head()"
   ]
  },
  {
   "cell_type": "code",
   "execution_count": 16,
   "metadata": {},
   "outputs": [],
   "source": [
    "# TODO: Make sure this accounts for kills that don't deal damage (suicide/disconnect/fall off on vertigo)\n",
    "\n",
    "def count_alive_and_damage(round_df):\n",
    "    round_df.sort_values('Tick', inplace=True)\n",
    "\n",
    "    # Tally kills to get number of players alive\n",
    "    round_df['TKilled'] = (round_df.IsKill) & (round_df.VictimSide == 'T')\n",
    "    round_df['CTKilled'] = (round_df.IsKill) & (round_df.VictimSide == 'CT')\n",
    "    round_df['TAlive'] = 5 - round_df.TKilled.cumsum()\n",
    "    round_df['CTAlive'] = 5 - round_df.CTKilled.cumsum()\n",
    "    \n",
    "    # Tally damage to get total team HP\n",
    "    round_df['TDamaged'] = (round_df.VictimSide == 'T') * round_df.HpDamageTaken\n",
    "    round_df['CTDamaged'] = (round_df.VictimSide == 'CT') * round_df.HpDamageTaken\n",
    "    round_df['TTotalHp'] = 500 - round_df.TDamaged.cumsum()\n",
    "    round_df['CTTotalHp'] = 500 - round_df.CTDamaged.cumsum()\n",
    "\n",
    "    round_df.drop(['IsKill', 'TKilled', 'CTKilled', 'TDamaged', 'CTDamaged', 'HpDamageTaken'], axis=1, inplace=True)\n",
    "    return round_df\n",
    "\n",
    "damages_kills_state_df = damages_df.groupby(['MatchId', 'MapName', 'RoundNum']).apply(count_alive_and_damage)\n",
    "damages_kills_state_df.set_index(['MatchId', 'MapName', 'RoundNum', 'Tick'], inplace=True)"
   ]
  },
  {
   "cell_type": "code",
   "execution_count": 17,
   "metadata": {},
   "outputs": [
    {
     "output_type": "execute_result",
     "data": {
      "text/plain": [
       "       AttackerSteamId  VictimSteamId        TAlive       CTAlive  \\\n",
       "count     1.366500e+04   1.366500e+04  13665.000000  13665.000000   \n",
       "mean      7.656120e+16   7.656120e+16      3.487742      3.672155   \n",
       "std       9.665196e+07   1.073250e+08      1.390000      1.325674   \n",
       "min       7.656120e+16   7.656120e+16      0.000000      0.000000   \n",
       "25%       7.656120e+16   7.656120e+16      2.000000      3.000000   \n",
       "50%       7.656120e+16   7.656120e+16      4.000000      4.000000   \n",
       "75%       7.656120e+16   7.656120e+16      5.000000      5.000000   \n",
       "max       7.656120e+16   7.656120e+16      5.000000      5.000000   \n",
       "\n",
       "           TTotalHp     CTTotalHp  \n",
       "count  13665.000000  13665.000000  \n",
       "mean     294.964727    326.728357  \n",
       "std      142.819717    138.162873  \n",
       "min      -35.000000    -34.000000  \n",
       "25%      185.000000    223.000000  \n",
       "50%      304.000000    353.000000  \n",
       "75%      408.000000    448.000000  \n",
       "max      500.000000    500.000000  "
      ],
      "text/html": "<div>\n<style scoped>\n    .dataframe tbody tr th:only-of-type {\n        vertical-align: middle;\n    }\n\n    .dataframe tbody tr th {\n        vertical-align: top;\n    }\n\n    .dataframe thead th {\n        text-align: right;\n    }\n</style>\n<table border=\"1\" class=\"dataframe\">\n  <thead>\n    <tr style=\"text-align: right;\">\n      <th></th>\n      <th>AttackerSteamId</th>\n      <th>VictimSteamId</th>\n      <th>TAlive</th>\n      <th>CTAlive</th>\n      <th>TTotalHp</th>\n      <th>CTTotalHp</th>\n    </tr>\n  </thead>\n  <tbody>\n    <tr>\n      <th>count</th>\n      <td>1.366500e+04</td>\n      <td>1.366500e+04</td>\n      <td>13665.000000</td>\n      <td>13665.000000</td>\n      <td>13665.000000</td>\n      <td>13665.000000</td>\n    </tr>\n    <tr>\n      <th>mean</th>\n      <td>7.656120e+16</td>\n      <td>7.656120e+16</td>\n      <td>3.487742</td>\n      <td>3.672155</td>\n      <td>294.964727</td>\n      <td>326.728357</td>\n    </tr>\n    <tr>\n      <th>std</th>\n      <td>9.665196e+07</td>\n      <td>1.073250e+08</td>\n      <td>1.390000</td>\n      <td>1.325674</td>\n      <td>142.819717</td>\n      <td>138.162873</td>\n    </tr>\n    <tr>\n      <th>min</th>\n      <td>7.656120e+16</td>\n      <td>7.656120e+16</td>\n      <td>0.000000</td>\n      <td>0.000000</td>\n      <td>-35.000000</td>\n      <td>-34.000000</td>\n    </tr>\n    <tr>\n      <th>25%</th>\n      <td>7.656120e+16</td>\n      <td>7.656120e+16</td>\n      <td>2.000000</td>\n      <td>3.000000</td>\n      <td>185.000000</td>\n      <td>223.000000</td>\n    </tr>\n    <tr>\n      <th>50%</th>\n      <td>7.656120e+16</td>\n      <td>7.656120e+16</td>\n      <td>4.000000</td>\n      <td>4.000000</td>\n      <td>304.000000</td>\n      <td>353.000000</td>\n    </tr>\n    <tr>\n      <th>75%</th>\n      <td>7.656120e+16</td>\n      <td>7.656120e+16</td>\n      <td>5.000000</td>\n      <td>5.000000</td>\n      <td>408.000000</td>\n      <td>448.000000</td>\n    </tr>\n    <tr>\n      <th>max</th>\n      <td>7.656120e+16</td>\n      <td>7.656120e+16</td>\n      <td>5.000000</td>\n      <td>5.000000</td>\n      <td>500.000000</td>\n      <td>500.000000</td>\n    </tr>\n  </tbody>\n</table>\n</div>"
     },
     "metadata": {},
     "execution_count": 17
    }
   ],
   "source": [
    "# Make sure data looks good\n",
    "damages_kills_state_df.describe()"
   ]
  },
  {
   "cell_type": "code",
   "execution_count": 18,
   "metadata": {},
   "outputs": [
    {
     "output_type": "execute_result",
     "data": {
      "text/plain": [
       "('DreamHack-Masters-Spring-2021-astralis-vs-complexity-bo3',\n",
       " 'de_vertigo',\n",
       " 'RoundNum')"
      ]
     },
     "metadata": {},
     "execution_count": 18
    }
   ],
   "source": [
    "'DreamHack-Masters-Spring-2021-astralis-vs-complexity-bo3', 'de_vertigo', 'RoundNum'"
   ]
  },
  {
   "source": [
    "## Player Positions"
   ],
   "cell_type": "markdown",
   "metadata": {}
  },
  {
   "cell_type": "code",
   "execution_count": 19,
   "metadata": {},
   "outputs": [
    {
     "output_type": "execute_result",
     "data": {
      "text/plain": [
       "                                             MatchId      MapName  RoundNum  \\\n",
       "0  Liga-Gamers-Club-2021-Serie-A-April-Cup-santos...  de_overpass         1   \n",
       "1  Liga-Gamers-Club-2021-Serie-A-April-Cup-santos...  de_overpass         1   \n",
       "2  Liga-Gamers-Club-2021-Serie-A-April-Cup-santos...  de_overpass         1   \n",
       "3  Liga-Gamers-Club-2021-Serie-A-April-Cup-santos...  de_overpass         1   \n",
       "4  Liga-Gamers-Club-2021-Serie-A-April-Cup-santos...  de_overpass         1   \n",
       "\n",
       "    Tick   Second Side    TeamName     PlayerName      PlayerSteamId  \\\n",
       "0  16046  1.96875   CT  SWS Gaming     ★ ㉑ gafolo  76561198135228658   \n",
       "1  16046  1.96875   CT  SWS Gaming     ★ ㉑ matios  76561197963277583   \n",
       "2  16046  1.96875   CT  SWS Gaming    ★ ㉑ RICIOLI  76561198061789000   \n",
       "3  16046  1.96875   CT  SWS Gaming  ★ ㉑ BGalvao90  76561198286138224   \n",
       "4  16046  1.96875   CT  SWS Gaming        ★ ㉑ phx  76561198051070311   \n",
       "\n",
       "             X  ...  IsFlashed  IsAirborne  IsDucking  IsScoped  IsWalking  \\\n",
       "0 -1850.647949  ...      False        True      False     False      False   \n",
       "1 -1960.101440  ...      False       False      False     False      False   \n",
       "2 -2513.387451  ...      False       False      False     False      False   \n",
       "3 -1902.988892  ...      False       False      False     False      False   \n",
       "4 -2005.056274  ...      False       False      False     False      False   \n",
       "\n",
       "   EqValue  HasHelmet  HasDefuse  DistToBombsiteA  DistToBombsiteB  \n",
       "0      850      False      False               28               36  \n",
       "1      900      False       True               13               39  \n",
       "2      850      False      False                9               59  \n",
       "3      850      False      False               14               40  \n",
       "4      900      False      False               13               41  \n",
       "\n",
       "[5 rows x 28 columns]"
      ],
      "text/html": "<div>\n<style scoped>\n    .dataframe tbody tr th:only-of-type {\n        vertical-align: middle;\n    }\n\n    .dataframe tbody tr th {\n        vertical-align: top;\n    }\n\n    .dataframe thead th {\n        text-align: right;\n    }\n</style>\n<table border=\"1\" class=\"dataframe\">\n  <thead>\n    <tr style=\"text-align: right;\">\n      <th></th>\n      <th>MatchId</th>\n      <th>MapName</th>\n      <th>RoundNum</th>\n      <th>Tick</th>\n      <th>Second</th>\n      <th>Side</th>\n      <th>TeamName</th>\n      <th>PlayerName</th>\n      <th>PlayerSteamId</th>\n      <th>X</th>\n      <th>...</th>\n      <th>IsFlashed</th>\n      <th>IsAirborne</th>\n      <th>IsDucking</th>\n      <th>IsScoped</th>\n      <th>IsWalking</th>\n      <th>EqValue</th>\n      <th>HasHelmet</th>\n      <th>HasDefuse</th>\n      <th>DistToBombsiteA</th>\n      <th>DistToBombsiteB</th>\n    </tr>\n  </thead>\n  <tbody>\n    <tr>\n      <th>0</th>\n      <td>Liga-Gamers-Club-2021-Serie-A-April-Cup-santos...</td>\n      <td>de_overpass</td>\n      <td>1</td>\n      <td>16046</td>\n      <td>1.96875</td>\n      <td>CT</td>\n      <td>SWS Gaming</td>\n      <td>★ ㉑ gafolo</td>\n      <td>76561198135228658</td>\n      <td>-1850.647949</td>\n      <td>...</td>\n      <td>False</td>\n      <td>True</td>\n      <td>False</td>\n      <td>False</td>\n      <td>False</td>\n      <td>850</td>\n      <td>False</td>\n      <td>False</td>\n      <td>28</td>\n      <td>36</td>\n    </tr>\n    <tr>\n      <th>1</th>\n      <td>Liga-Gamers-Club-2021-Serie-A-April-Cup-santos...</td>\n      <td>de_overpass</td>\n      <td>1</td>\n      <td>16046</td>\n      <td>1.96875</td>\n      <td>CT</td>\n      <td>SWS Gaming</td>\n      <td>★ ㉑ matios</td>\n      <td>76561197963277583</td>\n      <td>-1960.101440</td>\n      <td>...</td>\n      <td>False</td>\n      <td>False</td>\n      <td>False</td>\n      <td>False</td>\n      <td>False</td>\n      <td>900</td>\n      <td>False</td>\n      <td>True</td>\n      <td>13</td>\n      <td>39</td>\n    </tr>\n    <tr>\n      <th>2</th>\n      <td>Liga-Gamers-Club-2021-Serie-A-April-Cup-santos...</td>\n      <td>de_overpass</td>\n      <td>1</td>\n      <td>16046</td>\n      <td>1.96875</td>\n      <td>CT</td>\n      <td>SWS Gaming</td>\n      <td>★ ㉑ RICIOLI</td>\n      <td>76561198061789000</td>\n      <td>-2513.387451</td>\n      <td>...</td>\n      <td>False</td>\n      <td>False</td>\n      <td>False</td>\n      <td>False</td>\n      <td>False</td>\n      <td>850</td>\n      <td>False</td>\n      <td>False</td>\n      <td>9</td>\n      <td>59</td>\n    </tr>\n    <tr>\n      <th>3</th>\n      <td>Liga-Gamers-Club-2021-Serie-A-April-Cup-santos...</td>\n      <td>de_overpass</td>\n      <td>1</td>\n      <td>16046</td>\n      <td>1.96875</td>\n      <td>CT</td>\n      <td>SWS Gaming</td>\n      <td>★ ㉑ BGalvao90</td>\n      <td>76561198286138224</td>\n      <td>-1902.988892</td>\n      <td>...</td>\n      <td>False</td>\n      <td>False</td>\n      <td>False</td>\n      <td>False</td>\n      <td>False</td>\n      <td>850</td>\n      <td>False</td>\n      <td>False</td>\n      <td>14</td>\n      <td>40</td>\n    </tr>\n    <tr>\n      <th>4</th>\n      <td>Liga-Gamers-Club-2021-Serie-A-April-Cup-santos...</td>\n      <td>de_overpass</td>\n      <td>1</td>\n      <td>16046</td>\n      <td>1.96875</td>\n      <td>CT</td>\n      <td>SWS Gaming</td>\n      <td>★ ㉑ phx</td>\n      <td>76561198051070311</td>\n      <td>-2005.056274</td>\n      <td>...</td>\n      <td>False</td>\n      <td>False</td>\n      <td>False</td>\n      <td>False</td>\n      <td>False</td>\n      <td>900</td>\n      <td>False</td>\n      <td>False</td>\n      <td>13</td>\n      <td>41</td>\n    </tr>\n  </tbody>\n</table>\n<p>5 rows × 28 columns</p>\n</div>"
     },
     "metadata": {},
     "execution_count": 19
    }
   ],
   "source": [
    "player_frames_df.head()"
   ]
  },
  {
   "cell_type": "code",
   "execution_count": 20,
   "metadata": {},
   "outputs": [
    {
     "output_type": "execute_result",
     "data": {
      "text/plain": [
       "                                             MatchId      MapName  \\\n",
       "0  Liga-Gamers-Club-2021-Serie-A-April-Cup-santos...  de_overpass   \n",
       "1  Liga-Gamers-Club-2021-Serie-A-April-Cup-santos...  de_overpass   \n",
       "2  Liga-Gamers-Club-2021-Serie-A-April-Cup-santos...  de_overpass   \n",
       "3  Liga-Gamers-Club-2021-Serie-A-April-Cup-santos...  de_overpass   \n",
       "4  Liga-Gamers-Club-2021-Serie-A-April-Cup-santos...  de_overpass   \n",
       "\n",
       "       PlayerSteamId  RoundNum   Tick Side  HasDefuse  DistToBombsiteA  \\\n",
       "0  76561198135228658         1  16046   CT      False               28   \n",
       "1  76561197963277583         1  16046   CT       True               13   \n",
       "2  76561198061789000         1  16046   CT      False                9   \n",
       "3  76561198286138224         1  16046   CT      False               14   \n",
       "4  76561198051070311         1  16046   CT      False               13   \n",
       "\n",
       "   DistToBombsiteB  \n",
       "0               36  \n",
       "1               39  \n",
       "2               59  \n",
       "3               40  \n",
       "4               41  "
      ],
      "text/html": "<div>\n<style scoped>\n    .dataframe tbody tr th:only-of-type {\n        vertical-align: middle;\n    }\n\n    .dataframe tbody tr th {\n        vertical-align: top;\n    }\n\n    .dataframe thead th {\n        text-align: right;\n    }\n</style>\n<table border=\"1\" class=\"dataframe\">\n  <thead>\n    <tr style=\"text-align: right;\">\n      <th></th>\n      <th>MatchId</th>\n      <th>MapName</th>\n      <th>PlayerSteamId</th>\n      <th>RoundNum</th>\n      <th>Tick</th>\n      <th>Side</th>\n      <th>HasDefuse</th>\n      <th>DistToBombsiteA</th>\n      <th>DistToBombsiteB</th>\n    </tr>\n  </thead>\n  <tbody>\n    <tr>\n      <th>0</th>\n      <td>Liga-Gamers-Club-2021-Serie-A-April-Cup-santos...</td>\n      <td>de_overpass</td>\n      <td>76561198135228658</td>\n      <td>1</td>\n      <td>16046</td>\n      <td>CT</td>\n      <td>False</td>\n      <td>28</td>\n      <td>36</td>\n    </tr>\n    <tr>\n      <th>1</th>\n      <td>Liga-Gamers-Club-2021-Serie-A-April-Cup-santos...</td>\n      <td>de_overpass</td>\n      <td>76561197963277583</td>\n      <td>1</td>\n      <td>16046</td>\n      <td>CT</td>\n      <td>True</td>\n      <td>13</td>\n      <td>39</td>\n    </tr>\n    <tr>\n      <th>2</th>\n      <td>Liga-Gamers-Club-2021-Serie-A-April-Cup-santos...</td>\n      <td>de_overpass</td>\n      <td>76561198061789000</td>\n      <td>1</td>\n      <td>16046</td>\n      <td>CT</td>\n      <td>False</td>\n      <td>9</td>\n      <td>59</td>\n    </tr>\n    <tr>\n      <th>3</th>\n      <td>Liga-Gamers-Club-2021-Serie-A-April-Cup-santos...</td>\n      <td>de_overpass</td>\n      <td>76561198286138224</td>\n      <td>1</td>\n      <td>16046</td>\n      <td>CT</td>\n      <td>False</td>\n      <td>14</td>\n      <td>40</td>\n    </tr>\n    <tr>\n      <th>4</th>\n      <td>Liga-Gamers-Club-2021-Serie-A-April-Cup-santos...</td>\n      <td>de_overpass</td>\n      <td>76561198051070311</td>\n      <td>1</td>\n      <td>16046</td>\n      <td>CT</td>\n      <td>False</td>\n      <td>13</td>\n      <td>41</td>\n    </tr>\n  </tbody>\n</table>\n</div>"
     },
     "metadata": {},
     "execution_count": 20
    }
   ],
   "source": [
    "player_frames_df = player_frames_df[['MatchId', 'MapName', 'PlayerSteamId', 'RoundNum', 'Tick', 'Side', 'HasDefuse', 'DistToBombsiteA', 'DistToBombsiteB']]\n",
    "player_frames_df.head()"
   ]
  },
  {
   "cell_type": "code",
   "execution_count": 21,
   "metadata": {
    "tags": []
   },
   "outputs": [],
   "source": [
    "player_frames_df.drop('PlayerSteamId', axis=1, inplace=True)\n",
    "t_player_frames_df = player_frames_df[player_frames_df.Side == 'T'].drop(['Side', 'HasDefuse'], axis=1)  # Only Counter-Terrorists can buy defuse kits\n",
    "ct_player_frames_df = player_frames_df[player_frames_df.Side == 'CT'].drop('Side', axis=1)\n",
    "\n",
    "t_frames_df = t_player_frames_df.groupby(['MatchId', 'MapName', 'RoundNum', 'Tick']).aggregate({'DistToBombsiteA': 'min', 'DistToBombsiteB': 'min'})\n",
    "ct_frames_df = ct_player_frames_df.groupby(['MatchId', 'MapName', 'RoundNum', 'Tick']).aggregate({'DistToBombsiteA': 'min', 'DistToBombsiteB': 'min'})\n",
    "t_frames_df.columns = ['ClosestDistToA', 'ClosestDistToB']\n",
    "ct_frames_df.columns = ['ClosestDistToA', 'ClosestDistToB']\n",
    "\n",
    "def lag_distance(df):\n",
    "    df.sort_values('Tick', inplace=True)\n",
    "    df['ChangeClosestDistToA'] = df['ClosestDistToA'] - df['ClosestDistToA'].shift(1)\n",
    "    df['ChangeClosestDistToB'] = df['ClosestDistToB'] - df['ClosestDistToB'].shift(1)\n",
    "    df['ChangeClosestDistToA'][0] = 0\n",
    "    df['ChangeClosestDistToB'][0] = 0\n",
    "    return df\n",
    "\n",
    "t_frames_df = t_frames_df.groupby(['MatchId', 'MapName', 'RoundNum']).apply(lag_distance)\n",
    "ct_frames_df = ct_frames_df.groupby(['MatchId', 'MapName', 'RoundNum']).apply(lag_distance)\n",
    "\n",
    "position_state_df = pd.merge(t_frames_df, ct_frames_df, 'outer', ['MatchId', 'MapName', 'RoundNum', 'Tick'], suffixes=('_T', '_CT'), validate='one_to_one')\n"
   ]
  },
  {
   "cell_type": "code",
   "execution_count": 22,
   "metadata": {},
   "outputs": [
    {
     "output_type": "execute_result",
     "data": {
      "text/plain": [
       "                                                                             ClosestDistToA_T  \\\n",
       "MatchId                                            MapName    RoundNum Tick                     \n",
       "DreamHack-Masters-Spring-2021-astralis-vs-compl... de_inferno 1        3740                51   \n",
       "                                                                       3869                46   \n",
       "                                                                       3998                43   \n",
       "                                                                       4127                39   \n",
       "                                                                       4256                37   \n",
       "                                                                       4385                34   \n",
       "                                                                       4514                31   \n",
       "                                                                       4643                31   \n",
       "                                                                       4772                28   \n",
       "                                                                       4901                27   \n",
       "                                                                       5030                25   \n",
       "                                                                       5159                24   \n",
       "                                                                       5288                22   \n",
       "                                                                       5417                21   \n",
       "                                                                       5546                21   \n",
       "                                                                       5675                20   \n",
       "                                                                       5804                19   \n",
       "                                                                       5933                19   \n",
       "                                                                       6062                19   \n",
       "                                                                       6191                20   \n",
       "\n",
       "                                                                             ClosestDistToB_T  \\\n",
       "MatchId                                            MapName    RoundNum Tick                     \n",
       "DreamHack-Masters-Spring-2021-astralis-vs-compl... de_inferno 1        3740                42   \n",
       "                                                                       3869                37   \n",
       "                                                                       3998                34   \n",
       "                                                                       4127                30   \n",
       "                                                                       4256                28   \n",
       "                                                                       4385                25   \n",
       "                                                                       4514                22   \n",
       "                                                                       4643                21   \n",
       "                                                                       4772                19   \n",
       "                                                                       4901                23   \n",
       "                                                                       5030                23   \n",
       "                                                                       5159                25   \n",
       "                                                                       5288                25   \n",
       "                                                                       5417                26   \n",
       "                                                                       5546                26   \n",
       "                                                                       5675                27   \n",
       "                                                                       5804                28   \n",
       "                                                                       5933                28   \n",
       "                                                                       6062                28   \n",
       "                                                                       6191                27   \n",
       "\n",
       "                                                                             ChangeClosestDistToA_T  \\\n",
       "MatchId                                            MapName    RoundNum Tick                           \n",
       "DreamHack-Masters-Spring-2021-astralis-vs-compl... de_inferno 1        3740                     0.0   \n",
       "                                                                       3869                    -5.0   \n",
       "                                                                       3998                    -3.0   \n",
       "                                                                       4127                    -4.0   \n",
       "                                                                       4256                    -2.0   \n",
       "                                                                       4385                    -3.0   \n",
       "                                                                       4514                    -3.0   \n",
       "                                                                       4643                     0.0   \n",
       "                                                                       4772                    -3.0   \n",
       "                                                                       4901                    -1.0   \n",
       "                                                                       5030                    -2.0   \n",
       "                                                                       5159                    -1.0   \n",
       "                                                                       5288                    -2.0   \n",
       "                                                                       5417                    -1.0   \n",
       "                                                                       5546                     0.0   \n",
       "                                                                       5675                    -1.0   \n",
       "                                                                       5804                    -1.0   \n",
       "                                                                       5933                     0.0   \n",
       "                                                                       6062                     0.0   \n",
       "                                                                       6191                     1.0   \n",
       "\n",
       "                                                                             ChangeClosestDistToB_T  \\\n",
       "MatchId                                            MapName    RoundNum Tick                           \n",
       "DreamHack-Masters-Spring-2021-astralis-vs-compl... de_inferno 1        3740                     0.0   \n",
       "                                                                       3869                    -5.0   \n",
       "                                                                       3998                    -3.0   \n",
       "                                                                       4127                    -4.0   \n",
       "                                                                       4256                    -2.0   \n",
       "                                                                       4385                    -3.0   \n",
       "                                                                       4514                    -3.0   \n",
       "                                                                       4643                    -1.0   \n",
       "                                                                       4772                    -2.0   \n",
       "                                                                       4901                     4.0   \n",
       "                                                                       5030                     0.0   \n",
       "                                                                       5159                     2.0   \n",
       "                                                                       5288                     0.0   \n",
       "                                                                       5417                     1.0   \n",
       "                                                                       5546                     0.0   \n",
       "                                                                       5675                     1.0   \n",
       "                                                                       5804                     1.0   \n",
       "                                                                       5933                     0.0   \n",
       "                                                                       6062                     0.0   \n",
       "                                                                       6191                    -1.0   \n",
       "\n",
       "                                                                             ClosestDistToA_CT  \\\n",
       "MatchId                                            MapName    RoundNum Tick                      \n",
       "DreamHack-Masters-Spring-2021-astralis-vs-compl... de_inferno 1        3740                 19   \n",
       "                                                                       3869                 17   \n",
       "                                                                       3998                 10   \n",
       "                                                                       4127                  8   \n",
       "                                                                       4256                  6   \n",
       "                                                                       4385                  4   \n",
       "                                                                       4514                  2   \n",
       "                                                                       4643                  3   \n",
       "                                                                       4772                  3   \n",
       "                                                                       4901                  6   \n",
       "                                                                       5030                  9   \n",
       "                                                                       5159                 10   \n",
       "                                                                       5288                 10   \n",
       "                                                                       5417                 10   \n",
       "                                                                       5546                 10   \n",
       "                                                                       5675                 10   \n",
       "                                                                       5804                 10   \n",
       "                                                                       5933                 10   \n",
       "                                                                       6062                 10   \n",
       "                                                                       6191                 10   \n",
       "\n",
       "                                                                             ClosestDistToB_CT  \\\n",
       "MatchId                                            MapName    RoundNum Tick                      \n",
       "DreamHack-Masters-Spring-2021-astralis-vs-compl... de_inferno 1        3740                 15   \n",
       "                                                                       3869                 14   \n",
       "                                                                       3998                 12   \n",
       "                                                                       4127                 17   \n",
       "                                                                       4256                 13   \n",
       "                                                                       4385                 16   \n",
       "                                                                       4514                  8   \n",
       "                                                                       4643                  7   \n",
       "                                                                       4772                  5   \n",
       "                                                                       4901                  2   \n",
       "                                                                       5030                  3   \n",
       "                                                                       5159                  6   \n",
       "                                                                       5288                  8   \n",
       "                                                                       5417                  8   \n",
       "                                                                       5546                  8   \n",
       "                                                                       5675                 10   \n",
       "                                                                       5804                  9   \n",
       "                                                                       5933                 10   \n",
       "                                                                       6062                 10   \n",
       "                                                                       6191                 10   \n",
       "\n",
       "                                                                             ChangeClosestDistToA_CT  \\\n",
       "MatchId                                            MapName    RoundNum Tick                            \n",
       "DreamHack-Masters-Spring-2021-astralis-vs-compl... de_inferno 1        3740                      0.0   \n",
       "                                                                       3869                     -2.0   \n",
       "                                                                       3998                     -7.0   \n",
       "                                                                       4127                     -2.0   \n",
       "                                                                       4256                     -2.0   \n",
       "                                                                       4385                     -2.0   \n",
       "                                                                       4514                     -2.0   \n",
       "                                                                       4643                      1.0   \n",
       "                                                                       4772                      0.0   \n",
       "                                                                       4901                      3.0   \n",
       "                                                                       5030                      3.0   \n",
       "                                                                       5159                      1.0   \n",
       "                                                                       5288                      0.0   \n",
       "                                                                       5417                      0.0   \n",
       "                                                                       5546                      0.0   \n",
       "                                                                       5675                      0.0   \n",
       "                                                                       5804                      0.0   \n",
       "                                                                       5933                      0.0   \n",
       "                                                                       6062                      0.0   \n",
       "                                                                       6191                      0.0   \n",
       "\n",
       "                                                                             ChangeClosestDistToB_CT  \n",
       "MatchId                                            MapName    RoundNum Tick                           \n",
       "DreamHack-Masters-Spring-2021-astralis-vs-compl... de_inferno 1        3740                      0.0  \n",
       "                                                                       3869                     -1.0  \n",
       "                                                                       3998                     -2.0  \n",
       "                                                                       4127                      5.0  \n",
       "                                                                       4256                     -4.0  \n",
       "                                                                       4385                      3.0  \n",
       "                                                                       4514                     -8.0  \n",
       "                                                                       4643                     -1.0  \n",
       "                                                                       4772                     -2.0  \n",
       "                                                                       4901                     -3.0  \n",
       "                                                                       5030                      1.0  \n",
       "                                                                       5159                      3.0  \n",
       "                                                                       5288                      2.0  \n",
       "                                                                       5417                      0.0  \n",
       "                                                                       5546                      0.0  \n",
       "                                                                       5675                      2.0  \n",
       "                                                                       5804                     -1.0  \n",
       "                                                                       5933                      1.0  \n",
       "                                                                       6062                      0.0  \n",
       "                                                                       6191                      0.0  "
      ],
      "text/html": "<div>\n<style scoped>\n    .dataframe tbody tr th:only-of-type {\n        vertical-align: middle;\n    }\n\n    .dataframe tbody tr th {\n        vertical-align: top;\n    }\n\n    .dataframe thead th {\n        text-align: right;\n    }\n</style>\n<table border=\"1\" class=\"dataframe\">\n  <thead>\n    <tr style=\"text-align: right;\">\n      <th></th>\n      <th></th>\n      <th></th>\n      <th></th>\n      <th>ClosestDistToA_T</th>\n      <th>ClosestDistToB_T</th>\n      <th>ChangeClosestDistToA_T</th>\n      <th>ChangeClosestDistToB_T</th>\n      <th>ClosestDistToA_CT</th>\n      <th>ClosestDistToB_CT</th>\n      <th>ChangeClosestDistToA_CT</th>\n      <th>ChangeClosestDistToB_CT</th>\n    </tr>\n    <tr>\n      <th>MatchId</th>\n      <th>MapName</th>\n      <th>RoundNum</th>\n      <th>Tick</th>\n      <th></th>\n      <th></th>\n      <th></th>\n      <th></th>\n      <th></th>\n      <th></th>\n      <th></th>\n      <th></th>\n    </tr>\n  </thead>\n  <tbody>\n    <tr>\n      <th rowspan=\"20\" valign=\"top\">DreamHack-Masters-Spring-2021-astralis-vs-complexity-bo3</th>\n      <th rowspan=\"20\" valign=\"top\">de_inferno</th>\n      <th rowspan=\"20\" valign=\"top\">1</th>\n      <th>3740</th>\n      <td>51</td>\n      <td>42</td>\n      <td>0.0</td>\n      <td>0.0</td>\n      <td>19</td>\n      <td>15</td>\n      <td>0.0</td>\n      <td>0.0</td>\n    </tr>\n    <tr>\n      <th>3869</th>\n      <td>46</td>\n      <td>37</td>\n      <td>-5.0</td>\n      <td>-5.0</td>\n      <td>17</td>\n      <td>14</td>\n      <td>-2.0</td>\n      <td>-1.0</td>\n    </tr>\n    <tr>\n      <th>3998</th>\n      <td>43</td>\n      <td>34</td>\n      <td>-3.0</td>\n      <td>-3.0</td>\n      <td>10</td>\n      <td>12</td>\n      <td>-7.0</td>\n      <td>-2.0</td>\n    </tr>\n    <tr>\n      <th>4127</th>\n      <td>39</td>\n      <td>30</td>\n      <td>-4.0</td>\n      <td>-4.0</td>\n      <td>8</td>\n      <td>17</td>\n      <td>-2.0</td>\n      <td>5.0</td>\n    </tr>\n    <tr>\n      <th>4256</th>\n      <td>37</td>\n      <td>28</td>\n      <td>-2.0</td>\n      <td>-2.0</td>\n      <td>6</td>\n      <td>13</td>\n      <td>-2.0</td>\n      <td>-4.0</td>\n    </tr>\n    <tr>\n      <th>4385</th>\n      <td>34</td>\n      <td>25</td>\n      <td>-3.0</td>\n      <td>-3.0</td>\n      <td>4</td>\n      <td>16</td>\n      <td>-2.0</td>\n      <td>3.0</td>\n    </tr>\n    <tr>\n      <th>4514</th>\n      <td>31</td>\n      <td>22</td>\n      <td>-3.0</td>\n      <td>-3.0</td>\n      <td>2</td>\n      <td>8</td>\n      <td>-2.0</td>\n      <td>-8.0</td>\n    </tr>\n    <tr>\n      <th>4643</th>\n      <td>31</td>\n      <td>21</td>\n      <td>0.0</td>\n      <td>-1.0</td>\n      <td>3</td>\n      <td>7</td>\n      <td>1.0</td>\n      <td>-1.0</td>\n    </tr>\n    <tr>\n      <th>4772</th>\n      <td>28</td>\n      <td>19</td>\n      <td>-3.0</td>\n      <td>-2.0</td>\n      <td>3</td>\n      <td>5</td>\n      <td>0.0</td>\n      <td>-2.0</td>\n    </tr>\n    <tr>\n      <th>4901</th>\n      <td>27</td>\n      <td>23</td>\n      <td>-1.0</td>\n      <td>4.0</td>\n      <td>6</td>\n      <td>2</td>\n      <td>3.0</td>\n      <td>-3.0</td>\n    </tr>\n    <tr>\n      <th>5030</th>\n      <td>25</td>\n      <td>23</td>\n      <td>-2.0</td>\n      <td>0.0</td>\n      <td>9</td>\n      <td>3</td>\n      <td>3.0</td>\n      <td>1.0</td>\n    </tr>\n    <tr>\n      <th>5159</th>\n      <td>24</td>\n      <td>25</td>\n      <td>-1.0</td>\n      <td>2.0</td>\n      <td>10</td>\n      <td>6</td>\n      <td>1.0</td>\n      <td>3.0</td>\n    </tr>\n    <tr>\n      <th>5288</th>\n      <td>22</td>\n      <td>25</td>\n      <td>-2.0</td>\n      <td>0.0</td>\n      <td>10</td>\n      <td>8</td>\n      <td>0.0</td>\n      <td>2.0</td>\n    </tr>\n    <tr>\n      <th>5417</th>\n      <td>21</td>\n      <td>26</td>\n      <td>-1.0</td>\n      <td>1.0</td>\n      <td>10</td>\n      <td>8</td>\n      <td>0.0</td>\n      <td>0.0</td>\n    </tr>\n    <tr>\n      <th>5546</th>\n      <td>21</td>\n      <td>26</td>\n      <td>0.0</td>\n      <td>0.0</td>\n      <td>10</td>\n      <td>8</td>\n      <td>0.0</td>\n      <td>0.0</td>\n    </tr>\n    <tr>\n      <th>5675</th>\n      <td>20</td>\n      <td>27</td>\n      <td>-1.0</td>\n      <td>1.0</td>\n      <td>10</td>\n      <td>10</td>\n      <td>0.0</td>\n      <td>2.0</td>\n    </tr>\n    <tr>\n      <th>5804</th>\n      <td>19</td>\n      <td>28</td>\n      <td>-1.0</td>\n      <td>1.0</td>\n      <td>10</td>\n      <td>9</td>\n      <td>0.0</td>\n      <td>-1.0</td>\n    </tr>\n    <tr>\n      <th>5933</th>\n      <td>19</td>\n      <td>28</td>\n      <td>0.0</td>\n      <td>0.0</td>\n      <td>10</td>\n      <td>10</td>\n      <td>0.0</td>\n      <td>1.0</td>\n    </tr>\n    <tr>\n      <th>6062</th>\n      <td>19</td>\n      <td>28</td>\n      <td>0.0</td>\n      <td>0.0</td>\n      <td>10</td>\n      <td>10</td>\n      <td>0.0</td>\n      <td>0.0</td>\n    </tr>\n    <tr>\n      <th>6191</th>\n      <td>20</td>\n      <td>27</td>\n      <td>1.0</td>\n      <td>-1.0</td>\n      <td>10</td>\n      <td>10</td>\n      <td>0.0</td>\n      <td>0.0</td>\n    </tr>\n  </tbody>\n</table>\n</div>"
     },
     "metadata": {},
     "execution_count": 22
    }
   ],
   "source": [
    "position_state_df.head(20)"
   ]
  },
  {
   "cell_type": "code",
   "execution_count": 23,
   "metadata": {},
   "outputs": [
    {
     "output_type": "execute_result",
     "data": {
      "text/plain": [
       "       ClosestDistToA_T  ClosestDistToB_T  ChangeClosestDistToA_T  \\\n",
       "count      43787.000000      43787.000000            43787.000000   \n",
       "mean          17.918104         19.135794               -0.334894   \n",
       "std           12.100438         10.974001                2.234367   \n",
       "min            0.000000          0.000000              -39.000000   \n",
       "25%            8.000000         10.000000               -1.000000   \n",
       "50%           16.000000         19.000000                0.000000   \n",
       "75%           25.000000         27.000000                0.000000   \n",
       "max           69.000000         59.000000               29.000000   \n",
       "\n",
       "       ChangeClosestDistToB_T  ClosestDistToA_CT  ClosestDistToB_CT  \\\n",
       "count            43787.000000       43787.000000       43787.000000   \n",
       "mean                -0.309795           9.383424           9.874118   \n",
       "std                  2.819939           7.681410           8.021169   \n",
       "min                -40.000000           0.000000           0.000000   \n",
       "25%                 -1.000000           4.000000           4.000000   \n",
       "50%                  0.000000           7.000000           7.000000   \n",
       "75%                  0.000000          11.000000          14.000000   \n",
       "max                 33.000000          58.000000          53.000000   \n",
       "\n",
       "       ChangeClosestDistToA_CT  ChangeClosestDistToB_CT  \n",
       "count             43787.000000             43787.000000  \n",
       "mean                 -0.074999                -0.109896  \n",
       "std                   2.283396                 2.611839  \n",
       "min                 -43.000000               -39.000000  \n",
       "25%                   0.000000                 0.000000  \n",
       "50%                   0.000000                 0.000000  \n",
       "75%                   0.000000                 0.000000  \n",
       "max                  43.000000                40.000000  "
      ],
      "text/html": "<div>\n<style scoped>\n    .dataframe tbody tr th:only-of-type {\n        vertical-align: middle;\n    }\n\n    .dataframe tbody tr th {\n        vertical-align: top;\n    }\n\n    .dataframe thead th {\n        text-align: right;\n    }\n</style>\n<table border=\"1\" class=\"dataframe\">\n  <thead>\n    <tr style=\"text-align: right;\">\n      <th></th>\n      <th>ClosestDistToA_T</th>\n      <th>ClosestDistToB_T</th>\n      <th>ChangeClosestDistToA_T</th>\n      <th>ChangeClosestDistToB_T</th>\n      <th>ClosestDistToA_CT</th>\n      <th>ClosestDistToB_CT</th>\n      <th>ChangeClosestDistToA_CT</th>\n      <th>ChangeClosestDistToB_CT</th>\n    </tr>\n  </thead>\n  <tbody>\n    <tr>\n      <th>count</th>\n      <td>43787.000000</td>\n      <td>43787.000000</td>\n      <td>43787.000000</td>\n      <td>43787.000000</td>\n      <td>43787.000000</td>\n      <td>43787.000000</td>\n      <td>43787.000000</td>\n      <td>43787.000000</td>\n    </tr>\n    <tr>\n      <th>mean</th>\n      <td>17.918104</td>\n      <td>19.135794</td>\n      <td>-0.334894</td>\n      <td>-0.309795</td>\n      <td>9.383424</td>\n      <td>9.874118</td>\n      <td>-0.074999</td>\n      <td>-0.109896</td>\n    </tr>\n    <tr>\n      <th>std</th>\n      <td>12.100438</td>\n      <td>10.974001</td>\n      <td>2.234367</td>\n      <td>2.819939</td>\n      <td>7.681410</td>\n      <td>8.021169</td>\n      <td>2.283396</td>\n      <td>2.611839</td>\n    </tr>\n    <tr>\n      <th>min</th>\n      <td>0.000000</td>\n      <td>0.000000</td>\n      <td>-39.000000</td>\n      <td>-40.000000</td>\n      <td>0.000000</td>\n      <td>0.000000</td>\n      <td>-43.000000</td>\n      <td>-39.000000</td>\n    </tr>\n    <tr>\n      <th>25%</th>\n      <td>8.000000</td>\n      <td>10.000000</td>\n      <td>-1.000000</td>\n      <td>-1.000000</td>\n      <td>4.000000</td>\n      <td>4.000000</td>\n      <td>0.000000</td>\n      <td>0.000000</td>\n    </tr>\n    <tr>\n      <th>50%</th>\n      <td>16.000000</td>\n      <td>19.000000</td>\n      <td>0.000000</td>\n      <td>0.000000</td>\n      <td>7.000000</td>\n      <td>7.000000</td>\n      <td>0.000000</td>\n      <td>0.000000</td>\n    </tr>\n    <tr>\n      <th>75%</th>\n      <td>25.000000</td>\n      <td>27.000000</td>\n      <td>0.000000</td>\n      <td>0.000000</td>\n      <td>11.000000</td>\n      <td>14.000000</td>\n      <td>0.000000</td>\n      <td>0.000000</td>\n    </tr>\n    <tr>\n      <th>max</th>\n      <td>69.000000</td>\n      <td>59.000000</td>\n      <td>29.000000</td>\n      <td>33.000000</td>\n      <td>58.000000</td>\n      <td>53.000000</td>\n      <td>43.000000</td>\n      <td>40.000000</td>\n    </tr>\n  </tbody>\n</table>\n</div>"
     },
     "metadata": {},
     "execution_count": 23
    }
   ],
   "source": [
    "position_state_df.describe()"
   ]
  },
  {
   "source": [
    "## Putting it all together"
   ],
   "cell_type": "markdown",
   "metadata": {}
  },
  {
   "cell_type": "code",
   "execution_count": 24,
   "metadata": {},
   "outputs": [],
   "source": [
    "bomb_state_df['EventType'] = 'BombPlant'\n",
    "damages_kills_state_df['EventType'] = 'DamageDealt'\n",
    "position_state_df['EventType'] = 'PositionUpdate'"
   ]
  },
  {
   "cell_type": "code",
   "execution_count": 25,
   "metadata": {},
   "outputs": [],
   "source": [
    "game_states_df = pd.concat([bomb_state_df, damages_kills_state_df, position_state_df], axis=0)\n",
    "game_states_df = game_states_df.sort_index()\n",
    "game_states_df.reset_index(inplace=True)"
   ]
  },
  {
   "cell_type": "code",
   "execution_count": 26,
   "metadata": {},
   "outputs": [
    {
     "output_type": "execute_result",
     "data": {
      "text/plain": [
       "Index(['MatchId', 'MapName', 'RoundNum', 'Tick', 'BombPlantedA',\n",
       "       'BombPlantedB', 'AttackerSide', 'VictimSide', 'AttackerSteamId',\n",
       "       'EventType', 'VictimSteamId', 'TAlive', 'CTAlive', 'TTotalHp',\n",
       "       'CTTotalHp', 'ClosestDistToA_T', 'ClosestDistToB_T',\n",
       "       'ChangeClosestDistToA_T', 'ChangeClosestDistToB_T', 'ClosestDistToA_CT',\n",
       "       'ClosestDistToB_CT', 'ChangeClosestDistToA_CT',\n",
       "       'ChangeClosestDistToB_CT'],\n",
       "      dtype='object')"
      ]
     },
     "metadata": {},
     "execution_count": 26
    }
   ],
   "source": [
    "game_states_df.columns"
   ]
  },
  {
   "cell_type": "code",
   "execution_count": 27,
   "metadata": {},
   "outputs": [
    {
     "output_type": "execute_result",
     "data": {
      "text/plain": [
       "                                             MatchId     MapName  RoundNum  \\\n",
       "0  DreamHack-Masters-Spring-2021-astralis-vs-comp...  de_inferno         1   \n",
       "1  DreamHack-Masters-Spring-2021-astralis-vs-comp...  de_inferno         1   \n",
       "2  DreamHack-Masters-Spring-2021-astralis-vs-comp...  de_inferno         1   \n",
       "3  DreamHack-Masters-Spring-2021-astralis-vs-comp...  de_inferno         1   \n",
       "4  DreamHack-Masters-Spring-2021-astralis-vs-comp...  de_inferno         1   \n",
       "\n",
       "   Tick  BombPlantedA  BombPlantedB AttackerSide VictimSide  AttackerSteamId  \\\n",
       "0  3740         False         False          NaN        NaN              NaN   \n",
       "1  3869         False         False          NaN        NaN              NaN   \n",
       "2  3998         False         False          NaN        NaN              NaN   \n",
       "3  4127         False         False          NaN        NaN              NaN   \n",
       "4  4256         False         False          NaN        NaN              NaN   \n",
       "\n",
       "        EventType  ...  TTotalHp  CTTotalHp  ClosestDistToA_T  \\\n",
       "0  PositionUpdate  ...       5.0        5.0              51.0   \n",
       "1  PositionUpdate  ...       5.0        5.0              46.0   \n",
       "2  PositionUpdate  ...       5.0        5.0              43.0   \n",
       "3  PositionUpdate  ...       5.0        5.0              39.0   \n",
       "4  PositionUpdate  ...       5.0        5.0              37.0   \n",
       "\n",
       "   ClosestDistToB_T  ChangeClosestDistToA_T  ChangeClosestDistToB_T  \\\n",
       "0              42.0                     0.0                     0.0   \n",
       "1              37.0                    -5.0                    -5.0   \n",
       "2              34.0                    -3.0                    -3.0   \n",
       "3              30.0                    -4.0                    -4.0   \n",
       "4              28.0                    -2.0                    -2.0   \n",
       "\n",
       "   ClosestDistToA_CT  ClosestDistToB_CT  ChangeClosestDistToA_CT  \\\n",
       "0               19.0               15.0                      0.0   \n",
       "1               17.0               14.0                     -2.0   \n",
       "2               10.0               12.0                     -7.0   \n",
       "3                8.0               17.0                     -2.0   \n",
       "4                6.0               13.0                     -2.0   \n",
       "\n",
       "   ChangeClosestDistToB_CT  \n",
       "0                      0.0  \n",
       "1                     -1.0  \n",
       "2                     -2.0  \n",
       "3                      5.0  \n",
       "4                     -4.0  \n",
       "\n",
       "[5 rows x 23 columns]"
      ],
      "text/html": "<div>\n<style scoped>\n    .dataframe tbody tr th:only-of-type {\n        vertical-align: middle;\n    }\n\n    .dataframe tbody tr th {\n        vertical-align: top;\n    }\n\n    .dataframe thead th {\n        text-align: right;\n    }\n</style>\n<table border=\"1\" class=\"dataframe\">\n  <thead>\n    <tr style=\"text-align: right;\">\n      <th></th>\n      <th>MatchId</th>\n      <th>MapName</th>\n      <th>RoundNum</th>\n      <th>Tick</th>\n      <th>BombPlantedA</th>\n      <th>BombPlantedB</th>\n      <th>AttackerSide</th>\n      <th>VictimSide</th>\n      <th>AttackerSteamId</th>\n      <th>EventType</th>\n      <th>...</th>\n      <th>TTotalHp</th>\n      <th>CTTotalHp</th>\n      <th>ClosestDistToA_T</th>\n      <th>ClosestDistToB_T</th>\n      <th>ChangeClosestDistToA_T</th>\n      <th>ChangeClosestDistToB_T</th>\n      <th>ClosestDistToA_CT</th>\n      <th>ClosestDistToB_CT</th>\n      <th>ChangeClosestDistToA_CT</th>\n      <th>ChangeClosestDistToB_CT</th>\n    </tr>\n  </thead>\n  <tbody>\n    <tr>\n      <th>0</th>\n      <td>DreamHack-Masters-Spring-2021-astralis-vs-comp...</td>\n      <td>de_inferno</td>\n      <td>1</td>\n      <td>3740</td>\n      <td>False</td>\n      <td>False</td>\n      <td>NaN</td>\n      <td>NaN</td>\n      <td>NaN</td>\n      <td>PositionUpdate</td>\n      <td>...</td>\n      <td>5.0</td>\n      <td>5.0</td>\n      <td>51.0</td>\n      <td>42.0</td>\n      <td>0.0</td>\n      <td>0.0</td>\n      <td>19.0</td>\n      <td>15.0</td>\n      <td>0.0</td>\n      <td>0.0</td>\n    </tr>\n    <tr>\n      <th>1</th>\n      <td>DreamHack-Masters-Spring-2021-astralis-vs-comp...</td>\n      <td>de_inferno</td>\n      <td>1</td>\n      <td>3869</td>\n      <td>False</td>\n      <td>False</td>\n      <td>NaN</td>\n      <td>NaN</td>\n      <td>NaN</td>\n      <td>PositionUpdate</td>\n      <td>...</td>\n      <td>5.0</td>\n      <td>5.0</td>\n      <td>46.0</td>\n      <td>37.0</td>\n      <td>-5.0</td>\n      <td>-5.0</td>\n      <td>17.0</td>\n      <td>14.0</td>\n      <td>-2.0</td>\n      <td>-1.0</td>\n    </tr>\n    <tr>\n      <th>2</th>\n      <td>DreamHack-Masters-Spring-2021-astralis-vs-comp...</td>\n      <td>de_inferno</td>\n      <td>1</td>\n      <td>3998</td>\n      <td>False</td>\n      <td>False</td>\n      <td>NaN</td>\n      <td>NaN</td>\n      <td>NaN</td>\n      <td>PositionUpdate</td>\n      <td>...</td>\n      <td>5.0</td>\n      <td>5.0</td>\n      <td>43.0</td>\n      <td>34.0</td>\n      <td>-3.0</td>\n      <td>-3.0</td>\n      <td>10.0</td>\n      <td>12.0</td>\n      <td>-7.0</td>\n      <td>-2.0</td>\n    </tr>\n    <tr>\n      <th>3</th>\n      <td>DreamHack-Masters-Spring-2021-astralis-vs-comp...</td>\n      <td>de_inferno</td>\n      <td>1</td>\n      <td>4127</td>\n      <td>False</td>\n      <td>False</td>\n      <td>NaN</td>\n      <td>NaN</td>\n      <td>NaN</td>\n      <td>PositionUpdate</td>\n      <td>...</td>\n      <td>5.0</td>\n      <td>5.0</td>\n      <td>39.0</td>\n      <td>30.0</td>\n      <td>-4.0</td>\n      <td>-4.0</td>\n      <td>8.0</td>\n      <td>17.0</td>\n      <td>-2.0</td>\n      <td>5.0</td>\n    </tr>\n    <tr>\n      <th>4</th>\n      <td>DreamHack-Masters-Spring-2021-astralis-vs-comp...</td>\n      <td>de_inferno</td>\n      <td>1</td>\n      <td>4256</td>\n      <td>False</td>\n      <td>False</td>\n      <td>NaN</td>\n      <td>NaN</td>\n      <td>NaN</td>\n      <td>PositionUpdate</td>\n      <td>...</td>\n      <td>5.0</td>\n      <td>5.0</td>\n      <td>37.0</td>\n      <td>28.0</td>\n      <td>-2.0</td>\n      <td>-2.0</td>\n      <td>6.0</td>\n      <td>13.0</td>\n      <td>-2.0</td>\n      <td>-4.0</td>\n    </tr>\n  </tbody>\n</table>\n<p>5 rows × 23 columns</p>\n</div>"
     },
     "metadata": {},
     "execution_count": 27
    }
   ],
   "source": [
    "def fill_states(df):\n",
    "    fill_cols = ['BombPlantedA', 'BombPlantedB', 'TAlive', 'CTAlive', 'TTotalHp', 'CTTotalHp', 'ClosestDistToA_T', 'ClosestDistToB_T', 'ChangeClosestDistToA_T', 'ChangeClosestDistToB_T', 'ClosestDistToA_CT', 'ClosestDistToB_CT', 'ChangeClosestDistToA_CT', 'ChangeClosestDistToB_CT']\n",
    "    df[fill_cols] = df[fill_cols].fillna(method='ffill')\n",
    "    dist_names = ['ClosestDistToA_T', 'ClosestDistToB_T', 'ClosestDistToA_CT', 'ClosestDistToB_CT']\n",
    "    df[dist_names] = df[dist_names].fillna(method='bfill')\n",
    "    change_names = ['ChangeClosestDistToA_T', 'ChangeClosestDistToB_T', 'ChangeClosestDistToA_CT', 'ChangeClosestDistToB_CT']\n",
    "    df[change_names] = df[change_names].fillna(0)\n",
    "    df['BombPlantedA'] = df['BombPlantedA'].fillna(False)\n",
    "    df['BombPlantedB'] = df['BombPlantedB'].fillna(False)\n",
    "    df['TAlive'] = df['TAlive'].fillna(5)\n",
    "    df['CTAlive'] = df['CTAlive'].fillna(5)\n",
    "    df['TTotalHp'] = df['TTotalHp'].fillna(5)\n",
    "    df['CTTotalHp'] = df['CTTotalHp'].fillna(5)\n",
    "    return df\n",
    "\n",
    "game_states_df = game_states_df.groupby(['MatchId', 'MapName', 'RoundNum']).apply(fill_states)\n",
    "game_states_df.head()"
   ]
  },
  {
   "cell_type": "code",
   "execution_count": 28,
   "metadata": {},
   "outputs": [],
   "source": [
    "game_states_df = game_states_df.merge(rounds_df[['MatchId', 'MapName', 'RoundNum', 'RoundEndReason', 'CTBuyType', 'TBuyType', 'FreezeTimeEnd', 'WinningSide']], how='left', on=['MatchId', 'MapName', 'RoundNum'], validate='many_to_one')\n",
    "game_states_df.insert(3, 'RoundTick', game_states_df.Tick - game_states_df.FreezeTimeEnd)\n",
    "game_states_df.drop(['Tick', 'FreezeTimeEnd'], axis=1, inplace=True)"
   ]
  },
  {
   "cell_type": "code",
   "execution_count": 29,
   "metadata": {},
   "outputs": [
    {
     "output_type": "execute_result",
     "data": {
      "text/plain": [
       "                                             MatchId     MapName  RoundNum  \\\n",
       "0  DreamHack-Masters-Spring-2021-astralis-vs-comp...  de_inferno         1   \n",
       "1  DreamHack-Masters-Spring-2021-astralis-vs-comp...  de_inferno         1   \n",
       "2  DreamHack-Masters-Spring-2021-astralis-vs-comp...  de_inferno         1   \n",
       "3  DreamHack-Masters-Spring-2021-astralis-vs-comp...  de_inferno         1   \n",
       "4  DreamHack-Masters-Spring-2021-astralis-vs-comp...  de_inferno         1   \n",
       "\n",
       "   RoundTick  BombPlantedA  BombPlantedB AttackerSide VictimSide  \\\n",
       "0         30         False         False          NaN        NaN   \n",
       "1        159         False         False          NaN        NaN   \n",
       "2        288         False         False          NaN        NaN   \n",
       "3        417         False         False          NaN        NaN   \n",
       "4        546         False         False          NaN        NaN   \n",
       "\n",
       "   AttackerSteamId       EventType  ...  ChangeClosestDistToA_T  \\\n",
       "0              NaN  PositionUpdate  ...                     0.0   \n",
       "1              NaN  PositionUpdate  ...                    -5.0   \n",
       "2              NaN  PositionUpdate  ...                    -3.0   \n",
       "3              NaN  PositionUpdate  ...                    -4.0   \n",
       "4              NaN  PositionUpdate  ...                    -2.0   \n",
       "\n",
       "   ChangeClosestDistToB_T  ClosestDistToA_CT  ClosestDistToB_CT  \\\n",
       "0                     0.0               19.0               15.0   \n",
       "1                    -5.0               17.0               14.0   \n",
       "2                    -3.0               10.0               12.0   \n",
       "3                    -4.0                8.0               17.0   \n",
       "4                    -2.0                6.0               13.0   \n",
       "\n",
       "   ChangeClosestDistToA_CT  ChangeClosestDistToB_CT  RoundEndReason  \\\n",
       "0                      0.0                      0.0   TerroristsWin   \n",
       "1                     -2.0                     -1.0   TerroristsWin   \n",
       "2                     -7.0                     -2.0   TerroristsWin   \n",
       "3                     -2.0                      5.0   TerroristsWin   \n",
       "4                     -2.0                     -4.0   TerroristsWin   \n",
       "\n",
       "   CTBuyType  TBuyType  WinningSide  \n",
       "0     Pistol    Pistol            T  \n",
       "1     Pistol    Pistol            T  \n",
       "2     Pistol    Pistol            T  \n",
       "3     Pistol    Pistol            T  \n",
       "4     Pistol    Pistol            T  \n",
       "\n",
       "[5 rows x 27 columns]"
      ],
      "text/html": "<div>\n<style scoped>\n    .dataframe tbody tr th:only-of-type {\n        vertical-align: middle;\n    }\n\n    .dataframe tbody tr th {\n        vertical-align: top;\n    }\n\n    .dataframe thead th {\n        text-align: right;\n    }\n</style>\n<table border=\"1\" class=\"dataframe\">\n  <thead>\n    <tr style=\"text-align: right;\">\n      <th></th>\n      <th>MatchId</th>\n      <th>MapName</th>\n      <th>RoundNum</th>\n      <th>RoundTick</th>\n      <th>BombPlantedA</th>\n      <th>BombPlantedB</th>\n      <th>AttackerSide</th>\n      <th>VictimSide</th>\n      <th>AttackerSteamId</th>\n      <th>EventType</th>\n      <th>...</th>\n      <th>ChangeClosestDistToA_T</th>\n      <th>ChangeClosestDistToB_T</th>\n      <th>ClosestDistToA_CT</th>\n      <th>ClosestDistToB_CT</th>\n      <th>ChangeClosestDistToA_CT</th>\n      <th>ChangeClosestDistToB_CT</th>\n      <th>RoundEndReason</th>\n      <th>CTBuyType</th>\n      <th>TBuyType</th>\n      <th>WinningSide</th>\n    </tr>\n  </thead>\n  <tbody>\n    <tr>\n      <th>0</th>\n      <td>DreamHack-Masters-Spring-2021-astralis-vs-comp...</td>\n      <td>de_inferno</td>\n      <td>1</td>\n      <td>30</td>\n      <td>False</td>\n      <td>False</td>\n      <td>NaN</td>\n      <td>NaN</td>\n      <td>NaN</td>\n      <td>PositionUpdate</td>\n      <td>...</td>\n      <td>0.0</td>\n      <td>0.0</td>\n      <td>19.0</td>\n      <td>15.0</td>\n      <td>0.0</td>\n      <td>0.0</td>\n      <td>TerroristsWin</td>\n      <td>Pistol</td>\n      <td>Pistol</td>\n      <td>T</td>\n    </tr>\n    <tr>\n      <th>1</th>\n      <td>DreamHack-Masters-Spring-2021-astralis-vs-comp...</td>\n      <td>de_inferno</td>\n      <td>1</td>\n      <td>159</td>\n      <td>False</td>\n      <td>False</td>\n      <td>NaN</td>\n      <td>NaN</td>\n      <td>NaN</td>\n      <td>PositionUpdate</td>\n      <td>...</td>\n      <td>-5.0</td>\n      <td>-5.0</td>\n      <td>17.0</td>\n      <td>14.0</td>\n      <td>-2.0</td>\n      <td>-1.0</td>\n      <td>TerroristsWin</td>\n      <td>Pistol</td>\n      <td>Pistol</td>\n      <td>T</td>\n    </tr>\n    <tr>\n      <th>2</th>\n      <td>DreamHack-Masters-Spring-2021-astralis-vs-comp...</td>\n      <td>de_inferno</td>\n      <td>1</td>\n      <td>288</td>\n      <td>False</td>\n      <td>False</td>\n      <td>NaN</td>\n      <td>NaN</td>\n      <td>NaN</td>\n      <td>PositionUpdate</td>\n      <td>...</td>\n      <td>-3.0</td>\n      <td>-3.0</td>\n      <td>10.0</td>\n      <td>12.0</td>\n      <td>-7.0</td>\n      <td>-2.0</td>\n      <td>TerroristsWin</td>\n      <td>Pistol</td>\n      <td>Pistol</td>\n      <td>T</td>\n    </tr>\n    <tr>\n      <th>3</th>\n      <td>DreamHack-Masters-Spring-2021-astralis-vs-comp...</td>\n      <td>de_inferno</td>\n      <td>1</td>\n      <td>417</td>\n      <td>False</td>\n      <td>False</td>\n      <td>NaN</td>\n      <td>NaN</td>\n      <td>NaN</td>\n      <td>PositionUpdate</td>\n      <td>...</td>\n      <td>-4.0</td>\n      <td>-4.0</td>\n      <td>8.0</td>\n      <td>17.0</td>\n      <td>-2.0</td>\n      <td>5.0</td>\n      <td>TerroristsWin</td>\n      <td>Pistol</td>\n      <td>Pistol</td>\n      <td>T</td>\n    </tr>\n    <tr>\n      <th>4</th>\n      <td>DreamHack-Masters-Spring-2021-astralis-vs-comp...</td>\n      <td>de_inferno</td>\n      <td>1</td>\n      <td>546</td>\n      <td>False</td>\n      <td>False</td>\n      <td>NaN</td>\n      <td>NaN</td>\n      <td>NaN</td>\n      <td>PositionUpdate</td>\n      <td>...</td>\n      <td>-2.0</td>\n      <td>-2.0</td>\n      <td>6.0</td>\n      <td>13.0</td>\n      <td>-2.0</td>\n      <td>-4.0</td>\n      <td>TerroristsWin</td>\n      <td>Pistol</td>\n      <td>Pistol</td>\n      <td>T</td>\n    </tr>\n  </tbody>\n</table>\n<p>5 rows × 27 columns</p>\n</div>"
     },
     "metadata": {},
     "execution_count": 29
    }
   ],
   "source": [
    "game_states_df.head()"
   ]
  },
  {
   "cell_type": "code",
   "execution_count": 30,
   "metadata": {},
   "outputs": [
    {
     "output_type": "execute_result",
     "data": {
      "text/plain": [
       "57829"
      ]
     },
     "metadata": {},
     "execution_count": 30
    }
   ],
   "source": [
    "game_states_df.shape[0]"
   ]
  },
  {
   "cell_type": "code",
   "execution_count": 31,
   "metadata": {},
   "outputs": [
    {
     "output_type": "execute_result",
     "data": {
      "text/plain": [
       "57004"
      ]
     },
     "metadata": {},
     "execution_count": 31
    }
   ],
   "source": [
    "bad_rounds = game_states_df[(game_states_df.TTotalHp < 0) | (game_states_df.CTTotalHp < 0)][['MatchId', 'MapName', 'RoundNum']].drop_duplicates()\n",
    "bad_rounds = bad_rounds.reindex(columns=['MatchId', 'MapName', 'RoundNum'])\n",
    "#  | ((game_states_df.TTotalHp > 0) & (game_states_df.TAlive == 0)) | ((game_states_df.CTTotalHp > 0) & (game_states_df.CTAlive == 0))\n",
    "# Going to leave this^^ out because it elimintes too mucn of the data (~8%) (there are a lot of rounds where an entire team is dead and they still have >0 HP, probably because a damage event was missed somewhere)\n",
    "bad_game_states = game_states_df.merge(bad_rounds, how='left', validate='many_to_one', indicator=True)\n",
    "game_states_df = bad_game_states[bad_game_states._merge != 'both'].drop('_merge', axis=1)\n",
    "game_states_df.shape[0]"
   ]
  },
  {
   "cell_type": "code",
   "execution_count": 32,
   "metadata": {},
   "outputs": [],
   "source": [
    "game_states_df.to_csv('game_states.csv', encoding='utf-8', index=False)"
   ]
  },
  {
   "cell_type": "code",
   "execution_count": null,
   "metadata": {},
   "outputs": [],
   "source": []
  }
 ]
}