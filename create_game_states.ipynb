{
 "metadata": {
  "language_info": {
   "codemirror_mode": {
    "name": "ipython",
    "version": 3
   },
   "file_extension": ".py",
   "mimetype": "text/x-python",
   "name": "python",
   "nbconvert_exporter": "python",
   "pygments_lexer": "ipython3",
   "version": "3.6.9"
  },
  "orig_nbformat": 2,
  "kernelspec": {
   "name": "python3",
   "display_name": "Python 3",
   "language": "python"
  },
  "metadata": {
   "interpreter": {
    "hash": "31f2aee4e71d21fbe5cf8b01ff0e069b9275f58929596ceb00d14d90e3e16cd6"
   }
  }
 },
 "nbformat": 4,
 "nbformat_minor": 2,
 "cells": [
  {
   "cell_type": "code",
   "execution_count": 1,
   "metadata": {},
   "outputs": [],
   "source": [
    "import pandas as pd\n",
    "\n",
    "damages_df = pd.read_csv('Damages.csv', index_col=0)\n",
    "player_frames_df = pd.read_csv('PlayerFrames.csv', index_col=0)\n",
    "bomb_events_df = pd.read_csv('BombEvents.csv', index_col=0)\n",
    "rounds_df = pd.read_csv('Rounds.csv', index_col=0)\n",
    "kills_df = pd.read_csv('Kills.csv', index_col=0)\n"
   ]
  },
  {
   "cell_type": "code",
   "execution_count": 2,
   "metadata": {},
   "outputs": [],
   "source": [
    "game_state_cols = ['MatchId', 'MapName', 'RoundNum', 'TicksSinceStart', 'CTStartEqVal', 'TStartEqVal', 'CTAlive', 'TAlive', 'CTTotalHP', 'TTotalHP', 'BombPlantedA', 'BombPlantedB', 'CTClosestA', 'TClosestA', 'CTClosestB', 'TClosestB']"
   ]
  },
  {
   "source": [
    "## Remove events before and after the round"
   ],
   "cell_type": "markdown",
   "metadata": {}
  },
  {
   "cell_type": "code",
   "execution_count": 3,
   "metadata": {},
   "outputs": [],
   "source": [
    "# TODO: Check that only the post-round time is getting cut (weird since the endtick and officialendtick are practically the same)"
   ]
  },
  {
   "cell_type": "code",
   "execution_count": 4,
   "metadata": {},
   "outputs": [
    {
     "output_type": "execute_result",
     "data": {
      "text/plain": [
       "                                               MatchId      MapName  RoundNum  \\\n",
       "21   Liga-Gamers-Club-2021-Serie-A-April-Cup-santos...      de_nuke         3   \n",
       "44   Flashpoint-3-ClosedQualifier-complexity-vs-mou...  de_overpass        24   \n",
       "100  DreamHack-Masters-Spring-2021-g2-vs-mousesport...   de_vertigo        26   \n",
       "141    DreamHack-Masters-Spring-2021-big-vs-heroic-bo3    de_mirage        26   \n",
       "146  Flashpoint-3-ClosedQualifier-dbl-poney-vs-havu...     de_train         7   \n",
       "159  Flashpoint-3-ClosedQualifier-dbl-poney-vs-havu...     de_train        27   \n",
       "200  DreamHack-Masters-Spring-2021-astralis-vs-comp...   de_inferno        17   \n",
       "240  DreamHack-Masters-Spring-2021-spirit-vs-virtus...   de_inferno        16   \n",
       "253  DreamHack-Masters-Spring-2021-spirit-vs-virtus...     de_train        16   \n",
       "260  DreamHack-Masters-Spring-2021-spirit-vs-virtus...     de_train        27   \n",
       "276     REPUBLEAGUE-TIPOS-Season1-sinners-vs-forze-bo3   de_inferno        21   \n",
       "277     REPUBLEAGUE-TIPOS-Season1-sinners-vs-forze-bo3   de_inferno        21   \n",
       "289     REPUBLEAGUE-TIPOS-Season1-sinners-vs-forze-bo3    de_mirage        16   \n",
       "292     REPUBLEAGUE-TIPOS-Season1-sinners-vs-forze-bo3    de_mirage        22   \n",
       "317             Spring-Sweet-Spring-1-fiend-vs-ago-bo3     de_dust2        21   \n",
       "322             Spring-Sweet-Spring-1-fiend-vs-ago-bo3     de_dust2        28   \n",
       "351  Flashpoint-3-ClosedQualifier-mousesports-vs-an...  de_overpass         2   \n",
       "368  Flashpoint-3-ClosedQualifier-mousesports-vs-an...  de_overpass        21   \n",
       "395  Flashpoint-3-ClosedQualifier-mousesports-vs-an...   de_vertigo        22   \n",
       "\n",
       "       Tick      Second      PlayerSteamId      PlayerName       PlayerTeam  \\\n",
       "21    44409  112.289062  76561198051070311         ★ ㉑ phx       SWS Gaming   \n",
       "44   355110  113.086614  76561198068422762          frozen      mousesports   \n",
       "100  472638   92.046875  76561198012872053         huNter-       G2 Esports   \n",
       "141  418197  104.515625  76561198160709585          sjuush           HEROIC   \n",
       "146  128254   44.787402  76561198002132867           ZOREE      HAVU GAMING   \n",
       "159  426506  111.330709  76561197960710573             NBK        DBL PONEY   \n",
       "200  288782   89.740157  76561198077802866          poizon       Complexity   \n",
       "240  291727  117.000000  76561198040577200             sdy      Team Spirit   \n",
       "253  284922   77.385827  76561198127236290          qikert       Virtus.pro   \n",
       "260  487455   57.031496  76561198036125584            Jame       Virtus.pro   \n",
       "276  294068   67.354331  76561198026088156  Jerry x LUKOIL            forZe   \n",
       "277  298498  102.236220  76561198215434685         NEOFRAG          Sinners   \n",
       "289  212619   36.664062  76561198134164683           ZEDKO          Sinners   \n",
       "292  272634   42.195312  76561198134164683           ZEDKO          Sinners   \n",
       "317  304166   48.700787  76561198137761601    x-kom Furlan              AGO   \n",
       "322  396803   32.716535  76561197991432466    x-kom rallen              AGO   \n",
       "351   50342  115.218750  76561198061801241       ddexterrr      mousesports   \n",
       "368  359691   57.343750  76561197982141573            Snax  Anonymo Esports   \n",
       "395  350004   74.771654  76561197991272318            ropz      mousesports   \n",
       "\n",
       "         PlayerX      PlayerY       PlayerZ BombAction BombSite  \\\n",
       "21    614.699280  -769.868225   -415.968750      plant        A   \n",
       "44  -2508.249512   780.858887    475.031250      plant        A   \n",
       "100 -2216.002686   861.404846  11744.031250      plant        B   \n",
       "141 -1890.379028   277.885101   -159.968750      plant        B   \n",
       "146   723.178406   140.948746   -215.412201      plant        A   \n",
       "159   348.260284     8.390979   -215.968750      plant        A   \n",
       "200  1896.010376   620.768494    160.031250      plant        A   \n",
       "240  1879.965942   318.517883    160.031250      plant        A   \n",
       "253  -234.087555 -1281.694336   -355.968750      plant        B   \n",
       "260  -166.624283 -1282.281982   -281.276611      plant        B   \n",
       "276  1821.993408   608.031250    160.031250      plant        A   \n",
       "277  1882.714355   611.359863    160.031250     defuse        A   \n",
       "289 -1968.013672   450.009460   -159.968750      plant        B   \n",
       "292  -496.623413 -2025.616455   -179.968750      plant        A   \n",
       "317  1237.588989  2489.025146    172.031250      plant        A   \n",
       "322 -1366.012451  2565.990234      4.645828      plant        B   \n",
       "351 -2539.440918   647.052246    480.031250      plant        A   \n",
       "368 -1023.565430    69.418610     98.115150      plant        B   \n",
       "395 -2228.632812   893.293152  11744.031250      plant        B   \n",
       "\n",
       "     FreezeTimeEnd  EndTick  \n",
       "21           30036    44232  \n",
       "44          356299   356299  \n",
       "100         475441   475441  \n",
       "141         419944   419944  \n",
       "146         122566   127622  \n",
       "159         428647   428647  \n",
       "200         277385   288299  \n",
       "240         276751   291471  \n",
       "253         275094   284904  \n",
       "260         492196   492196  \n",
       "276         298498   298498  \n",
       "277         298498   298498  \n",
       "289         207926   212603  \n",
       "292         274471   274471  \n",
       "317         297981   304144  \n",
       "322         400724   400724  \n",
       "351          35594    50314  \n",
       "368         352351   359055  \n",
       "395         351916   351916  "
      ],
      "text/html": "<div>\n<style scoped>\n    .dataframe tbody tr th:only-of-type {\n        vertical-align: middle;\n    }\n\n    .dataframe tbody tr th {\n        vertical-align: top;\n    }\n\n    .dataframe thead th {\n        text-align: right;\n    }\n</style>\n<table border=\"1\" class=\"dataframe\">\n  <thead>\n    <tr style=\"text-align: right;\">\n      <th></th>\n      <th>MatchId</th>\n      <th>MapName</th>\n      <th>RoundNum</th>\n      <th>Tick</th>\n      <th>Second</th>\n      <th>PlayerSteamId</th>\n      <th>PlayerName</th>\n      <th>PlayerTeam</th>\n      <th>PlayerX</th>\n      <th>PlayerY</th>\n      <th>PlayerZ</th>\n      <th>BombAction</th>\n      <th>BombSite</th>\n      <th>FreezeTimeEnd</th>\n      <th>EndTick</th>\n    </tr>\n  </thead>\n  <tbody>\n    <tr>\n      <th>21</th>\n      <td>Liga-Gamers-Club-2021-Serie-A-April-Cup-santos...</td>\n      <td>de_nuke</td>\n      <td>3</td>\n      <td>44409</td>\n      <td>112.289062</td>\n      <td>76561198051070311</td>\n      <td>★ ㉑ phx</td>\n      <td>SWS Gaming</td>\n      <td>614.699280</td>\n      <td>-769.868225</td>\n      <td>-415.968750</td>\n      <td>plant</td>\n      <td>A</td>\n      <td>30036</td>\n      <td>44232</td>\n    </tr>\n    <tr>\n      <th>44</th>\n      <td>Flashpoint-3-ClosedQualifier-complexity-vs-mou...</td>\n      <td>de_overpass</td>\n      <td>24</td>\n      <td>355110</td>\n      <td>113.086614</td>\n      <td>76561198068422762</td>\n      <td>frozen</td>\n      <td>mousesports</td>\n      <td>-2508.249512</td>\n      <td>780.858887</td>\n      <td>475.031250</td>\n      <td>plant</td>\n      <td>A</td>\n      <td>356299</td>\n      <td>356299</td>\n    </tr>\n    <tr>\n      <th>100</th>\n      <td>DreamHack-Masters-Spring-2021-g2-vs-mousesport...</td>\n      <td>de_vertigo</td>\n      <td>26</td>\n      <td>472638</td>\n      <td>92.046875</td>\n      <td>76561198012872053</td>\n      <td>huNter-</td>\n      <td>G2 Esports</td>\n      <td>-2216.002686</td>\n      <td>861.404846</td>\n      <td>11744.031250</td>\n      <td>plant</td>\n      <td>B</td>\n      <td>475441</td>\n      <td>475441</td>\n    </tr>\n    <tr>\n      <th>141</th>\n      <td>DreamHack-Masters-Spring-2021-big-vs-heroic-bo3</td>\n      <td>de_mirage</td>\n      <td>26</td>\n      <td>418197</td>\n      <td>104.515625</td>\n      <td>76561198160709585</td>\n      <td>sjuush</td>\n      <td>HEROIC</td>\n      <td>-1890.379028</td>\n      <td>277.885101</td>\n      <td>-159.968750</td>\n      <td>plant</td>\n      <td>B</td>\n      <td>419944</td>\n      <td>419944</td>\n    </tr>\n    <tr>\n      <th>146</th>\n      <td>Flashpoint-3-ClosedQualifier-dbl-poney-vs-havu...</td>\n      <td>de_train</td>\n      <td>7</td>\n      <td>128254</td>\n      <td>44.787402</td>\n      <td>76561198002132867</td>\n      <td>ZOREE</td>\n      <td>HAVU GAMING</td>\n      <td>723.178406</td>\n      <td>140.948746</td>\n      <td>-215.412201</td>\n      <td>plant</td>\n      <td>A</td>\n      <td>122566</td>\n      <td>127622</td>\n    </tr>\n    <tr>\n      <th>159</th>\n      <td>Flashpoint-3-ClosedQualifier-dbl-poney-vs-havu...</td>\n      <td>de_train</td>\n      <td>27</td>\n      <td>426506</td>\n      <td>111.330709</td>\n      <td>76561197960710573</td>\n      <td>NBK</td>\n      <td>DBL PONEY</td>\n      <td>348.260284</td>\n      <td>8.390979</td>\n      <td>-215.968750</td>\n      <td>plant</td>\n      <td>A</td>\n      <td>428647</td>\n      <td>428647</td>\n    </tr>\n    <tr>\n      <th>200</th>\n      <td>DreamHack-Masters-Spring-2021-astralis-vs-comp...</td>\n      <td>de_inferno</td>\n      <td>17</td>\n      <td>288782</td>\n      <td>89.740157</td>\n      <td>76561198077802866</td>\n      <td>poizon</td>\n      <td>Complexity</td>\n      <td>1896.010376</td>\n      <td>620.768494</td>\n      <td>160.031250</td>\n      <td>plant</td>\n      <td>A</td>\n      <td>277385</td>\n      <td>288299</td>\n    </tr>\n    <tr>\n      <th>240</th>\n      <td>DreamHack-Masters-Spring-2021-spirit-vs-virtus...</td>\n      <td>de_inferno</td>\n      <td>16</td>\n      <td>291727</td>\n      <td>117.000000</td>\n      <td>76561198040577200</td>\n      <td>sdy</td>\n      <td>Team Spirit</td>\n      <td>1879.965942</td>\n      <td>318.517883</td>\n      <td>160.031250</td>\n      <td>plant</td>\n      <td>A</td>\n      <td>276751</td>\n      <td>291471</td>\n    </tr>\n    <tr>\n      <th>253</th>\n      <td>DreamHack-Masters-Spring-2021-spirit-vs-virtus...</td>\n      <td>de_train</td>\n      <td>16</td>\n      <td>284922</td>\n      <td>77.385827</td>\n      <td>76561198127236290</td>\n      <td>qikert</td>\n      <td>Virtus.pro</td>\n      <td>-234.087555</td>\n      <td>-1281.694336</td>\n      <td>-355.968750</td>\n      <td>plant</td>\n      <td>B</td>\n      <td>275094</td>\n      <td>284904</td>\n    </tr>\n    <tr>\n      <th>260</th>\n      <td>DreamHack-Masters-Spring-2021-spirit-vs-virtus...</td>\n      <td>de_train</td>\n      <td>27</td>\n      <td>487455</td>\n      <td>57.031496</td>\n      <td>76561198036125584</td>\n      <td>Jame</td>\n      <td>Virtus.pro</td>\n      <td>-166.624283</td>\n      <td>-1282.281982</td>\n      <td>-281.276611</td>\n      <td>plant</td>\n      <td>B</td>\n      <td>492196</td>\n      <td>492196</td>\n    </tr>\n    <tr>\n      <th>276</th>\n      <td>REPUBLEAGUE-TIPOS-Season1-sinners-vs-forze-bo3</td>\n      <td>de_inferno</td>\n      <td>21</td>\n      <td>294068</td>\n      <td>67.354331</td>\n      <td>76561198026088156</td>\n      <td>Jerry x LUKOIL</td>\n      <td>forZe</td>\n      <td>1821.993408</td>\n      <td>608.031250</td>\n      <td>160.031250</td>\n      <td>plant</td>\n      <td>A</td>\n      <td>298498</td>\n      <td>298498</td>\n    </tr>\n    <tr>\n      <th>277</th>\n      <td>REPUBLEAGUE-TIPOS-Season1-sinners-vs-forze-bo3</td>\n      <td>de_inferno</td>\n      <td>21</td>\n      <td>298498</td>\n      <td>102.236220</td>\n      <td>76561198215434685</td>\n      <td>NEOFRAG</td>\n      <td>Sinners</td>\n      <td>1882.714355</td>\n      <td>611.359863</td>\n      <td>160.031250</td>\n      <td>defuse</td>\n      <td>A</td>\n      <td>298498</td>\n      <td>298498</td>\n    </tr>\n    <tr>\n      <th>289</th>\n      <td>REPUBLEAGUE-TIPOS-Season1-sinners-vs-forze-bo3</td>\n      <td>de_mirage</td>\n      <td>16</td>\n      <td>212619</td>\n      <td>36.664062</td>\n      <td>76561198134164683</td>\n      <td>ZEDKO</td>\n      <td>Sinners</td>\n      <td>-1968.013672</td>\n      <td>450.009460</td>\n      <td>-159.968750</td>\n      <td>plant</td>\n      <td>B</td>\n      <td>207926</td>\n      <td>212603</td>\n    </tr>\n    <tr>\n      <th>292</th>\n      <td>REPUBLEAGUE-TIPOS-Season1-sinners-vs-forze-bo3</td>\n      <td>de_mirage</td>\n      <td>22</td>\n      <td>272634</td>\n      <td>42.195312</td>\n      <td>76561198134164683</td>\n      <td>ZEDKO</td>\n      <td>Sinners</td>\n      <td>-496.623413</td>\n      <td>-2025.616455</td>\n      <td>-179.968750</td>\n      <td>plant</td>\n      <td>A</td>\n      <td>274471</td>\n      <td>274471</td>\n    </tr>\n    <tr>\n      <th>317</th>\n      <td>Spring-Sweet-Spring-1-fiend-vs-ago-bo3</td>\n      <td>de_dust2</td>\n      <td>21</td>\n      <td>304166</td>\n      <td>48.700787</td>\n      <td>76561198137761601</td>\n      <td>x-kom Furlan</td>\n      <td>AGO</td>\n      <td>1237.588989</td>\n      <td>2489.025146</td>\n      <td>172.031250</td>\n      <td>plant</td>\n      <td>A</td>\n      <td>297981</td>\n      <td>304144</td>\n    </tr>\n    <tr>\n      <th>322</th>\n      <td>Spring-Sweet-Spring-1-fiend-vs-ago-bo3</td>\n      <td>de_dust2</td>\n      <td>28</td>\n      <td>396803</td>\n      <td>32.716535</td>\n      <td>76561197991432466</td>\n      <td>x-kom rallen</td>\n      <td>AGO</td>\n      <td>-1366.012451</td>\n      <td>2565.990234</td>\n      <td>4.645828</td>\n      <td>plant</td>\n      <td>B</td>\n      <td>400724</td>\n      <td>400724</td>\n    </tr>\n    <tr>\n      <th>351</th>\n      <td>Flashpoint-3-ClosedQualifier-mousesports-vs-an...</td>\n      <td>de_overpass</td>\n      <td>2</td>\n      <td>50342</td>\n      <td>115.218750</td>\n      <td>76561198061801241</td>\n      <td>ddexterrr</td>\n      <td>mousesports</td>\n      <td>-2539.440918</td>\n      <td>647.052246</td>\n      <td>480.031250</td>\n      <td>plant</td>\n      <td>A</td>\n      <td>35594</td>\n      <td>50314</td>\n    </tr>\n    <tr>\n      <th>368</th>\n      <td>Flashpoint-3-ClosedQualifier-mousesports-vs-an...</td>\n      <td>de_overpass</td>\n      <td>21</td>\n      <td>359691</td>\n      <td>57.343750</td>\n      <td>76561197982141573</td>\n      <td>Snax</td>\n      <td>Anonymo Esports</td>\n      <td>-1023.565430</td>\n      <td>69.418610</td>\n      <td>98.115150</td>\n      <td>plant</td>\n      <td>B</td>\n      <td>352351</td>\n      <td>359055</td>\n    </tr>\n    <tr>\n      <th>395</th>\n      <td>Flashpoint-3-ClosedQualifier-mousesports-vs-an...</td>\n      <td>de_vertigo</td>\n      <td>22</td>\n      <td>350004</td>\n      <td>74.771654</td>\n      <td>76561197991272318</td>\n      <td>ropz</td>\n      <td>mousesports</td>\n      <td>-2228.632812</td>\n      <td>893.293152</td>\n      <td>11744.031250</td>\n      <td>plant</td>\n      <td>B</td>\n      <td>351916</td>\n      <td>351916</td>\n    </tr>\n  </tbody>\n</table>\n</div>"
     },
     "metadata": {},
     "execution_count": 4
    }
   ],
   "source": [
    "m_bomb_events_df = bomb_events_df.merge(rounds_df[['MatchId', 'MapName', 'RoundNum', 'FreezeTimeEnd', 'EndTick']], how='left', on=['MatchId', 'MapName', 'RoundNum'], validate='many_to_one')\n",
    "m_bomb_events_df[(m_bomb_events_df.Tick <= m_bomb_events_df.FreezeTimeEnd) | (m_bomb_events_df.Tick > m_bomb_events_df.EndTick)]"
   ]
  },
  {
   "cell_type": "code",
   "execution_count": null,
   "metadata": {},
   "outputs": [],
   "source": []
  },
  {
   "cell_type": "code",
   "execution_count": 5,
   "metadata": {
    "tags": []
   },
   "outputs": [],
   "source": [
    "def keep_in_round(df):\n",
    "    df = df.merge(rounds_df[['MatchId', 'MapName', 'RoundNum', 'FreezeTimeEnd', 'EndTick']], how='left', on=['MatchId', 'MapName', 'RoundNum'], validate='many_to_one')\n",
    "    df = df[(df.Tick >= df.FreezeTimeEnd) & (df.Tick < df.EndTick)]\n",
    "    df.drop(['FreezeTimeEnd', 'EndTick'], axis=1)\n",
    "    return df\n",
    "\n",
    "damages_df = keep_in_round(damages_df)\n",
    "player_frames_df = keep_in_round(player_frames_df)\n",
    "bomb_events_df = keep_in_round(bomb_events_df)\n",
    "kills_df = keep_in_round(kills_df)\n",
    "\n",
    "\n"
   ]
  },
  {
   "source": [
    "## Bomb Plants"
   ],
   "cell_type": "markdown",
   "metadata": {}
  },
  {
   "cell_type": "code",
   "execution_count": 6,
   "metadata": {},
   "outputs": [
    {
     "output_type": "execute_result",
     "data": {
      "text/plain": [
       "         RoundNum           Tick      Second  PlayerSteamId      PlayerX  \\\n",
       "count  302.000000     302.000000  302.000000   3.020000e+02   302.000000   \n",
       "mean    14.920530  244260.314570   73.359151   7.656120e+16  -127.250626   \n",
       "std      9.080316  153453.350869   23.902005   7.512620e+07  1308.562627   \n",
       "min      1.000000    4138.000000   23.031250   7.656120e+16 -2585.803955   \n",
       "25%      7.000000  117919.250000   53.191406   7.656120e+16 -1166.488892   \n",
       "50%     14.000000  219904.000000   73.564930   7.656120e+16  -165.031250   \n",
       "75%     22.000000  354712.500000   93.199342   7.656120e+16   654.587173   \n",
       "max     40.000000  664818.000000  115.165354   7.656120e+16  2130.126953   \n",
       "\n",
       "           PlayerY       PlayerZ  FreezeTimeEnd        EndTick  \n",
       "count   302.000000    302.000000     302.000000     302.000000  \n",
       "mean    378.941231   1519.268287  234906.576159  248012.062914  \n",
       "std    1513.599622   4018.216817  153327.133259  153287.729092  \n",
       "min   -2209.088135   -771.968750       0.000000    4556.000000  \n",
       "25%    -692.899689   -179.062012  110513.000000  121772.750000  \n",
       "50%     215.153748     98.031250  212681.000000  221513.000000  \n",
       "75%     873.797882    160.031250  347592.000000  359566.750000  \n",
       "max    3020.997070  11776.031250  657459.000000  667569.000000  "
      ],
      "text/html": "<div>\n<style scoped>\n    .dataframe tbody tr th:only-of-type {\n        vertical-align: middle;\n    }\n\n    .dataframe tbody tr th {\n        vertical-align: top;\n    }\n\n    .dataframe thead th {\n        text-align: right;\n    }\n</style>\n<table border=\"1\" class=\"dataframe\">\n  <thead>\n    <tr style=\"text-align: right;\">\n      <th></th>\n      <th>RoundNum</th>\n      <th>Tick</th>\n      <th>Second</th>\n      <th>PlayerSteamId</th>\n      <th>PlayerX</th>\n      <th>PlayerY</th>\n      <th>PlayerZ</th>\n      <th>FreezeTimeEnd</th>\n      <th>EndTick</th>\n    </tr>\n  </thead>\n  <tbody>\n    <tr>\n      <th>count</th>\n      <td>302.000000</td>\n      <td>302.000000</td>\n      <td>302.000000</td>\n      <td>3.020000e+02</td>\n      <td>302.000000</td>\n      <td>302.000000</td>\n      <td>302.000000</td>\n      <td>302.000000</td>\n      <td>302.000000</td>\n    </tr>\n    <tr>\n      <th>mean</th>\n      <td>14.920530</td>\n      <td>244260.314570</td>\n      <td>73.359151</td>\n      <td>7.656120e+16</td>\n      <td>-127.250626</td>\n      <td>378.941231</td>\n      <td>1519.268287</td>\n      <td>234906.576159</td>\n      <td>248012.062914</td>\n    </tr>\n    <tr>\n      <th>std</th>\n      <td>9.080316</td>\n      <td>153453.350869</td>\n      <td>23.902005</td>\n      <td>7.512620e+07</td>\n      <td>1308.562627</td>\n      <td>1513.599622</td>\n      <td>4018.216817</td>\n      <td>153327.133259</td>\n      <td>153287.729092</td>\n    </tr>\n    <tr>\n      <th>min</th>\n      <td>1.000000</td>\n      <td>4138.000000</td>\n      <td>23.031250</td>\n      <td>7.656120e+16</td>\n      <td>-2585.803955</td>\n      <td>-2209.088135</td>\n      <td>-771.968750</td>\n      <td>0.000000</td>\n      <td>4556.000000</td>\n    </tr>\n    <tr>\n      <th>25%</th>\n      <td>7.000000</td>\n      <td>117919.250000</td>\n      <td>53.191406</td>\n      <td>7.656120e+16</td>\n      <td>-1166.488892</td>\n      <td>-692.899689</td>\n      <td>-179.062012</td>\n      <td>110513.000000</td>\n      <td>121772.750000</td>\n    </tr>\n    <tr>\n      <th>50%</th>\n      <td>14.000000</td>\n      <td>219904.000000</td>\n      <td>73.564930</td>\n      <td>7.656120e+16</td>\n      <td>-165.031250</td>\n      <td>215.153748</td>\n      <td>98.031250</td>\n      <td>212681.000000</td>\n      <td>221513.000000</td>\n    </tr>\n    <tr>\n      <th>75%</th>\n      <td>22.000000</td>\n      <td>354712.500000</td>\n      <td>93.199342</td>\n      <td>7.656120e+16</td>\n      <td>654.587173</td>\n      <td>873.797882</td>\n      <td>160.031250</td>\n      <td>347592.000000</td>\n      <td>359566.750000</td>\n    </tr>\n    <tr>\n      <th>max</th>\n      <td>40.000000</td>\n      <td>664818.000000</td>\n      <td>115.165354</td>\n      <td>7.656120e+16</td>\n      <td>2130.126953</td>\n      <td>3020.997070</td>\n      <td>11776.031250</td>\n      <td>657459.000000</td>\n      <td>667569.000000</td>\n    </tr>\n  </tbody>\n</table>\n</div>"
     },
     "metadata": {},
     "execution_count": 6
    }
   ],
   "source": [
    "bomb_events_df.describe()"
   ]
  },
  {
   "cell_type": "code",
   "execution_count": 7,
   "metadata": {},
   "outputs": [],
   "source": [
    "bomb_plants_df = bomb_events_df[bomb_events_df.BombAction == 'plant'].drop(columns='BombAction')"
   ]
  },
  {
   "cell_type": "code",
   "execution_count": 8,
   "metadata": {},
   "outputs": [
    {
     "output_type": "execute_result",
     "data": {
      "text/plain": [
       "         RoundNum           Tick      Second  PlayerSteamId      PlayerX  \\\n",
       "count  302.000000     302.000000  302.000000   3.020000e+02   302.000000   \n",
       "mean    14.920530  244260.314570   73.359151   7.656120e+16  -127.250626   \n",
       "std      9.080316  153453.350869   23.902005   7.512620e+07  1308.562627   \n",
       "min      1.000000    4138.000000   23.031250   7.656120e+16 -2585.803955   \n",
       "25%      7.000000  117919.250000   53.191406   7.656120e+16 -1166.488892   \n",
       "50%     14.000000  219904.000000   73.564930   7.656120e+16  -165.031250   \n",
       "75%     22.000000  354712.500000   93.199342   7.656120e+16   654.587173   \n",
       "max     40.000000  664818.000000  115.165354   7.656120e+16  2130.126953   \n",
       "\n",
       "           PlayerY       PlayerZ  FreezeTimeEnd        EndTick  \n",
       "count   302.000000    302.000000     302.000000     302.000000  \n",
       "mean    378.941231   1519.268287  234906.576159  248012.062914  \n",
       "std    1513.599622   4018.216817  153327.133259  153287.729092  \n",
       "min   -2209.088135   -771.968750       0.000000    4556.000000  \n",
       "25%    -692.899689   -179.062012  110513.000000  121772.750000  \n",
       "50%     215.153748     98.031250  212681.000000  221513.000000  \n",
       "75%     873.797882    160.031250  347592.000000  359566.750000  \n",
       "max    3020.997070  11776.031250  657459.000000  667569.000000  "
      ],
      "text/html": "<div>\n<style scoped>\n    .dataframe tbody tr th:only-of-type {\n        vertical-align: middle;\n    }\n\n    .dataframe tbody tr th {\n        vertical-align: top;\n    }\n\n    .dataframe thead th {\n        text-align: right;\n    }\n</style>\n<table border=\"1\" class=\"dataframe\">\n  <thead>\n    <tr style=\"text-align: right;\">\n      <th></th>\n      <th>RoundNum</th>\n      <th>Tick</th>\n      <th>Second</th>\n      <th>PlayerSteamId</th>\n      <th>PlayerX</th>\n      <th>PlayerY</th>\n      <th>PlayerZ</th>\n      <th>FreezeTimeEnd</th>\n      <th>EndTick</th>\n    </tr>\n  </thead>\n  <tbody>\n    <tr>\n      <th>count</th>\n      <td>302.000000</td>\n      <td>302.000000</td>\n      <td>302.000000</td>\n      <td>3.020000e+02</td>\n      <td>302.000000</td>\n      <td>302.000000</td>\n      <td>302.000000</td>\n      <td>302.000000</td>\n      <td>302.000000</td>\n    </tr>\n    <tr>\n      <th>mean</th>\n      <td>14.920530</td>\n      <td>244260.314570</td>\n      <td>73.359151</td>\n      <td>7.656120e+16</td>\n      <td>-127.250626</td>\n      <td>378.941231</td>\n      <td>1519.268287</td>\n      <td>234906.576159</td>\n      <td>248012.062914</td>\n    </tr>\n    <tr>\n      <th>std</th>\n      <td>9.080316</td>\n      <td>153453.350869</td>\n      <td>23.902005</td>\n      <td>7.512620e+07</td>\n      <td>1308.562627</td>\n      <td>1513.599622</td>\n      <td>4018.216817</td>\n      <td>153327.133259</td>\n      <td>153287.729092</td>\n    </tr>\n    <tr>\n      <th>min</th>\n      <td>1.000000</td>\n      <td>4138.000000</td>\n      <td>23.031250</td>\n      <td>7.656120e+16</td>\n      <td>-2585.803955</td>\n      <td>-2209.088135</td>\n      <td>-771.968750</td>\n      <td>0.000000</td>\n      <td>4556.000000</td>\n    </tr>\n    <tr>\n      <th>25%</th>\n      <td>7.000000</td>\n      <td>117919.250000</td>\n      <td>53.191406</td>\n      <td>7.656120e+16</td>\n      <td>-1166.488892</td>\n      <td>-692.899689</td>\n      <td>-179.062012</td>\n      <td>110513.000000</td>\n      <td>121772.750000</td>\n    </tr>\n    <tr>\n      <th>50%</th>\n      <td>14.000000</td>\n      <td>219904.000000</td>\n      <td>73.564930</td>\n      <td>7.656120e+16</td>\n      <td>-165.031250</td>\n      <td>215.153748</td>\n      <td>98.031250</td>\n      <td>212681.000000</td>\n      <td>221513.000000</td>\n    </tr>\n    <tr>\n      <th>75%</th>\n      <td>22.000000</td>\n      <td>354712.500000</td>\n      <td>93.199342</td>\n      <td>7.656120e+16</td>\n      <td>654.587173</td>\n      <td>873.797882</td>\n      <td>160.031250</td>\n      <td>347592.000000</td>\n      <td>359566.750000</td>\n    </tr>\n    <tr>\n      <th>max</th>\n      <td>40.000000</td>\n      <td>664818.000000</td>\n      <td>115.165354</td>\n      <td>7.656120e+16</td>\n      <td>2130.126953</td>\n      <td>3020.997070</td>\n      <td>11776.031250</td>\n      <td>657459.000000</td>\n      <td>667569.000000</td>\n    </tr>\n  </tbody>\n</table>\n</div>"
     },
     "metadata": {},
     "execution_count": 8
    }
   ],
   "source": [
    "bomb_plants_df.describe()"
   ]
  },
  {
   "cell_type": "code",
   "execution_count": 9,
   "metadata": {},
   "outputs": [
    {
     "output_type": "execute_result",
     "data": {
      "text/plain": [
       "MatchId          0\n",
       "MapName          0\n",
       "RoundNum         0\n",
       "Tick             0\n",
       "Second           0\n",
       "PlayerSteamId    0\n",
       "PlayerName       0\n",
       "PlayerTeam       0\n",
       "PlayerX          0\n",
       "PlayerY          0\n",
       "PlayerZ          0\n",
       "BombSite         0\n",
       "FreezeTimeEnd    0\n",
       "EndTick          0\n",
       "dtype: int64"
      ]
     },
     "metadata": {},
     "execution_count": 9
    }
   ],
   "source": [
    "bomb_plants_df.isna().sum()"
   ]
  },
  {
   "cell_type": "code",
   "execution_count": 10,
   "metadata": {},
   "outputs": [
    {
     "output_type": "execute_result",
     "data": {
      "text/plain": [
       "                                             MatchId      MapName  RoundNum  \\\n",
       "0  Liga-Gamers-Club-2021-Serie-A-April-Cup-santos...  de_overpass         1   \n",
       "2  Liga-Gamers-Club-2021-Serie-A-April-Cup-santos...  de_overpass         2   \n",
       "3  Liga-Gamers-Club-2021-Serie-A-April-Cup-santos...  de_overpass         3   \n",
       "4  Liga-Gamers-Club-2021-Serie-A-April-Cup-santos...  de_overpass         4   \n",
       "5  Liga-Gamers-Club-2021-Serie-A-April-Cup-santos...  de_overpass         5   \n",
       "\n",
       "    Tick  FreezeTimeEnd  EndTick  BombPlantedA  BombPlantedB  \n",
       "0  23419          15794    27867          True         False  \n",
       "2  41686          31070    46939         False          True  \n",
       "3  59274          50138    64531         False          True  \n",
       "4  75832          67724    81080         False          True  \n",
       "5  94851          84283    98592         False          True  "
      ],
      "text/html": "<div>\n<style scoped>\n    .dataframe tbody tr th:only-of-type {\n        vertical-align: middle;\n    }\n\n    .dataframe tbody tr th {\n        vertical-align: top;\n    }\n\n    .dataframe thead th {\n        text-align: right;\n    }\n</style>\n<table border=\"1\" class=\"dataframe\">\n  <thead>\n    <tr style=\"text-align: right;\">\n      <th></th>\n      <th>MatchId</th>\n      <th>MapName</th>\n      <th>RoundNum</th>\n      <th>Tick</th>\n      <th>FreezeTimeEnd</th>\n      <th>EndTick</th>\n      <th>BombPlantedA</th>\n      <th>BombPlantedB</th>\n    </tr>\n  </thead>\n  <tbody>\n    <tr>\n      <th>0</th>\n      <td>Liga-Gamers-Club-2021-Serie-A-April-Cup-santos...</td>\n      <td>de_overpass</td>\n      <td>1</td>\n      <td>23419</td>\n      <td>15794</td>\n      <td>27867</td>\n      <td>True</td>\n      <td>False</td>\n    </tr>\n    <tr>\n      <th>2</th>\n      <td>Liga-Gamers-Club-2021-Serie-A-April-Cup-santos...</td>\n      <td>de_overpass</td>\n      <td>2</td>\n      <td>41686</td>\n      <td>31070</td>\n      <td>46939</td>\n      <td>False</td>\n      <td>True</td>\n    </tr>\n    <tr>\n      <th>3</th>\n      <td>Liga-Gamers-Club-2021-Serie-A-April-Cup-santos...</td>\n      <td>de_overpass</td>\n      <td>3</td>\n      <td>59274</td>\n      <td>50138</td>\n      <td>64531</td>\n      <td>False</td>\n      <td>True</td>\n    </tr>\n    <tr>\n      <th>4</th>\n      <td>Liga-Gamers-Club-2021-Serie-A-April-Cup-santos...</td>\n      <td>de_overpass</td>\n      <td>4</td>\n      <td>75832</td>\n      <td>67724</td>\n      <td>81080</td>\n      <td>False</td>\n      <td>True</td>\n    </tr>\n    <tr>\n      <th>5</th>\n      <td>Liga-Gamers-Club-2021-Serie-A-April-Cup-santos...</td>\n      <td>de_overpass</td>\n      <td>5</td>\n      <td>94851</td>\n      <td>84283</td>\n      <td>98592</td>\n      <td>False</td>\n      <td>True</td>\n    </tr>\n  </tbody>\n</table>\n</div>"
     },
     "metadata": {},
     "execution_count": 10
    }
   ],
   "source": [
    "bomb_plants_df['BombPlantedA'] = bomb_plants_df['BombSite'] == 'A'\n",
    "bomb_plants_df['BombPlantedB'] = bomb_plants_df['BombSite'] == 'B'\n",
    "bomb_plants_df.drop(columns=['Second', 'PlayerSteamId', 'PlayerName', 'PlayerTeam', 'PlayerX', 'PlayerY', 'PlayerZ', 'BombSite'], inplace=True)\n",
    "bomb_plants_df.head()"
   ]
  },
  {
   "source": [
    "## Kills and Damage"
   ],
   "cell_type": "markdown",
   "metadata": {}
  },
  {
   "cell_type": "code",
   "execution_count": 11,
   "metadata": {},
   "outputs": [],
   "source": [
    "# Drop C4 kills and damages since those happen when the round ends\n",
    "kills_df = kills_df[kills_df.Weapon != 'C4']\n",
    "damages_df = damages_df[damages_df.Weapon != 'C4']"
   ]
  },
  {
   "cell_type": "code",
   "execution_count": 12,
   "metadata": {},
   "outputs": [
    {
     "output_type": "execute_result",
     "data": {
      "text/plain": [
       "                                             MatchId      MapName  RoundNum  \\\n",
       "0  Liga-Gamers-Club-2021-Serie-A-April-Cup-santos...  de_overpass         1   \n",
       "1  Liga-Gamers-Club-2021-Serie-A-April-Cup-santos...  de_overpass         1   \n",
       "2  Liga-Gamers-Club-2021-Serie-A-April-Cup-santos...  de_overpass         1   \n",
       "3  Liga-Gamers-Club-2021-Serie-A-April-Cup-santos...  de_overpass         1   \n",
       "4  Liga-Gamers-Club-2021-Serie-A-April-Cup-santos...  de_overpass         1   \n",
       "\n",
       "    Tick  AttackerSteamId AttackerName     AttackerTeam AttackerSide  \\\n",
       "0  20967     7.656120e+16   ★ ㉑ cass1n  Santos e-Sports            T   \n",
       "1  21115     7.656120e+16   ★ ㉑ cass1n  Santos e-Sports            T   \n",
       "2  21259     7.656120e+16   ★ ㉑ matios       SWS Gaming           CT   \n",
       "3  21799     7.656120e+16   ★ ⑳ MaLLby  Santos e-Sports            T   \n",
       "4  22791     7.656120e+16   ★ ⑳ MaLLby  Santos e-Sports            T   \n",
       "\n",
       "       VictimSteamId     VictimName       VictimTeam VictimSide    Weapon  \\\n",
       "0  76561198286138224  ★ ㉑ BGalvao90       SWS Gaming         CT      p250   \n",
       "1  76561198135228658     ★ ㉑ gafolo       SWS Gaming         CT      p250   \n",
       "2  76561198148561509     ★ ㉑ cass1n  Santos e-Sports          T     USP-S   \n",
       "3  76561198061789000    ★ ㉑ RICIOLI       SWS Gaming         CT  Glock-18   \n",
       "4  76561198051070311        ★ ㉑ phx       SWS Gaming         CT  Glock-18   \n",
       "\n",
       "   FreezeTimeEnd  EndTick  \n",
       "0          15794    27867  \n",
       "1          15794    27867  \n",
       "2          15794    27867  \n",
       "3          15794    27867  \n",
       "4          15794    27867  "
      ],
      "text/html": "<div>\n<style scoped>\n    .dataframe tbody tr th:only-of-type {\n        vertical-align: middle;\n    }\n\n    .dataframe tbody tr th {\n        vertical-align: top;\n    }\n\n    .dataframe thead th {\n        text-align: right;\n    }\n</style>\n<table border=\"1\" class=\"dataframe\">\n  <thead>\n    <tr style=\"text-align: right;\">\n      <th></th>\n      <th>MatchId</th>\n      <th>MapName</th>\n      <th>RoundNum</th>\n      <th>Tick</th>\n      <th>AttackerSteamId</th>\n      <th>AttackerName</th>\n      <th>AttackerTeam</th>\n      <th>AttackerSide</th>\n      <th>VictimSteamId</th>\n      <th>VictimName</th>\n      <th>VictimTeam</th>\n      <th>VictimSide</th>\n      <th>Weapon</th>\n      <th>FreezeTimeEnd</th>\n      <th>EndTick</th>\n    </tr>\n  </thead>\n  <tbody>\n    <tr>\n      <th>0</th>\n      <td>Liga-Gamers-Club-2021-Serie-A-April-Cup-santos...</td>\n      <td>de_overpass</td>\n      <td>1</td>\n      <td>20967</td>\n      <td>7.656120e+16</td>\n      <td>★ ㉑ cass1n</td>\n      <td>Santos e-Sports</td>\n      <td>T</td>\n      <td>76561198286138224</td>\n      <td>★ ㉑ BGalvao90</td>\n      <td>SWS Gaming</td>\n      <td>CT</td>\n      <td>p250</td>\n      <td>15794</td>\n      <td>27867</td>\n    </tr>\n    <tr>\n      <th>1</th>\n      <td>Liga-Gamers-Club-2021-Serie-A-April-Cup-santos...</td>\n      <td>de_overpass</td>\n      <td>1</td>\n      <td>21115</td>\n      <td>7.656120e+16</td>\n      <td>★ ㉑ cass1n</td>\n      <td>Santos e-Sports</td>\n      <td>T</td>\n      <td>76561198135228658</td>\n      <td>★ ㉑ gafolo</td>\n      <td>SWS Gaming</td>\n      <td>CT</td>\n      <td>p250</td>\n      <td>15794</td>\n      <td>27867</td>\n    </tr>\n    <tr>\n      <th>2</th>\n      <td>Liga-Gamers-Club-2021-Serie-A-April-Cup-santos...</td>\n      <td>de_overpass</td>\n      <td>1</td>\n      <td>21259</td>\n      <td>7.656120e+16</td>\n      <td>★ ㉑ matios</td>\n      <td>SWS Gaming</td>\n      <td>CT</td>\n      <td>76561198148561509</td>\n      <td>★ ㉑ cass1n</td>\n      <td>Santos e-Sports</td>\n      <td>T</td>\n      <td>USP-S</td>\n      <td>15794</td>\n      <td>27867</td>\n    </tr>\n    <tr>\n      <th>3</th>\n      <td>Liga-Gamers-Club-2021-Serie-A-April-Cup-santos...</td>\n      <td>de_overpass</td>\n      <td>1</td>\n      <td>21799</td>\n      <td>7.656120e+16</td>\n      <td>★ ⑳ MaLLby</td>\n      <td>Santos e-Sports</td>\n      <td>T</td>\n      <td>76561198061789000</td>\n      <td>★ ㉑ RICIOLI</td>\n      <td>SWS Gaming</td>\n      <td>CT</td>\n      <td>Glock-18</td>\n      <td>15794</td>\n      <td>27867</td>\n    </tr>\n    <tr>\n      <th>4</th>\n      <td>Liga-Gamers-Club-2021-Serie-A-April-Cup-santos...</td>\n      <td>de_overpass</td>\n      <td>1</td>\n      <td>22791</td>\n      <td>7.656120e+16</td>\n      <td>★ ⑳ MaLLby</td>\n      <td>Santos e-Sports</td>\n      <td>T</td>\n      <td>76561198051070311</td>\n      <td>★ ㉑ phx</td>\n      <td>SWS Gaming</td>\n      <td>CT</td>\n      <td>Glock-18</td>\n      <td>15794</td>\n      <td>27867</td>\n    </tr>\n  </tbody>\n</table>\n</div>"
     },
     "metadata": {},
     "execution_count": 12
    }
   ],
   "source": [
    "kills_df.drop(columns=['Second', 'AttackerX', 'AttackerY', 'AttackerZ', 'AttackerAreaId', 'AttackerAreaName', 'AttackerViewX', 'AttackerViewY', 'VictimX', 'VictimY', 'VictimZ', 'VictimAreaId', 'VictimAreaName', 'VictimViewX', 'VictimViewY', 'AssisterSteamId', 'AssisterName', 'AssisterTeam', 'AssisterSide', 'AssisterX', 'AssisterY', 'AssisterZ', 'AssisterAreaId', 'AssisterAreaName', 'IsWallbang', 'IsFlashed', 'IsHeadshot','IsTrade', 'PlayerTradedName', 'PlayerTradedTeam', 'PlayerTradedSteamId', 'IsFirstKill'], inplace=True)\n",
    "kills_df.head()"
   ]
  },
  {
   "cell_type": "code",
   "execution_count": 13,
   "metadata": {},
   "outputs": [
    {
     "output_type": "execute_result",
     "data": {
      "text/plain": [
       "                                             MatchId      MapName  RoundNum  \\\n",
       "0  Liga-Gamers-Club-2021-Serie-A-April-Cup-santos...  de_overpass         1   \n",
       "1  Liga-Gamers-Club-2021-Serie-A-April-Cup-santos...  de_overpass         1   \n",
       "2  Liga-Gamers-Club-2021-Serie-A-April-Cup-santos...  de_overpass         1   \n",
       "3  Liga-Gamers-Club-2021-Serie-A-April-Cup-santos...  de_overpass         1   \n",
       "4  Liga-Gamers-Club-2021-Serie-A-April-Cup-santos...  de_overpass         1   \n",
       "\n",
       "    Tick  AttackerSteamId AttackerName     AttackerTeam AttackerSide  \\\n",
       "0  20943     7.656120e+16   ★ ㉑ cass1n  Santos e-Sports            T   \n",
       "1  20967     7.656120e+16   ★ ㉑ cass1n  Santos e-Sports            T   \n",
       "2  21115     7.656120e+16   ★ ㉑ cass1n  Santos e-Sports            T   \n",
       "3  21259     7.656120e+16   ★ ㉑ matios       SWS Gaming           CT   \n",
       "4  21759     7.656120e+16   ★ ⑳ MaLLby  Santos e-Sports            T   \n",
       "\n",
       "       VictimSteamId     VictimName       VictimTeam VictimSide    Weapon  \\\n",
       "0  76561198286138224  ★ ㉑ BGalvao90       SWS Gaming         CT      p250   \n",
       "1  76561198286138224  ★ ㉑ BGalvao90       SWS Gaming         CT      p250   \n",
       "2  76561198135228658     ★ ㉑ gafolo       SWS Gaming         CT      p250   \n",
       "3  76561198148561509     ★ ㉑ cass1n  Santos e-Sports          T     USP-S   \n",
       "4  76561198061789000    ★ ㉑ RICIOLI       SWS Gaming         CT  Glock-18   \n",
       "\n",
       "   HpDamageTaken  FreezeTimeEnd  EndTick  \n",
       "0             21          15794    27867  \n",
       "1             79          15794    27867  \n",
       "2            100          15794    27867  \n",
       "3            100          15794    27867  \n",
       "4             11          15794    27867  "
      ],
      "text/html": "<div>\n<style scoped>\n    .dataframe tbody tr th:only-of-type {\n        vertical-align: middle;\n    }\n\n    .dataframe tbody tr th {\n        vertical-align: top;\n    }\n\n    .dataframe thead th {\n        text-align: right;\n    }\n</style>\n<table border=\"1\" class=\"dataframe\">\n  <thead>\n    <tr style=\"text-align: right;\">\n      <th></th>\n      <th>MatchId</th>\n      <th>MapName</th>\n      <th>RoundNum</th>\n      <th>Tick</th>\n      <th>AttackerSteamId</th>\n      <th>AttackerName</th>\n      <th>AttackerTeam</th>\n      <th>AttackerSide</th>\n      <th>VictimSteamId</th>\n      <th>VictimName</th>\n      <th>VictimTeam</th>\n      <th>VictimSide</th>\n      <th>Weapon</th>\n      <th>HpDamageTaken</th>\n      <th>FreezeTimeEnd</th>\n      <th>EndTick</th>\n    </tr>\n  </thead>\n  <tbody>\n    <tr>\n      <th>0</th>\n      <td>Liga-Gamers-Club-2021-Serie-A-April-Cup-santos...</td>\n      <td>de_overpass</td>\n      <td>1</td>\n      <td>20943</td>\n      <td>7.656120e+16</td>\n      <td>★ ㉑ cass1n</td>\n      <td>Santos e-Sports</td>\n      <td>T</td>\n      <td>76561198286138224</td>\n      <td>★ ㉑ BGalvao90</td>\n      <td>SWS Gaming</td>\n      <td>CT</td>\n      <td>p250</td>\n      <td>21</td>\n      <td>15794</td>\n      <td>27867</td>\n    </tr>\n    <tr>\n      <th>1</th>\n      <td>Liga-Gamers-Club-2021-Serie-A-April-Cup-santos...</td>\n      <td>de_overpass</td>\n      <td>1</td>\n      <td>20967</td>\n      <td>7.656120e+16</td>\n      <td>★ ㉑ cass1n</td>\n      <td>Santos e-Sports</td>\n      <td>T</td>\n      <td>76561198286138224</td>\n      <td>★ ㉑ BGalvao90</td>\n      <td>SWS Gaming</td>\n      <td>CT</td>\n      <td>p250</td>\n      <td>79</td>\n      <td>15794</td>\n      <td>27867</td>\n    </tr>\n    <tr>\n      <th>2</th>\n      <td>Liga-Gamers-Club-2021-Serie-A-April-Cup-santos...</td>\n      <td>de_overpass</td>\n      <td>1</td>\n      <td>21115</td>\n      <td>7.656120e+16</td>\n      <td>★ ㉑ cass1n</td>\n      <td>Santos e-Sports</td>\n      <td>T</td>\n      <td>76561198135228658</td>\n      <td>★ ㉑ gafolo</td>\n      <td>SWS Gaming</td>\n      <td>CT</td>\n      <td>p250</td>\n      <td>100</td>\n      <td>15794</td>\n      <td>27867</td>\n    </tr>\n    <tr>\n      <th>3</th>\n      <td>Liga-Gamers-Club-2021-Serie-A-April-Cup-santos...</td>\n      <td>de_overpass</td>\n      <td>1</td>\n      <td>21259</td>\n      <td>7.656120e+16</td>\n      <td>★ ㉑ matios</td>\n      <td>SWS Gaming</td>\n      <td>CT</td>\n      <td>76561198148561509</td>\n      <td>★ ㉑ cass1n</td>\n      <td>Santos e-Sports</td>\n      <td>T</td>\n      <td>USP-S</td>\n      <td>100</td>\n      <td>15794</td>\n      <td>27867</td>\n    </tr>\n    <tr>\n      <th>4</th>\n      <td>Liga-Gamers-Club-2021-Serie-A-April-Cup-santos...</td>\n      <td>de_overpass</td>\n      <td>1</td>\n      <td>21759</td>\n      <td>7.656120e+16</td>\n      <td>★ ⑳ MaLLby</td>\n      <td>Santos e-Sports</td>\n      <td>T</td>\n      <td>76561198061789000</td>\n      <td>★ ㉑ RICIOLI</td>\n      <td>SWS Gaming</td>\n      <td>CT</td>\n      <td>Glock-18</td>\n      <td>11</td>\n      <td>15794</td>\n      <td>27867</td>\n    </tr>\n  </tbody>\n</table>\n</div>"
     },
     "metadata": {},
     "execution_count": 13
    }
   ],
   "source": [
    "damages_df.drop(columns=['Second', 'AttackerX', 'AttackerY', 'AttackerZ', 'AttackerAreaId', 'AttackerAreaName', 'AttackerViewX', 'AttackerViewY', 'VictimX', 'VictimY', 'VictimZ', 'VictimAreaId', 'VictimAreaName', 'VictimViewX', 'VictimViewY', 'HpDamage', 'ArmorDamage', 'ArmorDamageTaken', 'HitGroup'], inplace=True)\n",
    "damages_df.head()"
   ]
  },
  {
   "cell_type": "code",
   "execution_count": 14,
   "metadata": {},
   "outputs": [
    {
     "output_type": "stream",
     "name": "stdout",
     "text": [
      "Number of kills with corresponding damage event: 3325\nNumber of kills: 3317\n"
     ]
    }
   ],
   "source": [
    "# Check that all kills have a corresponding damage event\n",
    "inner_merge_df = kills_df.merge(damages_df, on=['MatchId', 'MapName', 'RoundNum', 'Tick', 'AttackerSteamId', 'AttackerName', 'AttackerTeam', 'AttackerSide', 'VictimSteamId', 'VictimName', 'VictimTeam', 'VictimSide'])\n",
    "print('Number of kills with corresponding damage event:', len(inner_merge_df))\n",
    "print('Number of kills:', len(kills_df))"
   ]
  },
  {
   "source": [
    "# Combine simultaneous instances of damage from the same player to the same player\n",
    "damages_df = damages_df.groupby(['MatchId', 'MapName', 'RoundNum', 'Tick', 'AttackerSteamId', 'AttackerName', 'AttackerTeam', 'AttackerSide', 'VictimSteamId', 'VictimName', 'VictimTeam', 'VictimSide'], as_index=False).sum()\n",
    "damages_df['HpDamageTaken'] = damages_df.HpDamageTaken.apply(lambda x: min([x, 100]))  # Bugged/laggy damages instances > 100 (shouldn't be possible)\n"
   ],
   "cell_type": "code",
   "metadata": {},
   "execution_count": 15,
   "outputs": []
  },
  {
   "cell_type": "code",
   "execution_count": 16,
   "metadata": {},
   "outputs": [
    {
     "output_type": "execute_result",
     "data": {
      "text/plain": [
       "Empty DataFrame\n",
       "Columns: [MatchId, MapName, RoundNum, Tick, AttackerSteamId, AttackerName, AttackerTeam, AttackerSide, VictimSteamId, VictimName, VictimTeam, VictimSide, Weapon, FreezeTimeEnd_x, EndTick_x, HpDamageTaken, FreezeTimeEnd_y, EndTick_y, _merge]\n",
       "Index: []"
      ],
      "text/html": "<div>\n<style scoped>\n    .dataframe tbody tr th:only-of-type {\n        vertical-align: middle;\n    }\n\n    .dataframe tbody tr th {\n        vertical-align: top;\n    }\n\n    .dataframe thead th {\n        text-align: right;\n    }\n</style>\n<table border=\"1\" class=\"dataframe\">\n  <thead>\n    <tr style=\"text-align: right;\">\n      <th></th>\n      <th>MatchId</th>\n      <th>MapName</th>\n      <th>RoundNum</th>\n      <th>Tick</th>\n      <th>AttackerSteamId</th>\n      <th>AttackerName</th>\n      <th>AttackerTeam</th>\n      <th>AttackerSide</th>\n      <th>VictimSteamId</th>\n      <th>VictimName</th>\n      <th>VictimTeam</th>\n      <th>VictimSide</th>\n      <th>Weapon</th>\n      <th>FreezeTimeEnd_x</th>\n      <th>EndTick_x</th>\n      <th>HpDamageTaken</th>\n      <th>FreezeTimeEnd_y</th>\n      <th>EndTick_y</th>\n      <th>_merge</th>\n    </tr>\n  </thead>\n  <tbody>\n  </tbody>\n</table>\n</div>"
     },
     "metadata": {},
     "execution_count": 16
    }
   ],
   "source": [
    "# Check that all kills NOW have a corresponding damage event\n",
    "merge_df = kills_df.merge(damages_df, how='left', on=['MatchId', 'MapName', 'RoundNum', 'Tick', 'AttackerSteamId', 'AttackerName', 'AttackerTeam', 'AttackerSide', 'VictimSteamId', 'VictimName', 'VictimTeam', 'VictimSide'], indicator=True)\n",
    "merge_df[merge_df._merge == 'left_only']"
   ]
  },
  {
   "cell_type": "code",
   "execution_count": 17,
   "metadata": {},
   "outputs": [],
   "source": [
    "inner_merge_df = kills_df.merge(damages_df, on=['MatchId', 'MapName', 'RoundNum', 'Tick', 'AttackerSteamId', 'AttackerName', 'AttackerTeam', 'AttackerSide', 'VictimSteamId', 'VictimName', 'VictimTeam', 'VictimSide'])"
   ]
  },
  {
   "source": [
    "### Merging kills into damage"
   ],
   "cell_type": "markdown",
   "metadata": {}
  },
  {
   "cell_type": "code",
   "execution_count": 18,
   "metadata": {},
   "outputs": [
    {
     "output_type": "execute_result",
     "data": {
      "text/plain": [
       "                                             MatchId     MapName  RoundNum  \\\n",
       "0  DreamHack-Masters-Spring-2021-astralis-vs-comp...  de_inferno         1   \n",
       "1  DreamHack-Masters-Spring-2021-astralis-vs-comp...  de_inferno         1   \n",
       "2  DreamHack-Masters-Spring-2021-astralis-vs-comp...  de_inferno         1   \n",
       "3  DreamHack-Masters-Spring-2021-astralis-vs-comp...  de_inferno         1   \n",
       "4  DreamHack-Masters-Spring-2021-astralis-vs-comp...  de_inferno         1   \n",
       "\n",
       "   Tick  AttackerSteamId AttackerName AttackerTeam AttackerSide  \\\n",
       "0  6431     7.656120e+16         RUSH   Complexity           CT   \n",
       "1  6499     7.656120e+16         RUSH   Complexity           CT   \n",
       "2  6522     7.656120e+16         RUSH   Complexity           CT   \n",
       "3  6543     7.656120e+16       blameF   Complexity           CT   \n",
       "4  6646     7.656120e+16      dupreeh     Astralis            T   \n",
       "\n",
       "       VictimSteamId VictimName  VictimTeam VictimSide  HpDamageTaken  \\\n",
       "0  76561198131369187    Bubzkji    Astralis          T             16   \n",
       "1  76561198131369187    Bubzkji    Astralis          T             16   \n",
       "2  76561198131369187    Bubzkji    Astralis          T             20   \n",
       "3  76561198131369187    Bubzkji    Astralis          T             48   \n",
       "4  76561198023592320       RUSH  Complexity         CT             12   \n",
       "\n",
       "   FreezeTimeEnd_x  EndTick_x Weapon  FreezeTimeEnd_y  EndTick_y  IsKill  \n",
       "0             3710      12332    NaN              NaN        NaN   False  \n",
       "1             3710      12332    NaN              NaN        NaN   False  \n",
       "2             3710      12332    NaN              NaN        NaN   False  \n",
       "3             3710      12332  USP-S           3710.0    12332.0    True  \n",
       "4             3710      12332    NaN              NaN        NaN   False  "
      ],
      "text/html": "<div>\n<style scoped>\n    .dataframe tbody tr th:only-of-type {\n        vertical-align: middle;\n    }\n\n    .dataframe tbody tr th {\n        vertical-align: top;\n    }\n\n    .dataframe thead th {\n        text-align: right;\n    }\n</style>\n<table border=\"1\" class=\"dataframe\">\n  <thead>\n    <tr style=\"text-align: right;\">\n      <th></th>\n      <th>MatchId</th>\n      <th>MapName</th>\n      <th>RoundNum</th>\n      <th>Tick</th>\n      <th>AttackerSteamId</th>\n      <th>AttackerName</th>\n      <th>AttackerTeam</th>\n      <th>AttackerSide</th>\n      <th>VictimSteamId</th>\n      <th>VictimName</th>\n      <th>VictimTeam</th>\n      <th>VictimSide</th>\n      <th>HpDamageTaken</th>\n      <th>FreezeTimeEnd_x</th>\n      <th>EndTick_x</th>\n      <th>Weapon</th>\n      <th>FreezeTimeEnd_y</th>\n      <th>EndTick_y</th>\n      <th>IsKill</th>\n    </tr>\n  </thead>\n  <tbody>\n    <tr>\n      <th>0</th>\n      <td>DreamHack-Masters-Spring-2021-astralis-vs-comp...</td>\n      <td>de_inferno</td>\n      <td>1</td>\n      <td>6431</td>\n      <td>7.656120e+16</td>\n      <td>RUSH</td>\n      <td>Complexity</td>\n      <td>CT</td>\n      <td>76561198131369187</td>\n      <td>Bubzkji</td>\n      <td>Astralis</td>\n      <td>T</td>\n      <td>16</td>\n      <td>3710</td>\n      <td>12332</td>\n      <td>NaN</td>\n      <td>NaN</td>\n      <td>NaN</td>\n      <td>False</td>\n    </tr>\n    <tr>\n      <th>1</th>\n      <td>DreamHack-Masters-Spring-2021-astralis-vs-comp...</td>\n      <td>de_inferno</td>\n      <td>1</td>\n      <td>6499</td>\n      <td>7.656120e+16</td>\n      <td>RUSH</td>\n      <td>Complexity</td>\n      <td>CT</td>\n      <td>76561198131369187</td>\n      <td>Bubzkji</td>\n      <td>Astralis</td>\n      <td>T</td>\n      <td>16</td>\n      <td>3710</td>\n      <td>12332</td>\n      <td>NaN</td>\n      <td>NaN</td>\n      <td>NaN</td>\n      <td>False</td>\n    </tr>\n    <tr>\n      <th>2</th>\n      <td>DreamHack-Masters-Spring-2021-astralis-vs-comp...</td>\n      <td>de_inferno</td>\n      <td>1</td>\n      <td>6522</td>\n      <td>7.656120e+16</td>\n      <td>RUSH</td>\n      <td>Complexity</td>\n      <td>CT</td>\n      <td>76561198131369187</td>\n      <td>Bubzkji</td>\n      <td>Astralis</td>\n      <td>T</td>\n      <td>20</td>\n      <td>3710</td>\n      <td>12332</td>\n      <td>NaN</td>\n      <td>NaN</td>\n      <td>NaN</td>\n      <td>False</td>\n    </tr>\n    <tr>\n      <th>3</th>\n      <td>DreamHack-Masters-Spring-2021-astralis-vs-comp...</td>\n      <td>de_inferno</td>\n      <td>1</td>\n      <td>6543</td>\n      <td>7.656120e+16</td>\n      <td>blameF</td>\n      <td>Complexity</td>\n      <td>CT</td>\n      <td>76561198131369187</td>\n      <td>Bubzkji</td>\n      <td>Astralis</td>\n      <td>T</td>\n      <td>48</td>\n      <td>3710</td>\n      <td>12332</td>\n      <td>USP-S</td>\n      <td>3710.0</td>\n      <td>12332.0</td>\n      <td>True</td>\n    </tr>\n    <tr>\n      <th>4</th>\n      <td>DreamHack-Masters-Spring-2021-astralis-vs-comp...</td>\n      <td>de_inferno</td>\n      <td>1</td>\n      <td>6646</td>\n      <td>7.656120e+16</td>\n      <td>dupreeh</td>\n      <td>Astralis</td>\n      <td>T</td>\n      <td>76561198023592320</td>\n      <td>RUSH</td>\n      <td>Complexity</td>\n      <td>CT</td>\n      <td>12</td>\n      <td>3710</td>\n      <td>12332</td>\n      <td>NaN</td>\n      <td>NaN</td>\n      <td>NaN</td>\n      <td>False</td>\n    </tr>\n  </tbody>\n</table>\n</div>"
     },
     "metadata": {},
     "execution_count": 18
    }
   ],
   "source": [
    "kills_df['IsKill'] = True\n",
    "damages_df = pd.merge(damages_df, kills_df, how='left', on=['MatchId', 'MapName', 'RoundNum', 'Tick', 'AttackerSteamId', 'AttackerName', 'AttackerTeam', 'AttackerSide', 'VictimSteamId', 'VictimName', 'VictimTeam', 'VictimSide'], validate='one_to_one')\n",
    "damages_df['IsKill'].fillna(False, inplace=True)\n",
    "damages_df.head()"
   ]
  },
  {
   "cell_type": "code",
   "execution_count": 19,
   "metadata": {},
   "outputs": [
    {
     "output_type": "execute_result",
     "data": {
      "text/plain": [
       "{('DreamHack-Masters-Spring-2021-astralis-vs-complexity-bo3', 'de_inferno', 1, 'CT'): [4, 5, 7, 8, 10, 11, 12, 13, 14, 15, 17, 18, 19, 21, 22, 24, 27], ('DreamHack-Masters-Spring-2021-astralis-vs-complexity-bo3', 'de_inferno', 1, 'T'): [0, 1, 2, 3, 6, 9, 16, 20, 23, 25, 26, 28], ('DreamHack-Masters-Spring-2021-astralis-vs-complexity-bo3', 'de_inferno', 2, 'CT'): [29, 33, 34, 35, 36, 41, 42, 43, 45, 46, 47, 48, 49, 51], ('DreamHack-Masters-Spring-2021-astralis-vs-complexity-bo3', 'de_inferno', 2, 'T'): [30, 31, 32, 37, 38, 39, 40, 44, 50], ('DreamHack-Masters-Spring-2021-astralis-vs-complexity-bo3', 'de_inferno', 3, 'CT'): [52, 53, 55, 63, 65], ('DreamHack-Masters-Spring-2021-astralis-vs-complexity-bo3', 'de_inferno', 3, 'T'): [54, 56, 57, 58, 59, 60, 61, 62, 64, 66, 67, 68, 69, 70, 71], ('DreamHack-Masters-Spring-2021-astralis-vs-complexity-bo3', 'de_inferno', 4, 'CT'): [79, 81, 85, 87, 88, 89, 90, 91, 93, 102, 103, 107, 108], ('DreamHack-Masters-Spring-2021-astralis-vs-complexity-bo3', 'de_inferno', 4, 'T'): [72, 73, 74, 75, 76, 77, 78, 80, 82, 83, 84, 86, 92, 94, 95, 96, 97, 98, 99, 100, 101, 104, 105, 106, 109, 110], ('DreamHack-Masters-Spring-2021-astralis-vs-complexity-bo3', 'de_inferno', 5, 'CT'): [112, 113, 124, 125, 126, 127, 128, 129, 130, 133, 135, 136, 137, 138, 139, 140, 141, 144], ('DreamHack-Masters-Spring-2021-astralis-vs-complexity-bo3', 'de_inferno', 5, 'T'): [111, 114, 115, 116, 117, 118, 119, 120, 121, 122, 123, 131, 132, 134, 142, 143, 145], ('DreamHack-Masters-Spring-2021-astralis-vs-complexity-bo3', 'de_inferno', 6, 'CT'): [150, 151, 152, 153, 154, 155, 156, 157, 158, 159, 161, 163, 164, 165, 166, 167, 168, 169], ('DreamHack-Masters-Spring-2021-astralis-vs-complexity-bo3', 'de_inferno', 6, 'T'): [146, 147, 148, 149, 160, 162, 170], ('DreamHack-Masters-Spring-2021-astralis-vs-complexity-bo3', 'de_inferno', 7, 'CT'): [171, 172, 173, 174, 176, 177, 178, 179, 181, 182, 183, 184, 185, 186, 187, 188, 189, 190, 191, 192], ('DreamHack-Masters-Spring-2021-astralis-vs-complexity-bo3', 'de_inferno', 7, 'T'): [175, 180, 193], ('DreamHack-Masters-Spring-2021-astralis-vs-complexity-bo3', 'de_inferno', 8, 'CT'): [200, 201, 202, 203, 205, 209, 210, 211, 212], ('DreamHack-Masters-Spring-2021-astralis-vs-complexity-bo3', 'de_inferno', 8, 'T'): [194, 195, 196, 197, 198, 199, 204, 206, 207, 208], ('DreamHack-Masters-Spring-2021-astralis-vs-complexity-bo3', 'de_inferno', 9, 'CT'): [213, 215, 218, 219, 220, 221, 222, 224, 226, 229], ('DreamHack-Masters-Spring-2021-astralis-vs-complexity-bo3', 'de_inferno', 9, 'T'): [214, 216, 217, 223, 225, 227, 228, 230, 231, 232, 233], ('DreamHack-Masters-Spring-2021-astralis-vs-complexity-bo3', 'de_inferno', 10, 'CT'): [238, 239, 240, 244, 245, 250, 253], ('DreamHack-Masters-Spring-2021-astralis-vs-complexity-bo3', 'de_inferno', 10, 'T'): [234, 235, 236, 237, 241, 242, 243, 246, 247, 248, 249, 251, 252], ('DreamHack-Masters-Spring-2021-astralis-vs-complexity-bo3', 'de_inferno', 11, 'CT'): [254, 262, 263, 264, 265, 267, 270, 271, 272], ('DreamHack-Masters-Spring-2021-astralis-vs-complexity-bo3', 'de_inferno', 11, 'T'): [255, 256, 257, 258, 259, 260, 261, 266, 268, 269], ('DreamHack-Masters-Spring-2021-astralis-vs-complexity-bo3', 'de_inferno', 12, 'CT'): [273, 280, 281, 282, 283, 284, 286, 287, 288, 289, 290, 291, 292, 296, 301], ('DreamHack-Masters-Spring-2021-astralis-vs-complexity-bo3', 'de_inferno', 12, 'T'): [274, 275, 276, 277, 278, 279, 285, 293, 294, 295, 297, 298, 299, 300], ('DreamHack-Masters-Spring-2021-astralis-vs-complexity-bo3', 'de_inferno', 13, 'CT'): [302, 303, 304, 305, 306, 309, 310, 314, 315, 316, 317], ('DreamHack-Masters-Spring-2021-astralis-vs-complexity-bo3', 'de_inferno', 13, 'T'): [307, 308, 311, 312, 313], ('DreamHack-Masters-Spring-2021-astralis-vs-complexity-bo3', 'de_inferno', 14, 'CT'): [318, 319, 320, 321, 335, 336, 337, 338, 339, 340, 349, 350, 351, 352, 353, 355], ('DreamHack-Masters-Spring-2021-astralis-vs-complexity-bo3', 'de_inferno', 14, 'T'): [322, 323, 324, 325, 326, 327, 328, 329, 330, 331, 332, 333, 334, 341, 342, 343, 344, 345, 346, 347, 348, 354], ('DreamHack-Masters-Spring-2021-astralis-vs-complexity-bo3', 'de_inferno', 15, 'CT'): [356, 357, 363, 364, 365, 367, 370, 371, 374, 378], ('DreamHack-Masters-Spring-2021-astralis-vs-complexity-bo3', 'de_inferno', 15, 'T'): [358, 359, 360, 361, 362, 366, 368, 369, 372, 373, 375, 376, 377], ('DreamHack-Masters-Spring-2021-astralis-vs-complexity-bo3', 'de_inferno', 16, 'CT'): [380, 381, 382, 383, 384, 386, 387, 392, 393, 396, 402, 403, 406, 407, 408, 409, 410, 411, 414], ('DreamHack-Masters-Spring-2021-astralis-vs-complexity-bo3', 'de_inferno', 16, 'T'): [379, 385, 388, 389, 390, 391, 394, 395, 397, 398, 399, 400, 401, 404, 405, 412, 413, 415], ('DreamHack-Masters-Spring-2021-astralis-vs-complexity-bo3', 'de_inferno', 17, 'CT'): [416, 417, 418, 419, 420, 421, 425, 426, 428, 429, 430, 431, 432, 433, 434, 435, 438, 440, 441, 442, 443], ('DreamHack-Masters-Spring-2021-astralis-vs-complexity-bo3', 'de_inferno', 17, 'T'): [422, 423, 424, 427, 436, 437, 439], ('DreamHack-Masters-Spring-2021-astralis-vs-complexity-bo3', 'de_inferno', 18, 'CT'): [444, 445, 446, 447, 448, 450, 452, 453, 454, 455, 456, 457, 460, 461, 462, 463, 464, 465, 466, 467, 468, 469, 472, 474, 475, 476, 483], ('DreamHack-Masters-Spring-2021-astralis-vs-complexity-bo3', 'de_inferno', 18, 'T'): [449, 451, 458, 459, 470, 471, 473, 477, 478, 479, 480, 481, 482], ('DreamHack-Masters-Spring-2021-astralis-vs-complexity-bo3', 'de_inferno', 19, 'CT'): [486, 487, 499, 501, 504, 507, 509, 514, 516, 519, 520, 521], ('DreamHack-Masters-Spring-2021-astralis-vs-complexity-bo3', 'de_inferno', 19, 'T'): [484, 485, 488, 489, 490, 491, 492, 493, 494, 495, 496, 497, 498, 500, 502, 503, 505, 506, 508, 510, 511, 512, 513, 515, 517, 518, 522], ('DreamHack-Masters-Spring-2021-astralis-vs-complexity-bo3', 'de_inferno', 20, 'CT'): [532, 533, 534, 535, 538, 539, 540, 541, 542, 544], ('DreamHack-Masters-Spring-2021-astralis-vs-complexity-bo3', 'de_inferno', 20, 'T'): [523, 524, 525, 526, 527, 528, 529, 530, 531, 536, 537, 543, 545, 546, 547, 548, 549, 550], ('DreamHack-Masters-Spring-2021-astralis-vs-complexity-bo3', 'de_inferno', 21, 'CT'): [563], ('DreamHack-Masters-Spring-2021-astralis-vs-complexity-bo3', 'de_inferno', 21, 'T'): [551, 552, 553, 554, 555, 556, 557, 558, 559, 560, 561, 562, 564, 565, 566, 567, 568, 569, 570], ('DreamHack-Masters-Spring-2021-astralis-vs-complexity-bo3', 'de_inferno', 22, 'CT'): [577, 584, 586, 590], ('DreamHack-Masters-Spring-2021-astralis-vs-complexity-bo3', 'de_inferno', 22, 'T'): [571, 572, 573, 574, 575, 576, 578, 579, 580, 581, 582, 583, 585, 587, 588, 589, 591, 592], ('DreamHack-Masters-Spring-2021-astralis-vs-complexity-bo3', 'de_inferno', 23, 'CT'): [593, 598, 599, 606, 607, 608, 609], ('DreamHack-Masters-Spring-2021-astralis-vs-complexity-bo3', 'de_inferno', 23, 'T'): [594, 595, 596, 597, 600, 601, 602, 603, 604, 605], ('DreamHack-Masters-Spring-2021-astralis-vs-complexity-bo3', 'de_inferno', 24, 'CT'): [610, 611, 612, 613, 614, 615, 616, 617, 618, 619, 620, 630, 633, 634, 635, 637, 641, 642], ('DreamHack-Masters-Spring-2021-astralis-vs-complexity-bo3', 'de_inferno', 24, 'T'): [621, 622, 623, 624, 625, 626, 627, 628, 629, 631, 632, 636, 638, 639, 640, 643], ('DreamHack-Masters-Spring-2021-astralis-vs-complexity-bo3', 'de_inferno', 25, 'CT'): [644, 645, 646, 647, 657, 658, 659, 664, 666, 667, 669, 670, 671], ('DreamHack-Masters-Spring-2021-astralis-vs-complexity-bo3', 'de_inferno', 25, 'T'): [648, 649, 650, 651, 652, 653, 654, 655, 656, 660, 661, 662, 663, 665, 668], ('DreamHack-Masters-Spring-2021-astralis-vs-complexity-bo3', 'de_inferno', 26, 'CT'): [672], ('DreamHack-Masters-Spring-2021-astralis-vs-complexity-bo3', 'de_inferno', 26, 'T'): [673, 674], ('DreamHack-Masters-Spring-2021-astralis-vs-complexity-bo3', 'de_inferno', 27, 'CT'): [685, 686, 687, 688, 689, 691, 694], ('DreamHack-Masters-Spring-2021-astralis-vs-complexity-bo3', 'de_inferno', 27, 'T'): [675, 676, 677, 678, 679, 680, 681, 682, 683, 684, 690, 692, 693, 695], ('DreamHack-Masters-Spring-2021-astralis-vs-complexity-bo3', 'de_inferno', 28, 'CT'): [704, 705, 707, 710, 711, 712, 713, 715], ('DreamHack-Masters-Spring-2021-astralis-vs-complexity-bo3', 'de_inferno', 28, 'T'): [696, 697, 698, 699, 700, 701, 702, 703, 706, 708, 709, 714, 716, 717, 718], ('DreamHack-Masters-Spring-2021-astralis-vs-complexity-bo3', 'de_inferno', 29, 'CT'): [719, 721, 722, 723, 724, 726, 727, 728, 730], ('DreamHack-Masters-Spring-2021-astralis-vs-complexity-bo3', 'de_inferno', 29, 'T'): [720, 725, 729], ('DreamHack-Masters-Spring-2021-astralis-vs-complexity-bo3', 'de_inferno', 30, 'CT'): [731, 733, 734, 735, 736, 738, 739, 740, 741], ('DreamHack-Masters-Spring-2021-astralis-vs-complexity-bo3', 'de_inferno', 30, 'T'): [732, 737, 742], ('DreamHack-Masters-Spring-2021-astralis-vs-complexity-bo3', 'de_inferno', 31, 'CT'): [743, 744, 751, 752, 754, 758, 761, 762, 763, 764, 767, 770], ('DreamHack-Masters-Spring-2021-astralis-vs-complexity-bo3', 'de_inferno', 31, 'T'): [745, 746, 747, 748, 749, 750, 753, 755, 756, 757, 759, 760, 765, 766, 768, 769, 771, 772], ('DreamHack-Masters-Spring-2021-astralis-vs-complexity-bo3', 'de_inferno', 32, 'CT'): [773, 774, 775, 776, 777, 778, 779, 780, 786, 787, 788, 789, 791, 793, 794, 795, 799], ('DreamHack-Masters-Spring-2021-astralis-vs-complexity-bo3', 'de_inferno', 32, 'T'): [781, 782, 783, 784, 785, 790, 792, 796, 797, 798, 800], ('DreamHack-Masters-Spring-2021-astralis-vs-complexity-bo3', 'de_inferno', 33, 'CT'): [804, 806, 812, 819, 823, 829, 830, 831, 832, 834, 836, 838, 839, 840, 841, 842], ('DreamHack-Masters-Spring-2021-astralis-vs-complexity-bo3', 'de_inferno', 33, 'T'): [801, 802, 803, 805, 807, 808, 809, 810, 811, 813, 814, 815, 816, 817, 818, 820, 821, 822, 824, 825, 826, 827, 828, 833, 835, 837], ('DreamHack-Masters-Spring-2021-astralis-vs-complexity-bo3', 'de_inferno', 34, 'CT'): [844, 845, 846, 847, 853, 854, 855, 856, 857, 859, 860, 862, 863, 865, 867, 868, 869], ('DreamHack-Masters-Spring-2021-astralis-vs-complexity-bo3', 'de_inferno', 34, 'T'): [843, 848, 849, 850, 851, 852, 858, 861, 864, 866], ('DreamHack-Masters-Spring-2021-astralis-vs-complexity-bo3', 'de_inferno', 35, 'CT'): [888, 890, 891], ('DreamHack-Masters-Spring-2021-astralis-vs-complexity-bo3', 'de_inferno', 35, 'T'): [870, 871, 872, 873, 874, 875, 876, 877, 878, 879, 880, 881, 882, 883, 884, 885, 886, 887, 889, 892, 893, 894, 895], ('DreamHack-Masters-Spring-2021-astralis-vs-complexity-bo3', 'de_inferno', 36, 'CT'): [898, 900, 903, 904, 906, 908, 912, 913, 915, 916, 917, 923], ('DreamHack-Masters-Spring-2021-astralis-vs-complexity-bo3', 'de_inferno', 36, 'T'): [896, 897, 899, 901, 902, 905, 907, 909, 910, 911, 914, 918, 919, 920, 921, 922, 924, 925, 926], ('DreamHack-Masters-Spring-2021-astralis-vs-complexity-bo3', 'de_inferno', 37, 'CT'): [928, 930, 934, 935, 937, 949, 951, 952], ('DreamHack-Masters-Spring-2021-astralis-vs-complexity-bo3', 'de_inferno', 37, 'T'): [927, 929, 931, 932, 933, 936, 938, 939, 940, 941, 942, 943, 944, 945, 946, 947, 948, 950], ('DreamHack-Masters-Spring-2021-astralis-vs-complexity-bo3', 'de_inferno', 38, 'CT'): [953, 954, 955, 956, 957, 960, 961, 962, 963, 964, 965, 966, 967, 968, 969, 970, 971, 972], ('DreamHack-Masters-Spring-2021-astralis-vs-complexity-bo3', 'de_inferno', 38, 'T'): [958, 959], ('DreamHack-Masters-Spring-2021-astralis-vs-complexity-bo3', 'de_inferno', 39, 'CT'): [973, 979, 980, 981, 982, 983, 984, 985, 986, 987, 988, 989, 994, 996, 997, 998, 1002, 1003, 1007, 1008, 1009], ('DreamHack-Masters-Spring-2021-astralis-vs-complexity-bo3', 'de_inferno', 39, 'T'): [974, 975, 976, 977, 978, 990, 991, 992, 993, 995, 999, 1000, 1001, 1004, 1005, 1006], ('DreamHack-Masters-Spring-2021-astralis-vs-complexity-bo3', 'de_inferno', 40, 'CT'): [1027, 1028, 1030, 1031], ('DreamHack-Masters-Spring-2021-astralis-vs-complexity-bo3', 'de_inferno', 40, 'T'): [1010, 1011, 1012, 1013, 1014, 1015, 1016, 1017, 1018, 1019, 1020, 1021, 1022, 1023, 1024, 1025, 1026, 1029, 1032, 1033, 1034, 1035, 1036, 1037, 1038, 1039, 1040, 1041, 1042], ('DreamHack-Masters-Spring-2021-astralis-vs-complexity-bo3', 'de_vertigo', 1, 'CT'): [1043], ('DreamHack-Masters-Spring-2021-astralis-vs-complexity-bo3', 'de_vertigo', 2, 'CT'): [1045, 1051, 1053, 1054, 1064], ('DreamHack-Masters-Spring-2021-astralis-vs-complexity-bo3', 'de_vertigo', 2, 'T'): [1044, 1046, 1047, 1048, 1049, 1050, 1052, 1055, 1056, 1057, 1058, 1059, 1060, 1061, 1062, 1063, 1065, 1066, 1067, 1068], ('DreamHack-Masters-Spring-2021-astralis-vs-complexity-bo3', 'de_vertigo', 3, 'CT'): [1073, 1075], ('DreamHack-Masters-Spring-2021-astralis-vs-complexity-bo3', 'de_vertigo', 3, 'T'): [1069, 1070, 1071, 1072, 1074, 1076, 1077, 1078, 1079, 1080, 1081, 1082, 1083, 1084, 1085, 1086, 1087], ('DreamHack-Masters-Spring-2021-astralis-vs-complexity-bo3', 'de_vertigo', 4, 'CT'): [1090, 1093, 1094, 1095, 1097, 1105, 1106, 1107, 1109, 1111, 1112, 1113, 1115, 1116, 1119, 1120], ('DreamHack-Masters-Spring-2021-astralis-vs-complexity-bo3', 'de_vertigo', 4, 'T'): [1088, 1089, 1091, 1092, 1096, 1098, 1099, 1100, 1101, 1102, 1103, 1104, 1108, 1110, 1114, 1117, 1118], ('DreamHack-Masters-Spring-2021-astralis-vs-complexity-bo3', 'de_vertigo', 5, 'CT'): [1133, 1136, 1137, 1138, 1139, 1140, 1142, 1143, 1145, 1146, 1147], ('DreamHack-Masters-Spring-2021-astralis-vs-complexity-bo3', 'de_vertigo', 5, 'T'): [1121, 1122, 1123, 1124, 1125, 1126, 1127, 1128, 1129, 1130, 1131, 1132, 1134, 1135, 1141, 1144, 1148, 1149, 1150, 1151, 1152], ('DreamHack-Masters-Spring-2021-astralis-vs-complexity-bo3', 'de_vertigo', 6, 'CT'): [1153, 1156, 1161, 1164, 1165, 1166, 1172], ('DreamHack-Masters-Spring-2021-astralis-vs-complexity-bo3', 'de_vertigo', 6, 'T'): [1154, 1155, 1157, 1158, 1159, 1160, 1162, 1163, 1167, 1168, 1169, 1170, 1171], ('DreamHack-Masters-Spring-2021-astralis-vs-complexity-bo3', 'de_vertigo', 7, 'CT'): [1173, 1174, 1178, 1181, 1182, 1183, 1184, 1186, 1187, 1188, 1189], ('DreamHack-Masters-Spring-2021-astralis-vs-complexity-bo3', 'de_vertigo', 7, 'T'): [1175, 1176, 1177, 1179, 1180, 1185], ('DreamHack-Masters-Spring-2021-astralis-vs-complexity-bo3', 'de_vertigo', 8, 'CT'): [1199, 1200, 1201, 1202, 1203, 1204, 1205, 1206, 1207, 1208, 1209, 1211, 1212, 1214, 1215, 1217, 1218, 1219, 1220, 1221, 1222, 1223, 1224], ('DreamHack-Masters-Spring-2021-astralis-vs-complexity-bo3', 'de_vertigo', 8, 'T'): [1190, 1191, 1192, 1193, 1194, 1195, 1196, 1197, 1198, 1210, 1213, 1216], ('DreamHack-Masters-Spring-2021-astralis-vs-complexity-bo3', 'de_vertigo', 9, 'CT'): [1232, 1233, 1234, 1236, 1239, 1245, 1246, 1247, 1248, 1249, 1250, 1253, 1255, 1256, 1257], ('DreamHack-Masters-Spring-2021-astralis-vs-complexity-bo3', 'de_vertigo', 9, 'T'): [1225, 1226, 1227, 1228, 1229, 1230, 1231, 1235, 1237, 1238, 1240, 1241, 1242, 1243, 1244, 1251, 1252, 1254], ('DreamHack-Masters-Spring-2021-astralis-vs-complexity-bo3', 'de_vertigo', 10, 'CT'): [1260, 1264, 1267, 1268, 1269, 1270, 1272, 1273, 1274, 1275, 1276], ('DreamHack-Masters-Spring-2021-astralis-vs-complexity-bo3', 'de_vertigo', 10, 'T'): [1258, 1259, 1261, 1262, 1263, 1265, 1266, 1271], ('DreamHack-Masters-Spring-2021-astralis-vs-complexity-bo3', 'de_vertigo', 11, 'CT'): [1277, 1278, 1287, 1288, 1289, 1292, 1296, 1298, 1303], ...}"
      ]
     },
     "metadata": {},
     "execution_count": 19
    }
   ],
   "source": [
    "damages_groups = damages_df.groupby(['MatchId', 'MapName', 'RoundNum', 'VictimSide'])\n",
    "damages_groups.groups"
   ]
  },
  {
   "source": [
    "## Player Movements"
   ],
   "cell_type": "markdown",
   "metadata": {}
  },
  {
   "cell_type": "code",
   "execution_count": 20,
   "metadata": {},
   "outputs": [
    {
     "output_type": "execute_result",
     "data": {
      "text/plain": [
       "           RoundNum           Tick  AttackerSteamId  VictimSteamId  \\\n",
       "count  13296.000000   13296.000000     1.329600e+04   1.329600e+04   \n",
       "mean      14.661928  235949.528054     7.656120e+16   7.656120e+16   \n",
       "std        8.756852  147863.847012     9.670330e+07   1.070778e+08   \n",
       "min        1.000000     173.000000     7.656120e+16   7.656120e+16   \n",
       "25%        7.000000  115943.000000     7.656120e+16   7.656120e+16   \n",
       "50%       14.000000  224537.500000     7.656120e+16   7.656120e+16   \n",
       "75%       21.000000  332894.000000     7.656120e+16   7.656120e+16   \n",
       "max       41.000000  684422.000000     7.656120e+16   7.656120e+16   \n",
       "\n",
       "       HpDamageTaken  FreezeTimeEnd_x     EndTick_x  FreezeTimeEnd_y  \\\n",
       "count   13296.000000     1.329600e+04  1.329600e+04      3317.000000   \n",
       "mean       29.171104     2.300866e+05  2.417781e+05    224607.781730   \n",
       "std        26.430019     1.509526e+05  1.513383e+05    146806.371279   \n",
       "min         1.000000     0.000000e+00  1.150000e+03         0.000000   \n",
       "25%        11.000000     1.087850e+05  1.200650e+05    103631.000000   \n",
       "50%        22.000000     2.197230e+05  2.285200e+05    208745.000000   \n",
       "75%        33.000000     3.268920e+05  3.375480e+05    322306.000000   \n",
       "max       100.000000     1.953390e+06  2.032044e+06    670516.000000   \n",
       "\n",
       "           EndTick_y      CTAlive       TAlive  \n",
       "count    3317.000000  6086.000000  7210.000000  \n",
       "mean   236319.182092     1.715577     1.385714  \n",
       "std    147046.695634     1.059035     1.184840  \n",
       "min      1150.000000     1.000000     0.000000  \n",
       "25%    117188.000000     1.000000     1.000000  \n",
       "50%    219781.000000     1.000000     1.000000  \n",
       "75%    335980.000000     2.000000     2.000000  \n",
       "max    684435.000000     5.000000     5.000000  "
      ],
      "text/html": "<div>\n<style scoped>\n    .dataframe tbody tr th:only-of-type {\n        vertical-align: middle;\n    }\n\n    .dataframe tbody tr th {\n        vertical-align: top;\n    }\n\n    .dataframe thead th {\n        text-align: right;\n    }\n</style>\n<table border=\"1\" class=\"dataframe\">\n  <thead>\n    <tr style=\"text-align: right;\">\n      <th></th>\n      <th>RoundNum</th>\n      <th>Tick</th>\n      <th>AttackerSteamId</th>\n      <th>VictimSteamId</th>\n      <th>HpDamageTaken</th>\n      <th>FreezeTimeEnd_x</th>\n      <th>EndTick_x</th>\n      <th>FreezeTimeEnd_y</th>\n      <th>EndTick_y</th>\n      <th>CTAlive</th>\n      <th>TAlive</th>\n    </tr>\n  </thead>\n  <tbody>\n    <tr>\n      <th>count</th>\n      <td>13296.000000</td>\n      <td>13296.000000</td>\n      <td>1.329600e+04</td>\n      <td>1.329600e+04</td>\n      <td>13296.000000</td>\n      <td>1.329600e+04</td>\n      <td>1.329600e+04</td>\n      <td>3317.000000</td>\n      <td>3317.000000</td>\n      <td>6086.000000</td>\n      <td>7210.000000</td>\n    </tr>\n    <tr>\n      <th>mean</th>\n      <td>14.661928</td>\n      <td>235949.528054</td>\n      <td>7.656120e+16</td>\n      <td>7.656120e+16</td>\n      <td>29.171104</td>\n      <td>2.300866e+05</td>\n      <td>2.417781e+05</td>\n      <td>224607.781730</td>\n      <td>236319.182092</td>\n      <td>1.715577</td>\n      <td>1.385714</td>\n    </tr>\n    <tr>\n      <th>std</th>\n      <td>8.756852</td>\n      <td>147863.847012</td>\n      <td>9.670330e+07</td>\n      <td>1.070778e+08</td>\n      <td>26.430019</td>\n      <td>1.509526e+05</td>\n      <td>1.513383e+05</td>\n      <td>146806.371279</td>\n      <td>147046.695634</td>\n      <td>1.059035</td>\n      <td>1.184840</td>\n    </tr>\n    <tr>\n      <th>min</th>\n      <td>1.000000</td>\n      <td>173.000000</td>\n      <td>7.656120e+16</td>\n      <td>7.656120e+16</td>\n      <td>1.000000</td>\n      <td>0.000000e+00</td>\n      <td>1.150000e+03</td>\n      <td>0.000000</td>\n      <td>1150.000000</td>\n      <td>1.000000</td>\n      <td>0.000000</td>\n    </tr>\n    <tr>\n      <th>25%</th>\n      <td>7.000000</td>\n      <td>115943.000000</td>\n      <td>7.656120e+16</td>\n      <td>7.656120e+16</td>\n      <td>11.000000</td>\n      <td>1.087850e+05</td>\n      <td>1.200650e+05</td>\n      <td>103631.000000</td>\n      <td>117188.000000</td>\n      <td>1.000000</td>\n      <td>1.000000</td>\n    </tr>\n    <tr>\n      <th>50%</th>\n      <td>14.000000</td>\n      <td>224537.500000</td>\n      <td>7.656120e+16</td>\n      <td>7.656120e+16</td>\n      <td>22.000000</td>\n      <td>2.197230e+05</td>\n      <td>2.285200e+05</td>\n      <td>208745.000000</td>\n      <td>219781.000000</td>\n      <td>1.000000</td>\n      <td>1.000000</td>\n    </tr>\n    <tr>\n      <th>75%</th>\n      <td>21.000000</td>\n      <td>332894.000000</td>\n      <td>7.656120e+16</td>\n      <td>7.656120e+16</td>\n      <td>33.000000</td>\n      <td>3.268920e+05</td>\n      <td>3.375480e+05</td>\n      <td>322306.000000</td>\n      <td>335980.000000</td>\n      <td>2.000000</td>\n      <td>2.000000</td>\n    </tr>\n    <tr>\n      <th>max</th>\n      <td>41.000000</td>\n      <td>684422.000000</td>\n      <td>7.656120e+16</td>\n      <td>7.656120e+16</td>\n      <td>100.000000</td>\n      <td>1.953390e+06</td>\n      <td>2.032044e+06</td>\n      <td>670516.000000</td>\n      <td>684435.000000</td>\n      <td>5.000000</td>\n      <td>5.000000</td>\n    </tr>\n  </tbody>\n</table>\n</div>"
     },
     "metadata": {},
     "execution_count": 20
    }
   ],
   "source": [
    "def count_groups(df):\n",
    "    df[df['VictimSide'] + 'Alive'] = 5 - df['IsKill'].cumsum()\n",
    "    return df\n",
    "\n",
    "damages_groups = damages_df.groupby(['MatchId', 'MapName', 'RoundNum', 'VictimSide']).apply(count_groups)\n",
    "damages_groups.describe()"
   ]
  },
  {
   "cell_type": "code",
   "execution_count": 21,
   "metadata": {},
   "outputs": [
    {
     "output_type": "execute_result",
     "data": {
      "text/plain": [
       "['MatchId',\n",
       " 'MapName',\n",
       " 'RoundNum',\n",
       " 'Tick',\n",
       " 'Second',\n",
       " 'Side',\n",
       " 'TeamName',\n",
       " 'PlayerName',\n",
       " 'PlayerSteamId',\n",
       " 'X',\n",
       " 'Y',\n",
       " 'Z',\n",
       " 'ViewX',\n",
       " 'ViewY',\n",
       " 'AreaId',\n",
       " 'Hp',\n",
       " 'Armor',\n",
       " 'IsAlive',\n",
       " 'IsFlashed',\n",
       " 'IsAirborne',\n",
       " 'IsDucking',\n",
       " 'IsScoped',\n",
       " 'IsWalking',\n",
       " 'EqValue',\n",
       " 'HasHelmet',\n",
       " 'HasDefuse',\n",
       " 'DistToBombsiteA',\n",
       " 'DistToBombsiteB',\n",
       " 'FreezeTimeEnd',\n",
       " 'EndTick']"
      ]
     },
     "metadata": {},
     "execution_count": 21
    }
   ],
   "source": [
    "list(player_frames_df)"
   ]
  },
  {
   "cell_type": "code",
   "execution_count": 22,
   "metadata": {},
   "outputs": [
    {
     "output_type": "execute_result",
     "data": {
      "text/plain": [
       "                                             MatchId      MapName  RoundNum  \\\n",
       "0  Liga-Gamers-Club-2021-Serie-A-April-Cup-santos...  de_overpass         1   \n",
       "1  Liga-Gamers-Club-2021-Serie-A-April-Cup-santos...  de_overpass         1   \n",
       "2  Liga-Gamers-Club-2021-Serie-A-April-Cup-santos...  de_overpass         1   \n",
       "3  Liga-Gamers-Club-2021-Serie-A-April-Cup-santos...  de_overpass         1   \n",
       "4  Liga-Gamers-Club-2021-Serie-A-April-Cup-santos...  de_overpass         1   \n",
       "\n",
       "    Tick Side    TeamName  DistToBombsiteA  DistToBombsiteB  FreezeTimeEnd  \\\n",
       "0  16046   CT  SWS Gaming               28               36          15794   \n",
       "1  16046   CT  SWS Gaming               13               39          15794   \n",
       "2  16046   CT  SWS Gaming                9               59          15794   \n",
       "3  16046   CT  SWS Gaming               14               40          15794   \n",
       "4  16046   CT  SWS Gaming               13               41          15794   \n",
       "\n",
       "   EndTick  \n",
       "0    27867  \n",
       "1    27867  \n",
       "2    27867  \n",
       "3    27867  \n",
       "4    27867  "
      ],
      "text/html": "<div>\n<style scoped>\n    .dataframe tbody tr th:only-of-type {\n        vertical-align: middle;\n    }\n\n    .dataframe tbody tr th {\n        vertical-align: top;\n    }\n\n    .dataframe thead th {\n        text-align: right;\n    }\n</style>\n<table border=\"1\" class=\"dataframe\">\n  <thead>\n    <tr style=\"text-align: right;\">\n      <th></th>\n      <th>MatchId</th>\n      <th>MapName</th>\n      <th>RoundNum</th>\n      <th>Tick</th>\n      <th>Side</th>\n      <th>TeamName</th>\n      <th>DistToBombsiteA</th>\n      <th>DistToBombsiteB</th>\n      <th>FreezeTimeEnd</th>\n      <th>EndTick</th>\n    </tr>\n  </thead>\n  <tbody>\n    <tr>\n      <th>0</th>\n      <td>Liga-Gamers-Club-2021-Serie-A-April-Cup-santos...</td>\n      <td>de_overpass</td>\n      <td>1</td>\n      <td>16046</td>\n      <td>CT</td>\n      <td>SWS Gaming</td>\n      <td>28</td>\n      <td>36</td>\n      <td>15794</td>\n      <td>27867</td>\n    </tr>\n    <tr>\n      <th>1</th>\n      <td>Liga-Gamers-Club-2021-Serie-A-April-Cup-santos...</td>\n      <td>de_overpass</td>\n      <td>1</td>\n      <td>16046</td>\n      <td>CT</td>\n      <td>SWS Gaming</td>\n      <td>13</td>\n      <td>39</td>\n      <td>15794</td>\n      <td>27867</td>\n    </tr>\n    <tr>\n      <th>2</th>\n      <td>Liga-Gamers-Club-2021-Serie-A-April-Cup-santos...</td>\n      <td>de_overpass</td>\n      <td>1</td>\n      <td>16046</td>\n      <td>CT</td>\n      <td>SWS Gaming</td>\n      <td>9</td>\n      <td>59</td>\n      <td>15794</td>\n      <td>27867</td>\n    </tr>\n    <tr>\n      <th>3</th>\n      <td>Liga-Gamers-Club-2021-Serie-A-April-Cup-santos...</td>\n      <td>de_overpass</td>\n      <td>1</td>\n      <td>16046</td>\n      <td>CT</td>\n      <td>SWS Gaming</td>\n      <td>14</td>\n      <td>40</td>\n      <td>15794</td>\n      <td>27867</td>\n    </tr>\n    <tr>\n      <th>4</th>\n      <td>Liga-Gamers-Club-2021-Serie-A-April-Cup-santos...</td>\n      <td>de_overpass</td>\n      <td>1</td>\n      <td>16046</td>\n      <td>CT</td>\n      <td>SWS Gaming</td>\n      <td>13</td>\n      <td>41</td>\n      <td>15794</td>\n      <td>27867</td>\n    </tr>\n  </tbody>\n</table>\n</div>"
     },
     "metadata": {},
     "execution_count": 22
    }
   ],
   "source": [
    "player_frames_df.drop(columns=['Second', 'X', 'Y', 'Z', 'ViewX', 'ViewY', 'AreaId', 'Hp', 'Armor', 'IsAlive', 'IsFlashed', 'IsAirborne', 'IsDucking', 'IsScoped', 'IsWalking', 'EqValue', 'HasHelmet', 'HasDefuse', 'PlayerName', 'PlayerSteamId'], inplace=True)\n",
    "player_frames_df.head()"
   ]
  },
  {
   "cell_type": "code",
   "execution_count": 23,
   "metadata": {},
   "outputs": [
    {
     "output_type": "execute_result",
     "data": {
      "text/plain": [
       "                                             MatchId     MapName  RoundNum  \\\n",
       "0  DreamHack-Masters-Spring-2021-astralis-vs-comp...  de_inferno         1   \n",
       "1  DreamHack-Masters-Spring-2021-astralis-vs-comp...  de_inferno         1   \n",
       "2  DreamHack-Masters-Spring-2021-astralis-vs-comp...  de_inferno         1   \n",
       "3  DreamHack-Masters-Spring-2021-astralis-vs-comp...  de_inferno         1   \n",
       "4  DreamHack-Masters-Spring-2021-astralis-vs-comp...  de_inferno         1   \n",
       "\n",
       "   Tick Side    TeamName  DistToBombsiteA  DistToBombsiteB  FreezeTimeEnd  \\\n",
       "0  3740   CT  Complexity               19               15           3710   \n",
       "1  3740    T    Astralis               51               42           3710   \n",
       "2  3869   CT  Complexity               17               14           3710   \n",
       "3  3869    T    Astralis               46               37           3710   \n",
       "4  3998   CT  Complexity               10               12           3710   \n",
       "\n",
       "   EndTick  \n",
       "0    12332  \n",
       "1    12332  \n",
       "2    12332  \n",
       "3    12332  \n",
       "4    12332  "
      ],
      "text/html": "<div>\n<style scoped>\n    .dataframe tbody tr th:only-of-type {\n        vertical-align: middle;\n    }\n\n    .dataframe tbody tr th {\n        vertical-align: top;\n    }\n\n    .dataframe thead th {\n        text-align: right;\n    }\n</style>\n<table border=\"1\" class=\"dataframe\">\n  <thead>\n    <tr style=\"text-align: right;\">\n      <th></th>\n      <th>MatchId</th>\n      <th>MapName</th>\n      <th>RoundNum</th>\n      <th>Tick</th>\n      <th>Side</th>\n      <th>TeamName</th>\n      <th>DistToBombsiteA</th>\n      <th>DistToBombsiteB</th>\n      <th>FreezeTimeEnd</th>\n      <th>EndTick</th>\n    </tr>\n  </thead>\n  <tbody>\n    <tr>\n      <th>0</th>\n      <td>DreamHack-Masters-Spring-2021-astralis-vs-comp...</td>\n      <td>de_inferno</td>\n      <td>1</td>\n      <td>3740</td>\n      <td>CT</td>\n      <td>Complexity</td>\n      <td>19</td>\n      <td>15</td>\n      <td>3710</td>\n      <td>12332</td>\n    </tr>\n    <tr>\n      <th>1</th>\n      <td>DreamHack-Masters-Spring-2021-astralis-vs-comp...</td>\n      <td>de_inferno</td>\n      <td>1</td>\n      <td>3740</td>\n      <td>T</td>\n      <td>Astralis</td>\n      <td>51</td>\n      <td>42</td>\n      <td>3710</td>\n      <td>12332</td>\n    </tr>\n    <tr>\n      <th>2</th>\n      <td>DreamHack-Masters-Spring-2021-astralis-vs-comp...</td>\n      <td>de_inferno</td>\n      <td>1</td>\n      <td>3869</td>\n      <td>CT</td>\n      <td>Complexity</td>\n      <td>17</td>\n      <td>14</td>\n      <td>3710</td>\n      <td>12332</td>\n    </tr>\n    <tr>\n      <th>3</th>\n      <td>DreamHack-Masters-Spring-2021-astralis-vs-comp...</td>\n      <td>de_inferno</td>\n      <td>1</td>\n      <td>3869</td>\n      <td>T</td>\n      <td>Astralis</td>\n      <td>46</td>\n      <td>37</td>\n      <td>3710</td>\n      <td>12332</td>\n    </tr>\n    <tr>\n      <th>4</th>\n      <td>DreamHack-Masters-Spring-2021-astralis-vs-comp...</td>\n      <td>de_inferno</td>\n      <td>1</td>\n      <td>3998</td>\n      <td>CT</td>\n      <td>Complexity</td>\n      <td>10</td>\n      <td>12</td>\n      <td>3710</td>\n      <td>12332</td>\n    </tr>\n  </tbody>\n</table>\n</div>"
     },
     "metadata": {},
     "execution_count": 23
    }
   ],
   "source": [
    "def min_per_side(df):\n",
    "    CTMinDistA\n",
    "    CTMinDistB\n",
    "    TMinDistA\n",
    "    TMinDistB\n",
    "\n",
    "site_distances_df = player_frames_df.groupby(['MatchId', 'MapName', 'RoundNum', 'Tick', 'Side', 'TeamName'], as_index=False).aggregate('min')\n",
    "site_distances_df.head()"
   ]
  },
  {
   "source": [
    "def combine_sides(df):\n",
    "\n",
    "\n",
    "site_distances_df.groupby(['MatchId', 'MapName', 'RoundNum', 'Tick']).apply()"
   ],
   "cell_type": "markdown",
   "metadata": {}
  },
  {
   "source": [
    "## Putting it all together"
   ],
   "cell_type": "markdown",
   "metadata": {}
  },
  {
   "cell_type": "code",
   "execution_count": 24,
   "metadata": {},
   "outputs": [],
   "source": [
    "bomb_plants_df['EventType'] = 'BombPlant'\n",
    "damages_df['EventType'] = 'DamageDealt'\n",
    "site_distances_df['EventType'] = 'PositionUpdate'"
   ]
  },
  {
   "cell_type": "code",
   "execution_count": 25,
   "metadata": {},
   "outputs": [
    {
     "output_type": "execute_result",
     "data": {
      "text/plain": [
       "                                              MatchId     MapName  RoundNum  \\\n",
       "0   DreamHack-Masters-Spring-2021-astralis-vs-comp...  de_inferno         1   \n",
       "1   DreamHack-Masters-Spring-2021-astralis-vs-comp...  de_inferno         1   \n",
       "2   DreamHack-Masters-Spring-2021-astralis-vs-comp...  de_inferno         1   \n",
       "3   DreamHack-Masters-Spring-2021-astralis-vs-comp...  de_inferno         1   \n",
       "4   DreamHack-Masters-Spring-2021-astralis-vs-comp...  de_inferno         1   \n",
       "5   DreamHack-Masters-Spring-2021-astralis-vs-comp...  de_inferno         1   \n",
       "6   DreamHack-Masters-Spring-2021-astralis-vs-comp...  de_inferno         1   \n",
       "7   DreamHack-Masters-Spring-2021-astralis-vs-comp...  de_inferno         1   \n",
       "8   DreamHack-Masters-Spring-2021-astralis-vs-comp...  de_inferno         1   \n",
       "9   DreamHack-Masters-Spring-2021-astralis-vs-comp...  de_inferno         1   \n",
       "10  DreamHack-Masters-Spring-2021-astralis-vs-comp...  de_inferno         1   \n",
       "11  DreamHack-Masters-Spring-2021-astralis-vs-comp...  de_inferno         1   \n",
       "12  DreamHack-Masters-Spring-2021-astralis-vs-comp...  de_inferno         1   \n",
       "13  DreamHack-Masters-Spring-2021-astralis-vs-comp...  de_inferno         1   \n",
       "14  DreamHack-Masters-Spring-2021-astralis-vs-comp...  de_inferno         1   \n",
       "15  DreamHack-Masters-Spring-2021-astralis-vs-comp...  de_inferno         1   \n",
       "16  DreamHack-Masters-Spring-2021-astralis-vs-comp...  de_inferno         1   \n",
       "17  DreamHack-Masters-Spring-2021-astralis-vs-comp...  de_inferno         1   \n",
       "18  DreamHack-Masters-Spring-2021-astralis-vs-comp...  de_inferno         1   \n",
       "19  DreamHack-Masters-Spring-2021-astralis-vs-comp...  de_inferno         1   \n",
       "\n",
       "    Tick  FreezeTimeEnd  EndTick BombPlantedA BombPlantedB       EventType  \\\n",
       "0   3740         3710.0  12332.0          NaN          NaN  PositionUpdate   \n",
       "1   3740         3710.0  12332.0          NaN          NaN  PositionUpdate   \n",
       "2   3869         3710.0  12332.0          NaN          NaN  PositionUpdate   \n",
       "3   3869         3710.0  12332.0          NaN          NaN  PositionUpdate   \n",
       "4   3998         3710.0  12332.0          NaN          NaN  PositionUpdate   \n",
       "5   3998         3710.0  12332.0          NaN          NaN  PositionUpdate   \n",
       "6   4127         3710.0  12332.0          NaN          NaN  PositionUpdate   \n",
       "7   4127         3710.0  12332.0          NaN          NaN  PositionUpdate   \n",
       "8   4256         3710.0  12332.0          NaN          NaN  PositionUpdate   \n",
       "9   4256         3710.0  12332.0          NaN          NaN  PositionUpdate   \n",
       "10  4385         3710.0  12332.0          NaN          NaN  PositionUpdate   \n",
       "11  4385         3710.0  12332.0          NaN          NaN  PositionUpdate   \n",
       "12  4514         3710.0  12332.0          NaN          NaN  PositionUpdate   \n",
       "13  4514         3710.0  12332.0          NaN          NaN  PositionUpdate   \n",
       "14  4643         3710.0  12332.0          NaN          NaN  PositionUpdate   \n",
       "15  4643         3710.0  12332.0          NaN          NaN  PositionUpdate   \n",
       "16  4772         3710.0  12332.0          NaN          NaN  PositionUpdate   \n",
       "17  4772         3710.0  12332.0          NaN          NaN  PositionUpdate   \n",
       "18  4901         3710.0  12332.0          NaN          NaN  PositionUpdate   \n",
       "19  4901         3710.0  12332.0          NaN          NaN  PositionUpdate   \n",
       "\n",
       "    AttackerSteamId  ... FreezeTimeEnd_x EndTick_x Weapon  FreezeTimeEnd_y  \\\n",
       "0               NaN  ...             NaN       NaN    NaN              NaN   \n",
       "1               NaN  ...             NaN       NaN    NaN              NaN   \n",
       "2               NaN  ...             NaN       NaN    NaN              NaN   \n",
       "3               NaN  ...             NaN       NaN    NaN              NaN   \n",
       "4               NaN  ...             NaN       NaN    NaN              NaN   \n",
       "5               NaN  ...             NaN       NaN    NaN              NaN   \n",
       "6               NaN  ...             NaN       NaN    NaN              NaN   \n",
       "7               NaN  ...             NaN       NaN    NaN              NaN   \n",
       "8               NaN  ...             NaN       NaN    NaN              NaN   \n",
       "9               NaN  ...             NaN       NaN    NaN              NaN   \n",
       "10              NaN  ...             NaN       NaN    NaN              NaN   \n",
       "11              NaN  ...             NaN       NaN    NaN              NaN   \n",
       "12              NaN  ...             NaN       NaN    NaN              NaN   \n",
       "13              NaN  ...             NaN       NaN    NaN              NaN   \n",
       "14              NaN  ...             NaN       NaN    NaN              NaN   \n",
       "15              NaN  ...             NaN       NaN    NaN              NaN   \n",
       "16              NaN  ...             NaN       NaN    NaN              NaN   \n",
       "17              NaN  ...             NaN       NaN    NaN              NaN   \n",
       "18              NaN  ...             NaN       NaN    NaN              NaN   \n",
       "19              NaN  ...             NaN       NaN    NaN              NaN   \n",
       "\n",
       "   EndTick_y IsKill Side    TeamName  DistToBombsiteA  DistToBombsiteB  \n",
       "0        NaN    NaN   CT  Complexity             19.0             15.0  \n",
       "1        NaN    NaN    T    Astralis             51.0             42.0  \n",
       "2        NaN    NaN   CT  Complexity             17.0             14.0  \n",
       "3        NaN    NaN    T    Astralis             46.0             37.0  \n",
       "4        NaN    NaN   CT  Complexity             10.0             12.0  \n",
       "5        NaN    NaN    T    Astralis             43.0             34.0  \n",
       "6        NaN    NaN   CT  Complexity              8.0             17.0  \n",
       "7        NaN    NaN    T    Astralis             39.0             30.0  \n",
       "8        NaN    NaN   CT  Complexity              6.0             13.0  \n",
       "9        NaN    NaN    T    Astralis             37.0             28.0  \n",
       "10       NaN    NaN   CT  Complexity              4.0             16.0  \n",
       "11       NaN    NaN    T    Astralis             34.0             25.0  \n",
       "12       NaN    NaN   CT  Complexity              2.0              8.0  \n",
       "13       NaN    NaN    T    Astralis             31.0             22.0  \n",
       "14       NaN    NaN   CT  Complexity              3.0              7.0  \n",
       "15       NaN    NaN    T    Astralis             31.0             21.0  \n",
       "16       NaN    NaN   CT  Complexity              3.0              5.0  \n",
       "17       NaN    NaN    T    Astralis             28.0             19.0  \n",
       "18       NaN    NaN   CT  Complexity              6.0              2.0  \n",
       "19       NaN    NaN    T    Astralis             27.0             23.0  \n",
       "\n",
       "[20 rows x 28 columns]"
      ],
      "text/html": "<div>\n<style scoped>\n    .dataframe tbody tr th:only-of-type {\n        vertical-align: middle;\n    }\n\n    .dataframe tbody tr th {\n        vertical-align: top;\n    }\n\n    .dataframe thead th {\n        text-align: right;\n    }\n</style>\n<table border=\"1\" class=\"dataframe\">\n  <thead>\n    <tr style=\"text-align: right;\">\n      <th></th>\n      <th>MatchId</th>\n      <th>MapName</th>\n      <th>RoundNum</th>\n      <th>Tick</th>\n      <th>FreezeTimeEnd</th>\n      <th>EndTick</th>\n      <th>BombPlantedA</th>\n      <th>BombPlantedB</th>\n      <th>EventType</th>\n      <th>AttackerSteamId</th>\n      <th>...</th>\n      <th>FreezeTimeEnd_x</th>\n      <th>EndTick_x</th>\n      <th>Weapon</th>\n      <th>FreezeTimeEnd_y</th>\n      <th>EndTick_y</th>\n      <th>IsKill</th>\n      <th>Side</th>\n      <th>TeamName</th>\n      <th>DistToBombsiteA</th>\n      <th>DistToBombsiteB</th>\n    </tr>\n  </thead>\n  <tbody>\n    <tr>\n      <th>0</th>\n      <td>DreamHack-Masters-Spring-2021-astralis-vs-comp...</td>\n      <td>de_inferno</td>\n      <td>1</td>\n      <td>3740</td>\n      <td>3710.0</td>\n      <td>12332.0</td>\n      <td>NaN</td>\n      <td>NaN</td>\n      <td>PositionUpdate</td>\n      <td>NaN</td>\n      <td>...</td>\n      <td>NaN</td>\n      <td>NaN</td>\n      <td>NaN</td>\n      <td>NaN</td>\n      <td>NaN</td>\n      <td>NaN</td>\n      <td>CT</td>\n      <td>Complexity</td>\n      <td>19.0</td>\n      <td>15.0</td>\n    </tr>\n    <tr>\n      <th>1</th>\n      <td>DreamHack-Masters-Spring-2021-astralis-vs-comp...</td>\n      <td>de_inferno</td>\n      <td>1</td>\n      <td>3740</td>\n      <td>3710.0</td>\n      <td>12332.0</td>\n      <td>NaN</td>\n      <td>NaN</td>\n      <td>PositionUpdate</td>\n      <td>NaN</td>\n      <td>...</td>\n      <td>NaN</td>\n      <td>NaN</td>\n      <td>NaN</td>\n      <td>NaN</td>\n      <td>NaN</td>\n      <td>NaN</td>\n      <td>T</td>\n      <td>Astralis</td>\n      <td>51.0</td>\n      <td>42.0</td>\n    </tr>\n    <tr>\n      <th>2</th>\n      <td>DreamHack-Masters-Spring-2021-astralis-vs-comp...</td>\n      <td>de_inferno</td>\n      <td>1</td>\n      <td>3869</td>\n      <td>3710.0</td>\n      <td>12332.0</td>\n      <td>NaN</td>\n      <td>NaN</td>\n      <td>PositionUpdate</td>\n      <td>NaN</td>\n      <td>...</td>\n      <td>NaN</td>\n      <td>NaN</td>\n      <td>NaN</td>\n      <td>NaN</td>\n      <td>NaN</td>\n      <td>NaN</td>\n      <td>CT</td>\n      <td>Complexity</td>\n      <td>17.0</td>\n      <td>14.0</td>\n    </tr>\n    <tr>\n      <th>3</th>\n      <td>DreamHack-Masters-Spring-2021-astralis-vs-comp...</td>\n      <td>de_inferno</td>\n      <td>1</td>\n      <td>3869</td>\n      <td>3710.0</td>\n      <td>12332.0</td>\n      <td>NaN</td>\n      <td>NaN</td>\n      <td>PositionUpdate</td>\n      <td>NaN</td>\n      <td>...</td>\n      <td>NaN</td>\n      <td>NaN</td>\n      <td>NaN</td>\n      <td>NaN</td>\n      <td>NaN</td>\n      <td>NaN</td>\n      <td>T</td>\n      <td>Astralis</td>\n      <td>46.0</td>\n      <td>37.0</td>\n    </tr>\n    <tr>\n      <th>4</th>\n      <td>DreamHack-Masters-Spring-2021-astralis-vs-comp...</td>\n      <td>de_inferno</td>\n      <td>1</td>\n      <td>3998</td>\n      <td>3710.0</td>\n      <td>12332.0</td>\n      <td>NaN</td>\n      <td>NaN</td>\n      <td>PositionUpdate</td>\n      <td>NaN</td>\n      <td>...</td>\n      <td>NaN</td>\n      <td>NaN</td>\n      <td>NaN</td>\n      <td>NaN</td>\n      <td>NaN</td>\n      <td>NaN</td>\n      <td>CT</td>\n      <td>Complexity</td>\n      <td>10.0</td>\n      <td>12.0</td>\n    </tr>\n    <tr>\n      <th>5</th>\n      <td>DreamHack-Masters-Spring-2021-astralis-vs-comp...</td>\n      <td>de_inferno</td>\n      <td>1</td>\n      <td>3998</td>\n      <td>3710.0</td>\n      <td>12332.0</td>\n      <td>NaN</td>\n      <td>NaN</td>\n      <td>PositionUpdate</td>\n      <td>NaN</td>\n      <td>...</td>\n      <td>NaN</td>\n      <td>NaN</td>\n      <td>NaN</td>\n      <td>NaN</td>\n      <td>NaN</td>\n      <td>NaN</td>\n      <td>T</td>\n      <td>Astralis</td>\n      <td>43.0</td>\n      <td>34.0</td>\n    </tr>\n    <tr>\n      <th>6</th>\n      <td>DreamHack-Masters-Spring-2021-astralis-vs-comp...</td>\n      <td>de_inferno</td>\n      <td>1</td>\n      <td>4127</td>\n      <td>3710.0</td>\n      <td>12332.0</td>\n      <td>NaN</td>\n      <td>NaN</td>\n      <td>PositionUpdate</td>\n      <td>NaN</td>\n      <td>...</td>\n      <td>NaN</td>\n      <td>NaN</td>\n      <td>NaN</td>\n      <td>NaN</td>\n      <td>NaN</td>\n      <td>NaN</td>\n      <td>CT</td>\n      <td>Complexity</td>\n      <td>8.0</td>\n      <td>17.0</td>\n    </tr>\n    <tr>\n      <th>7</th>\n      <td>DreamHack-Masters-Spring-2021-astralis-vs-comp...</td>\n      <td>de_inferno</td>\n      <td>1</td>\n      <td>4127</td>\n      <td>3710.0</td>\n      <td>12332.0</td>\n      <td>NaN</td>\n      <td>NaN</td>\n      <td>PositionUpdate</td>\n      <td>NaN</td>\n      <td>...</td>\n      <td>NaN</td>\n      <td>NaN</td>\n      <td>NaN</td>\n      <td>NaN</td>\n      <td>NaN</td>\n      <td>NaN</td>\n      <td>T</td>\n      <td>Astralis</td>\n      <td>39.0</td>\n      <td>30.0</td>\n    </tr>\n    <tr>\n      <th>8</th>\n      <td>DreamHack-Masters-Spring-2021-astralis-vs-comp...</td>\n      <td>de_inferno</td>\n      <td>1</td>\n      <td>4256</td>\n      <td>3710.0</td>\n      <td>12332.0</td>\n      <td>NaN</td>\n      <td>NaN</td>\n      <td>PositionUpdate</td>\n      <td>NaN</td>\n      <td>...</td>\n      <td>NaN</td>\n      <td>NaN</td>\n      <td>NaN</td>\n      <td>NaN</td>\n      <td>NaN</td>\n      <td>NaN</td>\n      <td>CT</td>\n      <td>Complexity</td>\n      <td>6.0</td>\n      <td>13.0</td>\n    </tr>\n    <tr>\n      <th>9</th>\n      <td>DreamHack-Masters-Spring-2021-astralis-vs-comp...</td>\n      <td>de_inferno</td>\n      <td>1</td>\n      <td>4256</td>\n      <td>3710.0</td>\n      <td>12332.0</td>\n      <td>NaN</td>\n      <td>NaN</td>\n      <td>PositionUpdate</td>\n      <td>NaN</td>\n      <td>...</td>\n      <td>NaN</td>\n      <td>NaN</td>\n      <td>NaN</td>\n      <td>NaN</td>\n      <td>NaN</td>\n      <td>NaN</td>\n      <td>T</td>\n      <td>Astralis</td>\n      <td>37.0</td>\n      <td>28.0</td>\n    </tr>\n    <tr>\n      <th>10</th>\n      <td>DreamHack-Masters-Spring-2021-astralis-vs-comp...</td>\n      <td>de_inferno</td>\n      <td>1</td>\n      <td>4385</td>\n      <td>3710.0</td>\n      <td>12332.0</td>\n      <td>NaN</td>\n      <td>NaN</td>\n      <td>PositionUpdate</td>\n      <td>NaN</td>\n      <td>...</td>\n      <td>NaN</td>\n      <td>NaN</td>\n      <td>NaN</td>\n      <td>NaN</td>\n      <td>NaN</td>\n      <td>NaN</td>\n      <td>CT</td>\n      <td>Complexity</td>\n      <td>4.0</td>\n      <td>16.0</td>\n    </tr>\n    <tr>\n      <th>11</th>\n      <td>DreamHack-Masters-Spring-2021-astralis-vs-comp...</td>\n      <td>de_inferno</td>\n      <td>1</td>\n      <td>4385</td>\n      <td>3710.0</td>\n      <td>12332.0</td>\n      <td>NaN</td>\n      <td>NaN</td>\n      <td>PositionUpdate</td>\n      <td>NaN</td>\n      <td>...</td>\n      <td>NaN</td>\n      <td>NaN</td>\n      <td>NaN</td>\n      <td>NaN</td>\n      <td>NaN</td>\n      <td>NaN</td>\n      <td>T</td>\n      <td>Astralis</td>\n      <td>34.0</td>\n      <td>25.0</td>\n    </tr>\n    <tr>\n      <th>12</th>\n      <td>DreamHack-Masters-Spring-2021-astralis-vs-comp...</td>\n      <td>de_inferno</td>\n      <td>1</td>\n      <td>4514</td>\n      <td>3710.0</td>\n      <td>12332.0</td>\n      <td>NaN</td>\n      <td>NaN</td>\n      <td>PositionUpdate</td>\n      <td>NaN</td>\n      <td>...</td>\n      <td>NaN</td>\n      <td>NaN</td>\n      <td>NaN</td>\n      <td>NaN</td>\n      <td>NaN</td>\n      <td>NaN</td>\n      <td>CT</td>\n      <td>Complexity</td>\n      <td>2.0</td>\n      <td>8.0</td>\n    </tr>\n    <tr>\n      <th>13</th>\n      <td>DreamHack-Masters-Spring-2021-astralis-vs-comp...</td>\n      <td>de_inferno</td>\n      <td>1</td>\n      <td>4514</td>\n      <td>3710.0</td>\n      <td>12332.0</td>\n      <td>NaN</td>\n      <td>NaN</td>\n      <td>PositionUpdate</td>\n      <td>NaN</td>\n      <td>...</td>\n      <td>NaN</td>\n      <td>NaN</td>\n      <td>NaN</td>\n      <td>NaN</td>\n      <td>NaN</td>\n      <td>NaN</td>\n      <td>T</td>\n      <td>Astralis</td>\n      <td>31.0</td>\n      <td>22.0</td>\n    </tr>\n    <tr>\n      <th>14</th>\n      <td>DreamHack-Masters-Spring-2021-astralis-vs-comp...</td>\n      <td>de_inferno</td>\n      <td>1</td>\n      <td>4643</td>\n      <td>3710.0</td>\n      <td>12332.0</td>\n      <td>NaN</td>\n      <td>NaN</td>\n      <td>PositionUpdate</td>\n      <td>NaN</td>\n      <td>...</td>\n      <td>NaN</td>\n      <td>NaN</td>\n      <td>NaN</td>\n      <td>NaN</td>\n      <td>NaN</td>\n      <td>NaN</td>\n      <td>CT</td>\n      <td>Complexity</td>\n      <td>3.0</td>\n      <td>7.0</td>\n    </tr>\n    <tr>\n      <th>15</th>\n      <td>DreamHack-Masters-Spring-2021-astralis-vs-comp...</td>\n      <td>de_inferno</td>\n      <td>1</td>\n      <td>4643</td>\n      <td>3710.0</td>\n      <td>12332.0</td>\n      <td>NaN</td>\n      <td>NaN</td>\n      <td>PositionUpdate</td>\n      <td>NaN</td>\n      <td>...</td>\n      <td>NaN</td>\n      <td>NaN</td>\n      <td>NaN</td>\n      <td>NaN</td>\n      <td>NaN</td>\n      <td>NaN</td>\n      <td>T</td>\n      <td>Astralis</td>\n      <td>31.0</td>\n      <td>21.0</td>\n    </tr>\n    <tr>\n      <th>16</th>\n      <td>DreamHack-Masters-Spring-2021-astralis-vs-comp...</td>\n      <td>de_inferno</td>\n      <td>1</td>\n      <td>4772</td>\n      <td>3710.0</td>\n      <td>12332.0</td>\n      <td>NaN</td>\n      <td>NaN</td>\n      <td>PositionUpdate</td>\n      <td>NaN</td>\n      <td>...</td>\n      <td>NaN</td>\n      <td>NaN</td>\n      <td>NaN</td>\n      <td>NaN</td>\n      <td>NaN</td>\n      <td>NaN</td>\n      <td>CT</td>\n      <td>Complexity</td>\n      <td>3.0</td>\n      <td>5.0</td>\n    </tr>\n    <tr>\n      <th>17</th>\n      <td>DreamHack-Masters-Spring-2021-astralis-vs-comp...</td>\n      <td>de_inferno</td>\n      <td>1</td>\n      <td>4772</td>\n      <td>3710.0</td>\n      <td>12332.0</td>\n      <td>NaN</td>\n      <td>NaN</td>\n      <td>PositionUpdate</td>\n      <td>NaN</td>\n      <td>...</td>\n      <td>NaN</td>\n      <td>NaN</td>\n      <td>NaN</td>\n      <td>NaN</td>\n      <td>NaN</td>\n      <td>NaN</td>\n      <td>T</td>\n      <td>Astralis</td>\n      <td>28.0</td>\n      <td>19.0</td>\n    </tr>\n    <tr>\n      <th>18</th>\n      <td>DreamHack-Masters-Spring-2021-astralis-vs-comp...</td>\n      <td>de_inferno</td>\n      <td>1</td>\n      <td>4901</td>\n      <td>3710.0</td>\n      <td>12332.0</td>\n      <td>NaN</td>\n      <td>NaN</td>\n      <td>PositionUpdate</td>\n      <td>NaN</td>\n      <td>...</td>\n      <td>NaN</td>\n      <td>NaN</td>\n      <td>NaN</td>\n      <td>NaN</td>\n      <td>NaN</td>\n      <td>NaN</td>\n      <td>CT</td>\n      <td>Complexity</td>\n      <td>6.0</td>\n      <td>2.0</td>\n    </tr>\n    <tr>\n      <th>19</th>\n      <td>DreamHack-Masters-Spring-2021-astralis-vs-comp...</td>\n      <td>de_inferno</td>\n      <td>1</td>\n      <td>4901</td>\n      <td>3710.0</td>\n      <td>12332.0</td>\n      <td>NaN</td>\n      <td>NaN</td>\n      <td>PositionUpdate</td>\n      <td>NaN</td>\n      <td>...</td>\n      <td>NaN</td>\n      <td>NaN</td>\n      <td>NaN</td>\n      <td>NaN</td>\n      <td>NaN</td>\n      <td>NaN</td>\n      <td>T</td>\n      <td>Astralis</td>\n      <td>27.0</td>\n      <td>23.0</td>\n    </tr>\n  </tbody>\n</table>\n<p>20 rows × 28 columns</p>\n</div>"
     },
     "metadata": {},
     "execution_count": 25
    }
   ],
   "source": [
    "game_states_df = pd.concat([bomb_plants_df, damages_df, site_distances_df], axis=0, ignore_index=True)\n",
    "game_states_df.sort_values(['MatchId', 'MapName', 'RoundNum', 'Tick'], ignore_index=True, inplace=True)\n",
    "game_states_df[game_states_df['EventType'] == 'PositionUpdate'].head(20)"
   ]
  },
  {
   "cell_type": "code",
   "execution_count": null,
   "metadata": {},
   "outputs": [],
   "source": []
  }
 ]
}