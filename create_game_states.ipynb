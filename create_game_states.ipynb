{
 "metadata": {
  "language_info": {
   "codemirror_mode": {
    "name": "ipython",
    "version": 3
   },
   "file_extension": ".py",
   "mimetype": "text/x-python",
   "name": "python",
   "nbconvert_exporter": "python",
   "pygments_lexer": "ipython3",
   "version": "3.6.9"
  },
  "orig_nbformat": 2,
  "kernelspec": {
   "name": "python3",
   "display_name": "Python 3",
   "language": "python"
  },
  "metadata": {
   "interpreter": {
    "hash": "31f2aee4e71d21fbe5cf8b01ff0e069b9275f58929596ceb00d14d90e3e16cd6"
   }
  }
 },
 "nbformat": 4,
 "nbformat_minor": 2,
 "cells": [
  {
   "cell_type": "code",
   "execution_count": 1,
   "metadata": {},
   "outputs": [],
   "source": [
    "import pandas as pd\n",
    "\n",
    "damages_df = pd.read_csv('scrape_parse/Damages.csv', index_col=0)\n",
    "bomb_events_df = pd.read_csv('scrape_parse/BombEvents.csv', index_col=0)\n",
    "rounds_df = pd.read_csv('scrape_parse/Rounds.csv', index_col=0)\n",
    "kills_df = pd.read_csv('scrape_parse/Kills.csv', index_col=0)\n"
   ]
  },
  {
   "cell_type": "code",
   "execution_count": 2,
   "metadata": {},
   "outputs": [
    {
     "output_type": "execute_result",
     "data": {
      "text/plain": [
       "                                             MatchId      MapName  RoundNum  \\\n",
       "0  Liga-Gamers-Club-2021-Serie-A-April-Cup-santos...  de_overpass         1   \n",
       "1  Liga-Gamers-Club-2021-Serie-A-April-Cup-santos...  de_overpass         2   \n",
       "2  Liga-Gamers-Club-2021-Serie-A-April-Cup-santos...  de_overpass         3   \n",
       "3  Liga-Gamers-Club-2021-Serie-A-April-Cup-santos...  de_overpass         4   \n",
       "4  Liga-Gamers-Club-2021-Serie-A-April-Cup-santos...  de_overpass         5   \n",
       "\n",
       "   StartTick  FreezeTimeEnd  EndTick  EndOfficialTick  TScore  CTScore  \\\n",
       "0      13232          15794    27867            27867       0        0   \n",
       "1      28507          31070    46939            46945       0        1   \n",
       "2      47585          50138    64531            64534       1        1   \n",
       "3      65174          67724    81080            81090       2        1   \n",
       "4      81730          84283    98592            98601       3        1   \n",
       "\n",
       "  WinningSide      WinningTeam       LosingTeam RoundEndReason  CTStartEqVal  \\\n",
       "0          CT       SWS Gaming  Santos e-Sports    BombDefused          4350   \n",
       "1           T  Santos e-Sports       SWS Gaming   TargetBombed         20800   \n",
       "2           T  Santos e-Sports       SWS Gaming   TargetBombed         16350   \n",
       "3           T  Santos e-Sports       SWS Gaming   TargetBombed          6200   \n",
       "4           T  Santos e-Sports       SWS Gaming  TerroristsWin         24150   \n",
       "\n",
       "  CTBuyType  TStartEqVal  TBuyType  \n",
       "0    Pistol         4550    Pistol  \n",
       "1  Half Buy        16150  Half Buy  \n",
       "2  Half Buy        23800  Full Buy  \n",
       "3  Half Buy        25300  Full Buy  \n",
       "4  Full Buy        25400  Full Buy  "
      ],
      "text/html": "<div>\n<style scoped>\n    .dataframe tbody tr th:only-of-type {\n        vertical-align: middle;\n    }\n\n    .dataframe tbody tr th {\n        vertical-align: top;\n    }\n\n    .dataframe thead th {\n        text-align: right;\n    }\n</style>\n<table border=\"1\" class=\"dataframe\">\n  <thead>\n    <tr style=\"text-align: right;\">\n      <th></th>\n      <th>MatchId</th>\n      <th>MapName</th>\n      <th>RoundNum</th>\n      <th>StartTick</th>\n      <th>FreezeTimeEnd</th>\n      <th>EndTick</th>\n      <th>EndOfficialTick</th>\n      <th>TScore</th>\n      <th>CTScore</th>\n      <th>WinningSide</th>\n      <th>WinningTeam</th>\n      <th>LosingTeam</th>\n      <th>RoundEndReason</th>\n      <th>CTStartEqVal</th>\n      <th>CTBuyType</th>\n      <th>TStartEqVal</th>\n      <th>TBuyType</th>\n    </tr>\n  </thead>\n  <tbody>\n    <tr>\n      <th>0</th>\n      <td>Liga-Gamers-Club-2021-Serie-A-April-Cup-santos...</td>\n      <td>de_overpass</td>\n      <td>1</td>\n      <td>13232</td>\n      <td>15794</td>\n      <td>27867</td>\n      <td>27867</td>\n      <td>0</td>\n      <td>0</td>\n      <td>CT</td>\n      <td>SWS Gaming</td>\n      <td>Santos e-Sports</td>\n      <td>BombDefused</td>\n      <td>4350</td>\n      <td>Pistol</td>\n      <td>4550</td>\n      <td>Pistol</td>\n    </tr>\n    <tr>\n      <th>1</th>\n      <td>Liga-Gamers-Club-2021-Serie-A-April-Cup-santos...</td>\n      <td>de_overpass</td>\n      <td>2</td>\n      <td>28507</td>\n      <td>31070</td>\n      <td>46939</td>\n      <td>46945</td>\n      <td>0</td>\n      <td>1</td>\n      <td>T</td>\n      <td>Santos e-Sports</td>\n      <td>SWS Gaming</td>\n      <td>TargetBombed</td>\n      <td>20800</td>\n      <td>Half Buy</td>\n      <td>16150</td>\n      <td>Half Buy</td>\n    </tr>\n    <tr>\n      <th>2</th>\n      <td>Liga-Gamers-Club-2021-Serie-A-April-Cup-santos...</td>\n      <td>de_overpass</td>\n      <td>3</td>\n      <td>47585</td>\n      <td>50138</td>\n      <td>64531</td>\n      <td>64534</td>\n      <td>1</td>\n      <td>1</td>\n      <td>T</td>\n      <td>Santos e-Sports</td>\n      <td>SWS Gaming</td>\n      <td>TargetBombed</td>\n      <td>16350</td>\n      <td>Half Buy</td>\n      <td>23800</td>\n      <td>Full Buy</td>\n    </tr>\n    <tr>\n      <th>3</th>\n      <td>Liga-Gamers-Club-2021-Serie-A-April-Cup-santos...</td>\n      <td>de_overpass</td>\n      <td>4</td>\n      <td>65174</td>\n      <td>67724</td>\n      <td>81080</td>\n      <td>81090</td>\n      <td>2</td>\n      <td>1</td>\n      <td>T</td>\n      <td>Santos e-Sports</td>\n      <td>SWS Gaming</td>\n      <td>TargetBombed</td>\n      <td>6200</td>\n      <td>Half Buy</td>\n      <td>25300</td>\n      <td>Full Buy</td>\n    </tr>\n    <tr>\n      <th>4</th>\n      <td>Liga-Gamers-Club-2021-Serie-A-April-Cup-santos...</td>\n      <td>de_overpass</td>\n      <td>5</td>\n      <td>81730</td>\n      <td>84283</td>\n      <td>98592</td>\n      <td>98601</td>\n      <td>3</td>\n      <td>1</td>\n      <td>T</td>\n      <td>Santos e-Sports</td>\n      <td>SWS Gaming</td>\n      <td>TerroristsWin</td>\n      <td>24150</td>\n      <td>Full Buy</td>\n      <td>25400</td>\n      <td>Full Buy</td>\n    </tr>\n  </tbody>\n</table>\n</div>"
     },
     "metadata": {},
     "execution_count": 2
    }
   ],
   "source": [
    "rounds_df.head()"
   ]
  },
  {
   "cell_type": "code",
   "execution_count": 3,
   "metadata": {},
   "outputs": [],
   "source": [
    "game_state_cols = ['MatchId', 'MapName', 'RoundNum', 'TicksSinceStart', 'CTStartEqVal', 'TStartEqVal', 'CTAlive', 'TAlive', 'CTTotalHP', 'TTotalHP', 'BombPlantedA', 'BombPlantedB', 'CTClosestA', 'TClosestA', 'CTClosestB', 'TClosestB']"
   ]
  },
  {
   "source": [
    "## Remove events before and after the round"
   ],
   "cell_type": "markdown",
   "metadata": {}
  },
  {
   "cell_type": "code",
   "execution_count": 4,
   "metadata": {},
   "outputs": [],
   "source": [
    "# TODO: Check that only the post-round time is getting cut (weird since the endtick and officialendtick are practically the same)"
   ]
  },
  {
   "cell_type": "code",
   "execution_count": 5,
   "metadata": {},
   "outputs": [],
   "source": [
    "def keep_in_round_time(df):\n",
    "    # df needs to have \"MatchId\", \"MapName\", \"RoundNum\" columns\n",
    "    merged_df = df.merge(rounds_df[['MatchId', 'MapName', 'RoundNum', 'FreezeTimeEnd', 'EndTick']], how='left', on=['MatchId', 'MapName', 'RoundNum'], validate='many_to_one')\n",
    "    merged_dropped_df = merged_df[(merged_df.Tick > merged_df.FreezeTimeEnd) & (merged_df.Tick <= merged_df.EndTick)]\n",
    "    merged_dropped_df.insert(3, 'RoundTick', merged_dropped_df.Tick - merged_dropped_df.FreezeTimeEnd)\n",
    "    return merged_dropped_df.drop(['Tick', 'FreezeTimeEnd', 'EndTick'], axis=1)"
   ]
  },
  {
   "cell_type": "code",
   "execution_count": 6,
   "metadata": {},
   "outputs": [],
   "source": [
    "# m_bomb_events_df = bomb_events_df.merge(rounds_df[['MatchId', 'MapName', 'RoundNum', 'FreezeTimeEnd', 'EndTick']], how='left', on=['MatchId', 'MapName', 'RoundNum'], validate='many_to_one')\n",
    "# m_bomb_events_df[(m_bomb_events_df.Tick <= m_bomb_events_df.FreezeTimeEnd) | (m_bomb_events_df.Tick > m_bomb_events_df.EndTick)]"
   ]
  },
  {
   "cell_type": "code",
   "execution_count": 7,
   "metadata": {},
   "outputs": [],
   "source": [
    "damages_df = keep_in_round_time(damages_df)\n",
    "bomb_events_df = keep_in_round_time(bomb_events_df)\n",
    "kills_df = keep_in_round_time(kills_df)"
   ]
  },
  {
   "source": [
    "## Bomb Plants"
   ],
   "cell_type": "markdown",
   "metadata": {}
  },
  {
   "cell_type": "code",
   "execution_count": 8,
   "metadata": {},
   "outputs": [
    {
     "output_type": "execute_result",
     "data": {
      "text/plain": [
       "                                             MatchId      MapName  RoundNum  \\\n",
       "0  Liga-Gamers-Club-2021-Serie-A-April-Cup-santos...  de_overpass         1   \n",
       "1  Liga-Gamers-Club-2021-Serie-A-April-Cup-santos...  de_overpass         1   \n",
       "2  Liga-Gamers-Club-2021-Serie-A-April-Cup-santos...  de_overpass         2   \n",
       "3  Liga-Gamers-Club-2021-Serie-A-April-Cup-santos...  de_overpass         3   \n",
       "4  Liga-Gamers-Club-2021-Serie-A-April-Cup-santos...  de_overpass         4   \n",
       "\n",
       "   RoundTick     Second      PlayerSteamId   PlayerName       PlayerTeam  \\\n",
       "0       7625  59.570312  76561198169934019   ★ ⑳ MaLLby  Santos e-Sports   \n",
       "1      12073  94.320312  76561197963277583   ★ ㉑ matios       SWS Gaming   \n",
       "2      10616  82.937500  76561198148561509   ★ ㉑ cass1n  Santos e-Sports   \n",
       "3       9136  71.375000  76561198169934019   ★ ⑳ MaLLby  Santos e-Sports   \n",
       "4       8108  63.343750  76561198128804839  ★ ㉑ voltera  Santos e-Sports   \n",
       "\n",
       "       PlayerX     PlayerY    PlayerZ BombAction BombSite  \n",
       "0 -2549.361572  645.968750  480.03125      plant        A  \n",
       "1 -2507.430908  645.319946  480.03125     defuse        A  \n",
       "2  -954.525574  -31.595411   96.03125      plant        B  \n",
       "3 -1166.488892  -79.727104   98.03125      plant        B  \n",
       "4 -1166.488892  -73.471153   98.03125      plant        B  "
      ],
      "text/html": "<div>\n<style scoped>\n    .dataframe tbody tr th:only-of-type {\n        vertical-align: middle;\n    }\n\n    .dataframe tbody tr th {\n        vertical-align: top;\n    }\n\n    .dataframe thead th {\n        text-align: right;\n    }\n</style>\n<table border=\"1\" class=\"dataframe\">\n  <thead>\n    <tr style=\"text-align: right;\">\n      <th></th>\n      <th>MatchId</th>\n      <th>MapName</th>\n      <th>RoundNum</th>\n      <th>RoundTick</th>\n      <th>Second</th>\n      <th>PlayerSteamId</th>\n      <th>PlayerName</th>\n      <th>PlayerTeam</th>\n      <th>PlayerX</th>\n      <th>PlayerY</th>\n      <th>PlayerZ</th>\n      <th>BombAction</th>\n      <th>BombSite</th>\n    </tr>\n  </thead>\n  <tbody>\n    <tr>\n      <th>0</th>\n      <td>Liga-Gamers-Club-2021-Serie-A-April-Cup-santos...</td>\n      <td>de_overpass</td>\n      <td>1</td>\n      <td>7625</td>\n      <td>59.570312</td>\n      <td>76561198169934019</td>\n      <td>★ ⑳ MaLLby</td>\n      <td>Santos e-Sports</td>\n      <td>-2549.361572</td>\n      <td>645.968750</td>\n      <td>480.03125</td>\n      <td>plant</td>\n      <td>A</td>\n    </tr>\n    <tr>\n      <th>1</th>\n      <td>Liga-Gamers-Club-2021-Serie-A-April-Cup-santos...</td>\n      <td>de_overpass</td>\n      <td>1</td>\n      <td>12073</td>\n      <td>94.320312</td>\n      <td>76561197963277583</td>\n      <td>★ ㉑ matios</td>\n      <td>SWS Gaming</td>\n      <td>-2507.430908</td>\n      <td>645.319946</td>\n      <td>480.03125</td>\n      <td>defuse</td>\n      <td>A</td>\n    </tr>\n    <tr>\n      <th>2</th>\n      <td>Liga-Gamers-Club-2021-Serie-A-April-Cup-santos...</td>\n      <td>de_overpass</td>\n      <td>2</td>\n      <td>10616</td>\n      <td>82.937500</td>\n      <td>76561198148561509</td>\n      <td>★ ㉑ cass1n</td>\n      <td>Santos e-Sports</td>\n      <td>-954.525574</td>\n      <td>-31.595411</td>\n      <td>96.03125</td>\n      <td>plant</td>\n      <td>B</td>\n    </tr>\n    <tr>\n      <th>3</th>\n      <td>Liga-Gamers-Club-2021-Serie-A-April-Cup-santos...</td>\n      <td>de_overpass</td>\n      <td>3</td>\n      <td>9136</td>\n      <td>71.375000</td>\n      <td>76561198169934019</td>\n      <td>★ ⑳ MaLLby</td>\n      <td>Santos e-Sports</td>\n      <td>-1166.488892</td>\n      <td>-79.727104</td>\n      <td>98.03125</td>\n      <td>plant</td>\n      <td>B</td>\n    </tr>\n    <tr>\n      <th>4</th>\n      <td>Liga-Gamers-Club-2021-Serie-A-April-Cup-santos...</td>\n      <td>de_overpass</td>\n      <td>4</td>\n      <td>8108</td>\n      <td>63.343750</td>\n      <td>76561198128804839</td>\n      <td>★ ㉑ voltera</td>\n      <td>Santos e-Sports</td>\n      <td>-1166.488892</td>\n      <td>-73.471153</td>\n      <td>98.03125</td>\n      <td>plant</td>\n      <td>B</td>\n    </tr>\n  </tbody>\n</table>\n</div>"
     },
     "metadata": {},
     "execution_count": 8
    }
   ],
   "source": [
    "bomb_events_df.head()"
   ]
  },
  {
   "cell_type": "code",
   "execution_count": 9,
   "metadata": {},
   "outputs": [
    {
     "output_type": "execute_result",
     "data": {
      "text/plain": [
       "                                                                                   BombPlantedA  \\\n",
       "MatchId                                            MapName     RoundNum RoundTick                 \n",
       "Liga-Gamers-Club-2021-Serie-A-April-Cup-santos-... de_overpass 1        7625               True   \n",
       "                                                                        12073             False   \n",
       "                                                               2        10616             False   \n",
       "                                                               3        9136              False   \n",
       "                                                               4        8108              False   \n",
       "\n",
       "                                                                                   BombPlantedB  \\\n",
       "MatchId                                            MapName     RoundNum RoundTick                 \n",
       "Liga-Gamers-Club-2021-Serie-A-April-Cup-santos-... de_overpass 1        7625              False   \n",
       "                                                                        12073             False   \n",
       "                                                               2        10616              True   \n",
       "                                                               3        9136               True   \n",
       "                                                               4        8108               True   \n",
       "\n",
       "                                                                                  AttackerSide  \\\n",
       "MatchId                                            MapName     RoundNum RoundTick                \n",
       "Liga-Gamers-Club-2021-Serie-A-April-Cup-santos-... de_overpass 1        7625                 T   \n",
       "                                                                        12073               CT   \n",
       "                                                               2        10616                T   \n",
       "                                                               3        9136                 T   \n",
       "                                                               4        8108                 T   \n",
       "\n",
       "                                                                                  VictimSide  \\\n",
       "MatchId                                            MapName     RoundNum RoundTick              \n",
       "Liga-Gamers-Club-2021-Serie-A-April-Cup-santos-... de_overpass 1        7625              CT   \n",
       "                                                                        12073              T   \n",
       "                                                               2        10616             CT   \n",
       "                                                               3        9136              CT   \n",
       "                                                               4        8108              CT   \n",
       "\n",
       "                                                                                     AttackerSteamId  \n",
       "MatchId                                            MapName     RoundNum RoundTick                     \n",
       "Liga-Gamers-Club-2021-Serie-A-April-Cup-santos-... de_overpass 1        7625       76561198169934019  \n",
       "                                                                        12073      76561197963277583  \n",
       "                                                               2        10616      76561198148561509  \n",
       "                                                               3        9136       76561198169934019  \n",
       "                                                               4        8108       76561198128804839  "
      ],
      "text/html": "<div>\n<style scoped>\n    .dataframe tbody tr th:only-of-type {\n        vertical-align: middle;\n    }\n\n    .dataframe tbody tr th {\n        vertical-align: top;\n    }\n\n    .dataframe thead th {\n        text-align: right;\n    }\n</style>\n<table border=\"1\" class=\"dataframe\">\n  <thead>\n    <tr style=\"text-align: right;\">\n      <th></th>\n      <th></th>\n      <th></th>\n      <th></th>\n      <th>BombPlantedA</th>\n      <th>BombPlantedB</th>\n      <th>AttackerSide</th>\n      <th>VictimSide</th>\n      <th>AttackerSteamId</th>\n    </tr>\n    <tr>\n      <th>MatchId</th>\n      <th>MapName</th>\n      <th>RoundNum</th>\n      <th>RoundTick</th>\n      <th></th>\n      <th></th>\n      <th></th>\n      <th></th>\n      <th></th>\n    </tr>\n  </thead>\n  <tbody>\n    <tr>\n      <th rowspan=\"5\" valign=\"top\">Liga-Gamers-Club-2021-Serie-A-April-Cup-santos-vs-sws-bo3</th>\n      <th rowspan=\"5\" valign=\"top\">de_overpass</th>\n      <th rowspan=\"2\" valign=\"top\">1</th>\n      <th>7625</th>\n      <td>True</td>\n      <td>False</td>\n      <td>T</td>\n      <td>CT</td>\n      <td>76561198169934019</td>\n    </tr>\n    <tr>\n      <th>12073</th>\n      <td>False</td>\n      <td>False</td>\n      <td>CT</td>\n      <td>T</td>\n      <td>76561197963277583</td>\n    </tr>\n    <tr>\n      <th>2</th>\n      <th>10616</th>\n      <td>False</td>\n      <td>True</td>\n      <td>T</td>\n      <td>CT</td>\n      <td>76561198148561509</td>\n    </tr>\n    <tr>\n      <th>3</th>\n      <th>9136</th>\n      <td>False</td>\n      <td>True</td>\n      <td>T</td>\n      <td>CT</td>\n      <td>76561198169934019</td>\n    </tr>\n    <tr>\n      <th>4</th>\n      <th>8108</th>\n      <td>False</td>\n      <td>True</td>\n      <td>T</td>\n      <td>CT</td>\n      <td>76561198128804839</td>\n    </tr>\n  </tbody>\n</table>\n</div>"
     },
     "metadata": {},
     "execution_count": 9
    }
   ],
   "source": [
    "bomb_events_df['BombPlantedA'] = (bomb_events_df['BombSite'] == 'A') & (bomb_events_df['BombAction'] == 'plant')\n",
    "bomb_events_df['BombPlantedB'] = (bomb_events_df['BombSite'] == 'B') & (bomb_events_df['BombAction'] == 'plant')\n",
    "bomb_events_df['AttackerSide'] = bomb_events_df['BombAction'].map({'plant': 'T', 'defuse': 'CT'})\n",
    "bomb_events_df['VictimSide'] = bomb_events_df['BombAction'].map({'plant': 'CT', 'defuse': 'T'})\n",
    "bomb_events_df['AttackerSteamId'] = bomb_events_df['PlayerSteamId']\n",
    "\n",
    "bomb_state_df = bomb_events_df.drop(columns=['Second', 'PlayerX', 'PlayerY', 'PlayerZ', 'BombSite', 'PlayerName', 'PlayerTeam', 'BombAction', 'PlayerSteamId'])\n",
    "bomb_state_df.set_index(['MatchId', 'MapName', 'RoundNum', 'RoundTick'], inplace=True)\n",
    "bomb_state_df.head()"
   ]
  },
  {
   "source": [
    "## Kills and Damage"
   ],
   "cell_type": "markdown",
   "metadata": {}
  },
  {
   "cell_type": "code",
   "execution_count": 10,
   "metadata": {},
   "outputs": [],
   "source": [
    "# Drop C4 kills and damages since those happen when the round ends\n",
    "kills_df = kills_df[kills_df.Weapon != 'C4']\n",
    "damages_df = damages_df[damages_df.Weapon != 'C4']"
   ]
  },
  {
   "cell_type": "code",
   "execution_count": 11,
   "metadata": {},
   "outputs": [
    {
     "output_type": "execute_result",
     "data": {
      "text/plain": [
       "                                             MatchId      MapName  RoundNum  \\\n",
       "0  Liga-Gamers-Club-2021-Serie-A-April-Cup-santos...  de_overpass         1   \n",
       "1  Liga-Gamers-Club-2021-Serie-A-April-Cup-santos...  de_overpass         1   \n",
       "2  Liga-Gamers-Club-2021-Serie-A-April-Cup-santos...  de_overpass         1   \n",
       "3  Liga-Gamers-Club-2021-Serie-A-April-Cup-santos...  de_overpass         1   \n",
       "4  Liga-Gamers-Club-2021-Serie-A-April-Cup-santos...  de_overpass         1   \n",
       "\n",
       "   RoundTick        AttackerSteamId AttackerSide      VictimSteamId VictimSide  \n",
       "0       5173  7.656119814856152e+16            T  76561198286138224         CT  \n",
       "1       5321  7.656119814856152e+16            T  76561198135228658         CT  \n",
       "2       5465  7.656119796327758e+16           CT  76561198148561509          T  \n",
       "3       6005  7.656119816993403e+16            T  76561198061789000         CT  \n",
       "4       6997  7.656119816993403e+16            T  76561198051070311         CT  "
      ],
      "text/html": "<div>\n<style scoped>\n    .dataframe tbody tr th:only-of-type {\n        vertical-align: middle;\n    }\n\n    .dataframe tbody tr th {\n        vertical-align: top;\n    }\n\n    .dataframe thead th {\n        text-align: right;\n    }\n</style>\n<table border=\"1\" class=\"dataframe\">\n  <thead>\n    <tr style=\"text-align: right;\">\n      <th></th>\n      <th>MatchId</th>\n      <th>MapName</th>\n      <th>RoundNum</th>\n      <th>RoundTick</th>\n      <th>AttackerSteamId</th>\n      <th>AttackerSide</th>\n      <th>VictimSteamId</th>\n      <th>VictimSide</th>\n    </tr>\n  </thead>\n  <tbody>\n    <tr>\n      <th>0</th>\n      <td>Liga-Gamers-Club-2021-Serie-A-April-Cup-santos...</td>\n      <td>de_overpass</td>\n      <td>1</td>\n      <td>5173</td>\n      <td>7.656119814856152e+16</td>\n      <td>T</td>\n      <td>76561198286138224</td>\n      <td>CT</td>\n    </tr>\n    <tr>\n      <th>1</th>\n      <td>Liga-Gamers-Club-2021-Serie-A-April-Cup-santos...</td>\n      <td>de_overpass</td>\n      <td>1</td>\n      <td>5321</td>\n      <td>7.656119814856152e+16</td>\n      <td>T</td>\n      <td>76561198135228658</td>\n      <td>CT</td>\n    </tr>\n    <tr>\n      <th>2</th>\n      <td>Liga-Gamers-Club-2021-Serie-A-April-Cup-santos...</td>\n      <td>de_overpass</td>\n      <td>1</td>\n      <td>5465</td>\n      <td>7.656119796327758e+16</td>\n      <td>CT</td>\n      <td>76561198148561509</td>\n      <td>T</td>\n    </tr>\n    <tr>\n      <th>3</th>\n      <td>Liga-Gamers-Club-2021-Serie-A-April-Cup-santos...</td>\n      <td>de_overpass</td>\n      <td>1</td>\n      <td>6005</td>\n      <td>7.656119816993403e+16</td>\n      <td>T</td>\n      <td>76561198061789000</td>\n      <td>CT</td>\n    </tr>\n    <tr>\n      <th>4</th>\n      <td>Liga-Gamers-Club-2021-Serie-A-April-Cup-santos...</td>\n      <td>de_overpass</td>\n      <td>1</td>\n      <td>6997</td>\n      <td>7.656119816993403e+16</td>\n      <td>T</td>\n      <td>76561198051070311</td>\n      <td>CT</td>\n    </tr>\n  </tbody>\n</table>\n</div>"
     },
     "metadata": {},
     "execution_count": 11
    }
   ],
   "source": [
    "kills_df = kills_df[['MatchId', 'MapName', 'RoundNum', 'RoundTick', 'AttackerSteamId', 'AttackerSide', 'VictimSteamId', 'VictimSide']]\n",
    "kills_df['AttackerSteamId'] = kills_df['AttackerSteamId'].astype(str)\n",
    "kills_df['VictimSteamId'] = kills_df['VictimSteamId'].astype(str)\n",
    "kills_df.head()"
   ]
  },
  {
   "cell_type": "code",
   "execution_count": 12,
   "metadata": {},
   "outputs": [],
   "source": [
    "kills_df.VictimSteamId = kills_df.VictimSteamId.astype(float).astype(str)"
   ]
  },
  {
   "cell_type": "code",
   "execution_count": 13,
   "metadata": {},
   "outputs": [
    {
     "output_type": "execute_result",
     "data": {
      "text/plain": [
       "                                             MatchId      MapName  RoundNum  \\\n",
       "0  Liga-Gamers-Club-2021-Serie-A-April-Cup-santos...  de_overpass         1   \n",
       "1  Liga-Gamers-Club-2021-Serie-A-April-Cup-santos...  de_overpass         1   \n",
       "2  Liga-Gamers-Club-2021-Serie-A-April-Cup-santos...  de_overpass         1   \n",
       "3  Liga-Gamers-Club-2021-Serie-A-April-Cup-santos...  de_overpass         1   \n",
       "4  Liga-Gamers-Club-2021-Serie-A-April-Cup-santos...  de_overpass         1   \n",
       "\n",
       "   RoundTick  HpDamageTaken        AttackerSteamId AttackerSide  \\\n",
       "0       5149             21   7.65611981485615e+16            T   \n",
       "1       5173             79   7.65611981485615e+16            T   \n",
       "2       5321            100   7.65611981485615e+16            T   \n",
       "3       5465            100  7.656119796327758e+16           CT   \n",
       "4       5965             11  7.656119816993402e+16            T   \n",
       "\n",
       "       VictimSteamId VictimSide  \n",
       "0  76561198286138224         CT  \n",
       "1  76561198286138224         CT  \n",
       "2  76561198135228658         CT  \n",
       "3  76561198148561509          T  \n",
       "4  76561198061789000         CT  "
      ],
      "text/html": "<div>\n<style scoped>\n    .dataframe tbody tr th:only-of-type {\n        vertical-align: middle;\n    }\n\n    .dataframe tbody tr th {\n        vertical-align: top;\n    }\n\n    .dataframe thead th {\n        text-align: right;\n    }\n</style>\n<table border=\"1\" class=\"dataframe\">\n  <thead>\n    <tr style=\"text-align: right;\">\n      <th></th>\n      <th>MatchId</th>\n      <th>MapName</th>\n      <th>RoundNum</th>\n      <th>RoundTick</th>\n      <th>HpDamageTaken</th>\n      <th>AttackerSteamId</th>\n      <th>AttackerSide</th>\n      <th>VictimSteamId</th>\n      <th>VictimSide</th>\n    </tr>\n  </thead>\n  <tbody>\n    <tr>\n      <th>0</th>\n      <td>Liga-Gamers-Club-2021-Serie-A-April-Cup-santos...</td>\n      <td>de_overpass</td>\n      <td>1</td>\n      <td>5149</td>\n      <td>21</td>\n      <td>7.65611981485615e+16</td>\n      <td>T</td>\n      <td>76561198286138224</td>\n      <td>CT</td>\n    </tr>\n    <tr>\n      <th>1</th>\n      <td>Liga-Gamers-Club-2021-Serie-A-April-Cup-santos...</td>\n      <td>de_overpass</td>\n      <td>1</td>\n      <td>5173</td>\n      <td>79</td>\n      <td>7.65611981485615e+16</td>\n      <td>T</td>\n      <td>76561198286138224</td>\n      <td>CT</td>\n    </tr>\n    <tr>\n      <th>2</th>\n      <td>Liga-Gamers-Club-2021-Serie-A-April-Cup-santos...</td>\n      <td>de_overpass</td>\n      <td>1</td>\n      <td>5321</td>\n      <td>100</td>\n      <td>7.65611981485615e+16</td>\n      <td>T</td>\n      <td>76561198135228658</td>\n      <td>CT</td>\n    </tr>\n    <tr>\n      <th>3</th>\n      <td>Liga-Gamers-Club-2021-Serie-A-April-Cup-santos...</td>\n      <td>de_overpass</td>\n      <td>1</td>\n      <td>5465</td>\n      <td>100</td>\n      <td>7.656119796327758e+16</td>\n      <td>CT</td>\n      <td>76561198148561509</td>\n      <td>T</td>\n    </tr>\n    <tr>\n      <th>4</th>\n      <td>Liga-Gamers-Club-2021-Serie-A-April-Cup-santos...</td>\n      <td>de_overpass</td>\n      <td>1</td>\n      <td>5965</td>\n      <td>11</td>\n      <td>7.656119816993402e+16</td>\n      <td>T</td>\n      <td>76561198061789000</td>\n      <td>CT</td>\n    </tr>\n  </tbody>\n</table>\n</div>"
     },
     "metadata": {},
     "execution_count": 13
    }
   ],
   "source": [
    "damages_df = damages_df[['MatchId', 'MapName', 'RoundNum', 'RoundTick', 'HpDamageTaken', 'AttackerSteamId', 'AttackerSide', 'VictimSteamId', 'VictimSide']]\n",
    "damages_df['AttackerSteamId'] = damages_df['AttackerSteamId'].astype(str)\n",
    "damages_df['VictimSteamId'] = damages_df['VictimSteamId'].astype(str)\n",
    "damages_df.head()"
   ]
  },
  {
   "source": [
    "# Combine simultaneous instances of damage from the same player to the same player\n",
    "kills_damage_key = ['MatchId', 'MapName', 'RoundNum', 'RoundTick', 'AttackerSteamId', 'AttackerSide', 'VictimSteamId', 'VictimSide']\n",
    "damages_df = damages_df.groupby(kills_damage_key, as_index=False).sum()\n",
    "damages_df['HpDamageTaken'] = damages_df.HpDamageTaken.apply(lambda x: min([x, 100]))  # Bugged/laggy damages instances > 100 (shouldn't be possible)\n"
   ],
   "cell_type": "code",
   "metadata": {},
   "execution_count": 14,
   "outputs": []
  },
  {
   "cell_type": "code",
   "execution_count": 15,
   "metadata": {},
   "outputs": [],
   "source": [
    "# Check that all kills have a corresponding damage event\n",
    "inner_merge_df = kills_df.merge(damages_df, on=kills_damage_key)\n",
    "\n",
    "# if len(inner_merge_df) != len(kills_df):\n",
    "#     raise ValueError(f'{len(inner_merge_df)} kills have corresponding damage event, {len(kills_df)} kills in total')"
   ]
  },
  {
   "cell_type": "code",
   "execution_count": 16,
   "metadata": {},
   "outputs": [
    {
     "output_type": "execute_result",
     "data": {
      "text/plain": [
       "                                             MatchId      MapName  RoundNum  \\\n",
       "0  Liga-Gamers-Club-2021-Serie-A-April-Cup-santos...  de_overpass         1   \n",
       "1  Liga-Gamers-Club-2021-Serie-A-April-Cup-santos...  de_overpass         1   \n",
       "2  Liga-Gamers-Club-2021-Serie-A-April-Cup-santos...  de_overpass         1   \n",
       "3  Liga-Gamers-Club-2021-Serie-A-April-Cup-santos...  de_overpass         1   \n",
       "4  Liga-Gamers-Club-2021-Serie-A-April-Cup-santos...  de_overpass         1   \n",
       "\n",
       "   RoundTick        AttackerSteamId AttackerSide          VictimSteamId  \\\n",
       "0       5173  7.656119814856152e+16            T  7.656119828613822e+16   \n",
       "1       5321  7.656119814856152e+16            T  7.656119813522866e+16   \n",
       "2       5465  7.656119796327758e+16           CT   7.65611981485615e+16   \n",
       "3       6005  7.656119816993403e+16            T    7.6561198061789e+16   \n",
       "4       6997  7.656119816993403e+16            T   7.65611980510703e+16   \n",
       "\n",
       "  VictimSide  \n",
       "0         CT  \n",
       "1         CT  \n",
       "2          T  \n",
       "3         CT  \n",
       "4         CT  "
      ],
      "text/html": "<div>\n<style scoped>\n    .dataframe tbody tr th:only-of-type {\n        vertical-align: middle;\n    }\n\n    .dataframe tbody tr th {\n        vertical-align: top;\n    }\n\n    .dataframe thead th {\n        text-align: right;\n    }\n</style>\n<table border=\"1\" class=\"dataframe\">\n  <thead>\n    <tr style=\"text-align: right;\">\n      <th></th>\n      <th>MatchId</th>\n      <th>MapName</th>\n      <th>RoundNum</th>\n      <th>RoundTick</th>\n      <th>AttackerSteamId</th>\n      <th>AttackerSide</th>\n      <th>VictimSteamId</th>\n      <th>VictimSide</th>\n    </tr>\n  </thead>\n  <tbody>\n    <tr>\n      <th>0</th>\n      <td>Liga-Gamers-Club-2021-Serie-A-April-Cup-santos...</td>\n      <td>de_overpass</td>\n      <td>1</td>\n      <td>5173</td>\n      <td>7.656119814856152e+16</td>\n      <td>T</td>\n      <td>7.656119828613822e+16</td>\n      <td>CT</td>\n    </tr>\n    <tr>\n      <th>1</th>\n      <td>Liga-Gamers-Club-2021-Serie-A-April-Cup-santos...</td>\n      <td>de_overpass</td>\n      <td>1</td>\n      <td>5321</td>\n      <td>7.656119814856152e+16</td>\n      <td>T</td>\n      <td>7.656119813522866e+16</td>\n      <td>CT</td>\n    </tr>\n    <tr>\n      <th>2</th>\n      <td>Liga-Gamers-Club-2021-Serie-A-April-Cup-santos...</td>\n      <td>de_overpass</td>\n      <td>1</td>\n      <td>5465</td>\n      <td>7.656119796327758e+16</td>\n      <td>CT</td>\n      <td>7.65611981485615e+16</td>\n      <td>T</td>\n    </tr>\n    <tr>\n      <th>3</th>\n      <td>Liga-Gamers-Club-2021-Serie-A-April-Cup-santos...</td>\n      <td>de_overpass</td>\n      <td>1</td>\n      <td>6005</td>\n      <td>7.656119816993403e+16</td>\n      <td>T</td>\n      <td>7.6561198061789e+16</td>\n      <td>CT</td>\n    </tr>\n    <tr>\n      <th>4</th>\n      <td>Liga-Gamers-Club-2021-Serie-A-April-Cup-santos...</td>\n      <td>de_overpass</td>\n      <td>1</td>\n      <td>6997</td>\n      <td>7.656119816993403e+16</td>\n      <td>T</td>\n      <td>7.65611980510703e+16</td>\n      <td>CT</td>\n    </tr>\n  </tbody>\n</table>\n</div>"
     },
     "metadata": {},
     "execution_count": 16
    }
   ],
   "source": [
    "kills_df.head()"
   ]
  },
  {
   "source": [
    "### Merging kills into damage"
   ],
   "cell_type": "markdown",
   "metadata": {}
  },
  {
   "cell_type": "code",
   "execution_count": 17,
   "metadata": {},
   "outputs": [
    {
     "output_type": "execute_result",
     "data": {
      "text/plain": [
       "                                             MatchId   MapName  RoundNum  \\\n",
       "0  961Gamers-Nationals-2020-yalla-vs-we-sell-powe...  de_dust2         1   \n",
       "1  961Gamers-Nationals-2020-yalla-vs-we-sell-powe...  de_dust2         1   \n",
       "2  961Gamers-Nationals-2020-yalla-vs-we-sell-powe...  de_dust2         1   \n",
       "3  961Gamers-Nationals-2020-yalla-vs-we-sell-powe...  de_dust2         1   \n",
       "4  961Gamers-Nationals-2020-yalla-vs-we-sell-powe...  de_dust2         1   \n",
       "\n",
       "   RoundTick        AttackerSteamId AttackerSide      VictimSteamId  \\\n",
       "0        646  7.656119811125186e+16            T  76561198422389693   \n",
       "1        928  7.656119819470005e+16           CT  76561198111251858   \n",
       "2       1038  7.656119811125186e+16            T  76561198194700054   \n",
       "3       1110  7.656119811125186e+16            T  76561198194700054   \n",
       "4       2032   7.65611984223897e+16           CT  76561198338258639   \n",
       "\n",
       "  VictimSide  HpDamageTaken  IsKill  \n",
       "0         CT             85   False  \n",
       "1          T             11   False  \n",
       "2         CT             89   False  \n",
       "3         CT             11   False  \n",
       "4          T            100   False  "
      ],
      "text/html": "<div>\n<style scoped>\n    .dataframe tbody tr th:only-of-type {\n        vertical-align: middle;\n    }\n\n    .dataframe tbody tr th {\n        vertical-align: top;\n    }\n\n    .dataframe thead th {\n        text-align: right;\n    }\n</style>\n<table border=\"1\" class=\"dataframe\">\n  <thead>\n    <tr style=\"text-align: right;\">\n      <th></th>\n      <th>MatchId</th>\n      <th>MapName</th>\n      <th>RoundNum</th>\n      <th>RoundTick</th>\n      <th>AttackerSteamId</th>\n      <th>AttackerSide</th>\n      <th>VictimSteamId</th>\n      <th>VictimSide</th>\n      <th>HpDamageTaken</th>\n      <th>IsKill</th>\n    </tr>\n  </thead>\n  <tbody>\n    <tr>\n      <th>0</th>\n      <td>961Gamers-Nationals-2020-yalla-vs-we-sell-powe...</td>\n      <td>de_dust2</td>\n      <td>1</td>\n      <td>646</td>\n      <td>7.656119811125186e+16</td>\n      <td>T</td>\n      <td>76561198422389693</td>\n      <td>CT</td>\n      <td>85</td>\n      <td>False</td>\n    </tr>\n    <tr>\n      <th>1</th>\n      <td>961Gamers-Nationals-2020-yalla-vs-we-sell-powe...</td>\n      <td>de_dust2</td>\n      <td>1</td>\n      <td>928</td>\n      <td>7.656119819470005e+16</td>\n      <td>CT</td>\n      <td>76561198111251858</td>\n      <td>T</td>\n      <td>11</td>\n      <td>False</td>\n    </tr>\n    <tr>\n      <th>2</th>\n      <td>961Gamers-Nationals-2020-yalla-vs-we-sell-powe...</td>\n      <td>de_dust2</td>\n      <td>1</td>\n      <td>1038</td>\n      <td>7.656119811125186e+16</td>\n      <td>T</td>\n      <td>76561198194700054</td>\n      <td>CT</td>\n      <td>89</td>\n      <td>False</td>\n    </tr>\n    <tr>\n      <th>3</th>\n      <td>961Gamers-Nationals-2020-yalla-vs-we-sell-powe...</td>\n      <td>de_dust2</td>\n      <td>1</td>\n      <td>1110</td>\n      <td>7.656119811125186e+16</td>\n      <td>T</td>\n      <td>76561198194700054</td>\n      <td>CT</td>\n      <td>11</td>\n      <td>False</td>\n    </tr>\n    <tr>\n      <th>4</th>\n      <td>961Gamers-Nationals-2020-yalla-vs-we-sell-powe...</td>\n      <td>de_dust2</td>\n      <td>1</td>\n      <td>2032</td>\n      <td>7.65611984223897e+16</td>\n      <td>CT</td>\n      <td>76561198338258639</td>\n      <td>T</td>\n      <td>100</td>\n      <td>False</td>\n    </tr>\n  </tbody>\n</table>\n</div>"
     },
     "metadata": {},
     "execution_count": 17
    }
   ],
   "source": [
    "kills_df['IsKill'] = True\n",
    "damages_df = pd.merge(damages_df, kills_df, how='left', on=kills_damage_key, validate='one_to_one')\n",
    "damages_df['IsKill'].fillna(False, inplace=True)\n",
    "damages_df.head()"
   ]
  },
  {
   "cell_type": "code",
   "execution_count": 18,
   "metadata": {},
   "outputs": [],
   "source": [
    "# TODO: Make sure this accounts for kills that don't deal damage (suicide/disconnect/fall off on vertigo)\n",
    "\n",
    "def count_alive_and_damage(round_df):\n",
    "    round_df.sort_values('RoundTick', inplace=True)\n",
    "\n",
    "    # Tally kills to get number of players alive\n",
    "    round_df['TKilled'] = (round_df.IsKill) & (round_df.VictimSide == 'T')\n",
    "    round_df['CTKilled'] = (round_df.IsKill) & (round_df.VictimSide == 'CT')\n",
    "    round_df['TAlive'] = 5 - round_df.TKilled.cumsum()\n",
    "    round_df['CTAlive'] = 5 - round_df.CTKilled.cumsum()\n",
    "    \n",
    "    # Tally damage to get total team HP\n",
    "    round_df['TDamaged'] = (round_df.VictimSide == 'T') * round_df.HpDamageTaken\n",
    "    round_df['CTDamaged'] = (round_df.VictimSide == 'CT') * round_df.HpDamageTaken\n",
    "    round_df['TTotalHp'] = 500 - round_df.TDamaged.cumsum()\n",
    "    round_df['CTTotalHp'] = 500 - round_df.CTDamaged.cumsum()\n",
    "\n",
    "    round_df.drop(['IsKill', 'TKilled', 'CTKilled', 'TDamaged', 'CTDamaged', 'HpDamageTaken'], axis=1, inplace=True)\n",
    "    return round_df\n",
    "\n",
    "damages_kills_state_df = damages_df.groupby(['MatchId', 'MapName', 'RoundNum']).apply(count_alive_and_damage)\n",
    "damages_kills_state_df.set_index(['MatchId', 'MapName', 'RoundNum', 'RoundTick'], inplace=True)"
   ]
  },
  {
   "cell_type": "code",
   "execution_count": 19,
   "metadata": {},
   "outputs": [
    {
     "output_type": "execute_result",
     "data": {
      "text/plain": [
       "         TAlive   CTAlive       TTotalHp      CTTotalHp\n",
       "count  843967.0  843967.0  843967.000000  843967.000000\n",
       "mean        5.0       5.0     294.680531     327.314256\n",
       "std         0.0       0.0     143.010039     136.936846\n",
       "min         5.0       5.0    -110.000000     -97.000000\n",
       "25%         5.0       5.0     186.000000     225.000000\n",
       "50%         5.0       5.0     304.000000     352.000000\n",
       "75%         5.0       5.0     408.000000     446.000000\n",
       "max         5.0       5.0     500.000000     500.000000"
      ],
      "text/html": "<div>\n<style scoped>\n    .dataframe tbody tr th:only-of-type {\n        vertical-align: middle;\n    }\n\n    .dataframe tbody tr th {\n        vertical-align: top;\n    }\n\n    .dataframe thead th {\n        text-align: right;\n    }\n</style>\n<table border=\"1\" class=\"dataframe\">\n  <thead>\n    <tr style=\"text-align: right;\">\n      <th></th>\n      <th>TAlive</th>\n      <th>CTAlive</th>\n      <th>TTotalHp</th>\n      <th>CTTotalHp</th>\n    </tr>\n  </thead>\n  <tbody>\n    <tr>\n      <th>count</th>\n      <td>843967.0</td>\n      <td>843967.0</td>\n      <td>843967.000000</td>\n      <td>843967.000000</td>\n    </tr>\n    <tr>\n      <th>mean</th>\n      <td>5.0</td>\n      <td>5.0</td>\n      <td>294.680531</td>\n      <td>327.314256</td>\n    </tr>\n    <tr>\n      <th>std</th>\n      <td>0.0</td>\n      <td>0.0</td>\n      <td>143.010039</td>\n      <td>136.936846</td>\n    </tr>\n    <tr>\n      <th>min</th>\n      <td>5.0</td>\n      <td>5.0</td>\n      <td>-110.000000</td>\n      <td>-97.000000</td>\n    </tr>\n    <tr>\n      <th>25%</th>\n      <td>5.0</td>\n      <td>5.0</td>\n      <td>186.000000</td>\n      <td>225.000000</td>\n    </tr>\n    <tr>\n      <th>50%</th>\n      <td>5.0</td>\n      <td>5.0</td>\n      <td>304.000000</td>\n      <td>352.000000</td>\n    </tr>\n    <tr>\n      <th>75%</th>\n      <td>5.0</td>\n      <td>5.0</td>\n      <td>408.000000</td>\n      <td>446.000000</td>\n    </tr>\n    <tr>\n      <th>max</th>\n      <td>5.0</td>\n      <td>5.0</td>\n      <td>500.000000</td>\n      <td>500.000000</td>\n    </tr>\n  </tbody>\n</table>\n</div>"
     },
     "metadata": {},
     "execution_count": 19
    }
   ],
   "source": [
    "# Make sure data looks good\n",
    "damages_kills_state_df.describe()"
   ]
  },
  {
   "cell_type": "code",
   "execution_count": 20,
   "metadata": {},
   "outputs": [
    {
     "output_type": "execute_result",
     "data": {
      "text/plain": [
       "('DreamHack-Masters-Spring-2021-astralis-vs-complexity-bo3',\n",
       " 'de_vertigo',\n",
       " 'RoundNum')"
      ]
     },
     "metadata": {},
     "execution_count": 20
    }
   ],
   "source": [
    "'DreamHack-Masters-Spring-2021-astralis-vs-complexity-bo3', 'de_vertigo', 'RoundNum'"
   ]
  },
  {
   "source": [
    "## Player Positions"
   ],
   "cell_type": "markdown",
   "metadata": {}
  },
  {
   "cell_type": "code",
   "execution_count": 21,
   "metadata": {},
   "outputs": [
    {
     "output_type": "execute_result",
     "data": {
      "text/plain": [
       "                                             MatchId      MapName  RoundNum  \\\n",
       "0  Liga-Gamers-Club-2021-Serie-A-April-Cup-santos...  de_overpass         1   \n",
       "1  Liga-Gamers-Club-2021-Serie-A-April-Cup-santos...  de_overpass         1   \n",
       "2  Liga-Gamers-Club-2021-Serie-A-April-Cup-santos...  de_overpass         1   \n",
       "3  Liga-Gamers-Club-2021-Serie-A-April-Cup-santos...  de_overpass         1   \n",
       "4  Liga-Gamers-Club-2021-Serie-A-April-Cup-santos...  de_overpass         1   \n",
       "\n",
       "   RoundTick Side      PlayerSteamId  HasDefuse  DistToBombsiteA  \\\n",
       "0        252   CT  76561198135228658      False               28   \n",
       "1        252   CT  76561197963277583       True               13   \n",
       "2        252   CT  76561198061789000      False                9   \n",
       "3        252   CT  76561198286138224      False               14   \n",
       "4        252   CT  76561198051070311      False               13   \n",
       "\n",
       "   DistToBombsiteB  \n",
       "0               36  \n",
       "1               39  \n",
       "2               59  \n",
       "3               40  \n",
       "4               41  "
      ],
      "text/html": "<div>\n<style scoped>\n    .dataframe tbody tr th:only-of-type {\n        vertical-align: middle;\n    }\n\n    .dataframe tbody tr th {\n        vertical-align: top;\n    }\n\n    .dataframe thead th {\n        text-align: right;\n    }\n</style>\n<table border=\"1\" class=\"dataframe\">\n  <thead>\n    <tr style=\"text-align: right;\">\n      <th></th>\n      <th>MatchId</th>\n      <th>MapName</th>\n      <th>RoundNum</th>\n      <th>RoundTick</th>\n      <th>Side</th>\n      <th>PlayerSteamId</th>\n      <th>HasDefuse</th>\n      <th>DistToBombsiteA</th>\n      <th>DistToBombsiteB</th>\n    </tr>\n  </thead>\n  <tbody>\n    <tr>\n      <th>0</th>\n      <td>Liga-Gamers-Club-2021-Serie-A-April-Cup-santos...</td>\n      <td>de_overpass</td>\n      <td>1</td>\n      <td>252</td>\n      <td>CT</td>\n      <td>76561198135228658</td>\n      <td>False</td>\n      <td>28</td>\n      <td>36</td>\n    </tr>\n    <tr>\n      <th>1</th>\n      <td>Liga-Gamers-Club-2021-Serie-A-April-Cup-santos...</td>\n      <td>de_overpass</td>\n      <td>1</td>\n      <td>252</td>\n      <td>CT</td>\n      <td>76561197963277583</td>\n      <td>True</td>\n      <td>13</td>\n      <td>39</td>\n    </tr>\n    <tr>\n      <th>2</th>\n      <td>Liga-Gamers-Club-2021-Serie-A-April-Cup-santos...</td>\n      <td>de_overpass</td>\n      <td>1</td>\n      <td>252</td>\n      <td>CT</td>\n      <td>76561198061789000</td>\n      <td>False</td>\n      <td>9</td>\n      <td>59</td>\n    </tr>\n    <tr>\n      <th>3</th>\n      <td>Liga-Gamers-Club-2021-Serie-A-April-Cup-santos...</td>\n      <td>de_overpass</td>\n      <td>1</td>\n      <td>252</td>\n      <td>CT</td>\n      <td>76561198286138224</td>\n      <td>False</td>\n      <td>14</td>\n      <td>40</td>\n    </tr>\n    <tr>\n      <th>4</th>\n      <td>Liga-Gamers-Club-2021-Serie-A-April-Cup-santos...</td>\n      <td>de_overpass</td>\n      <td>1</td>\n      <td>252</td>\n      <td>CT</td>\n      <td>76561198051070311</td>\n      <td>False</td>\n      <td>13</td>\n      <td>41</td>\n    </tr>\n  </tbody>\n</table>\n</div>"
     },
     "metadata": {},
     "execution_count": 21
    }
   ],
   "source": [
    "player_frames_df = pd.read_csv('scrape_parse/PlayerFrames.csv', index_col=0, usecols=['MatchId', 'MapName', 'PlayerSteamId', 'RoundNum', 'Tick', 'Side', 'HasDefuse', 'DistToBombsiteA', 'DistToBombsiteB'])\n",
    "player_frames_df = keep_in_round_time(player_frames_df)\n",
    "player_frames_df.head()\n"
   ]
  },
  {
   "cell_type": "code",
   "execution_count": 22,
   "metadata": {
    "tags": []
   },
   "outputs": [],
   "source": [
    "player_frames_df.drop('PlayerSteamId', axis=1, inplace=True)\n",
    "t_player_frames_df = player_frames_df[player_frames_df.Side == 'T'].drop(['Side', 'HasDefuse'], axis=1)  # Only Counter-Terrorists can buy defuse kits\n",
    "ct_player_frames_df = player_frames_df[player_frames_df.Side == 'CT'].drop('Side', axis=1)\n",
    "\n",
    "t_frames_df = t_player_frames_df.groupby(['MatchId', 'MapName', 'RoundNum', 'RoundTick']).aggregate({'DistToBombsiteA': 'min', 'DistToBombsiteB': 'min'})\n",
    "ct_frames_df = ct_player_frames_df.groupby(['MatchId', 'MapName', 'RoundNum', 'RoundTick']).aggregate({'DistToBombsiteA': 'min', 'DistToBombsiteB': 'min'})\n",
    "t_frames_df.columns = ['ClosestDistToA', 'ClosestDistToB']\n",
    "ct_frames_df.columns = ['ClosestDistToA', 'ClosestDistToB']\n",
    "\n",
    "def lag_distance(df):\n",
    "    df.sort_values('RoundTick', inplace=True)\n",
    "    df['ChangeClosestDistToA'] = df['ClosestDistToA'] - df['ClosestDistToA'].shift(1)\n",
    "    df['ChangeClosestDistToB'] = df['ClosestDistToB'] - df['ClosestDistToB'].shift(1)\n",
    "    df['ChangeClosestDistToA'][0] = 0\n",
    "    df['ChangeClosestDistToB'][0] = 0\n",
    "    return df\n",
    "\n",
    "t_frames_df = t_frames_df.groupby(['MatchId', 'MapName', 'RoundNum']).apply(lag_distance)\n",
    "ct_frames_df = ct_frames_df.groupby(['MatchId', 'MapName', 'RoundNum']).apply(lag_distance)\n",
    "\n",
    "position_state_df = pd.merge(t_frames_df, ct_frames_df, 'outer', ['MatchId', 'MapName', 'RoundNum', 'RoundTick'], suffixes=('_T', '_CT'), validate='one_to_one')\n"
   ]
  },
  {
   "cell_type": "code",
   "execution_count": 23,
   "metadata": {},
   "outputs": [
    {
     "output_type": "execute_result",
     "data": {
      "text/plain": [
       "                                                                                ClosestDistToA_T  \\\n",
       "MatchId                                            MapName  RoundNum RoundTick                     \n",
       "961Gamers-Nationals-2020-yalla-vs-we-sell-power... de_dust2 1        104                    32.0   \n",
       "                                                                     362                    33.0   \n",
       "                                                                     620                    33.0   \n",
       "                                                                     878                    33.0   \n",
       "                                                                     1136                   33.0   \n",
       "                                                                     1394                   33.0   \n",
       "                                                                     1652                   36.0   \n",
       "                                                                     1912                   37.0   \n",
       "                                                                     2170                   34.0   \n",
       "                                                                     2428                   34.0   \n",
       "                                                                     2686                   33.0   \n",
       "                                                                     2944                   32.0   \n",
       "                                                                     3202                   32.0   \n",
       "                                                                     3460                   34.0   \n",
       "                                                                     3718                   34.0   \n",
       "                                                                     3976                   34.0   \n",
       "                                                                     4234                   34.0   \n",
       "                                                                     4492                   34.0   \n",
       "                                                                     4750                   34.0   \n",
       "                                                                     5008                   34.0   \n",
       "\n",
       "                                                                                ClosestDistToB_T  \\\n",
       "MatchId                                            MapName  RoundNum RoundTick                     \n",
       "961Gamers-Nationals-2020-yalla-vs-we-sell-power... de_dust2 1        104                    30.0   \n",
       "                                                                     362                    26.0   \n",
       "                                                                     620                    19.0   \n",
       "                                                                     878                    17.0   \n",
       "                                                                     1136                   16.0   \n",
       "                                                                     1394                   13.0   \n",
       "                                                                     1652                   10.0   \n",
       "                                                                     1912                    6.0   \n",
       "                                                                     2170                    3.0   \n",
       "                                                                     2428                    3.0   \n",
       "                                                                     2686                    2.0   \n",
       "                                                                     2944                    3.0   \n",
       "                                                                     3202                    3.0   \n",
       "                                                                     3460                    3.0   \n",
       "                                                                     3718                    3.0   \n",
       "                                                                     3976                    3.0   \n",
       "                                                                     4234                    3.0   \n",
       "                                                                     4492                    3.0   \n",
       "                                                                     4750                    3.0   \n",
       "                                                                     5008                    3.0   \n",
       "\n",
       "                                                                                ChangeClosestDistToA_T  \\\n",
       "MatchId                                            MapName  RoundNum RoundTick                           \n",
       "961Gamers-Nationals-2020-yalla-vs-we-sell-power... de_dust2 1        104                           0.0   \n",
       "                                                                     362                           1.0   \n",
       "                                                                     620                           0.0   \n",
       "                                                                     878                           0.0   \n",
       "                                                                     1136                          0.0   \n",
       "                                                                     1394                          0.0   \n",
       "                                                                     1652                          3.0   \n",
       "                                                                     1912                          1.0   \n",
       "                                                                     2170                         -3.0   \n",
       "                                                                     2428                          0.0   \n",
       "                                                                     2686                         -1.0   \n",
       "                                                                     2944                         -1.0   \n",
       "                                                                     3202                          0.0   \n",
       "                                                                     3460                          2.0   \n",
       "                                                                     3718                          0.0   \n",
       "                                                                     3976                          0.0   \n",
       "                                                                     4234                          0.0   \n",
       "                                                                     4492                          0.0   \n",
       "                                                                     4750                          0.0   \n",
       "                                                                     5008                          0.0   \n",
       "\n",
       "                                                                                ChangeClosestDistToB_T  \\\n",
       "MatchId                                            MapName  RoundNum RoundTick                           \n",
       "961Gamers-Nationals-2020-yalla-vs-we-sell-power... de_dust2 1        104                           0.0   \n",
       "                                                                     362                          -4.0   \n",
       "                                                                     620                          -7.0   \n",
       "                                                                     878                          -2.0   \n",
       "                                                                     1136                         -1.0   \n",
       "                                                                     1394                         -3.0   \n",
       "                                                                     1652                         -3.0   \n",
       "                                                                     1912                         -4.0   \n",
       "                                                                     2170                         -3.0   \n",
       "                                                                     2428                          0.0   \n",
       "                                                                     2686                         -1.0   \n",
       "                                                                     2944                          1.0   \n",
       "                                                                     3202                          0.0   \n",
       "                                                                     3460                          0.0   \n",
       "                                                                     3718                          0.0   \n",
       "                                                                     3976                          0.0   \n",
       "                                                                     4234                          0.0   \n",
       "                                                                     4492                          0.0   \n",
       "                                                                     4750                          0.0   \n",
       "                                                                     5008                          0.0   \n",
       "\n",
       "                                                                                ClosestDistToA_CT  \\\n",
       "MatchId                                            MapName  RoundNum RoundTick                      \n",
       "961Gamers-Nationals-2020-yalla-vs-we-sell-power... de_dust2 1        104                      6.0   \n",
       "                                                                     362                     15.0   \n",
       "                                                                     620                      7.0   \n",
       "                                                                     878                      9.0   \n",
       "                                                                     1136                     5.0   \n",
       "                                                                     1394                     2.0   \n",
       "                                                                     1652                     4.0   \n",
       "                                                                     1912                    14.0   \n",
       "                                                                     2170                    18.0   \n",
       "                                                                     2428                    21.0   \n",
       "                                                                     2686                    22.0   \n",
       "                                                                     2944                    22.0   \n",
       "                                                                     3202                    22.0   \n",
       "                                                                     3460                    22.0   \n",
       "                                                                     3718                    22.0   \n",
       "                                                                     3976                    22.0   \n",
       "                                                                     4234                    22.0   \n",
       "                                                                     4492                    22.0   \n",
       "                                                                     4750                    22.0   \n",
       "                                                                     5008                    22.0   \n",
       "\n",
       "                                                                                ClosestDistToB_CT  \\\n",
       "MatchId                                            MapName  RoundNum RoundTick                      \n",
       "961Gamers-Nationals-2020-yalla-vs-we-sell-power... de_dust2 1        104                     17.0   \n",
       "                                                                     362                     14.0   \n",
       "                                                                     620                     13.0   \n",
       "                                                                     878                     11.0   \n",
       "                                                                     1136                     4.0   \n",
       "                                                                     1394                     8.0   \n",
       "                                                                     1652                     9.0   \n",
       "                                                                     1912                     7.0   \n",
       "                                                                     2170                     7.0   \n",
       "                                                                     2428                     8.0   \n",
       "                                                                     2686                     7.0   \n",
       "                                                                     2944                     7.0   \n",
       "                                                                     3202                     7.0   \n",
       "                                                                     3460                     7.0   \n",
       "                                                                     3718                     7.0   \n",
       "                                                                     3976                     7.0   \n",
       "                                                                     4234                     7.0   \n",
       "                                                                     4492                     7.0   \n",
       "                                                                     4750                     7.0   \n",
       "                                                                     5008                     7.0   \n",
       "\n",
       "                                                                                ChangeClosestDistToA_CT  \\\n",
       "MatchId                                            MapName  RoundNum RoundTick                            \n",
       "961Gamers-Nationals-2020-yalla-vs-we-sell-power... de_dust2 1        104                            0.0   \n",
       "                                                                     362                            9.0   \n",
       "                                                                     620                           -8.0   \n",
       "                                                                     878                            2.0   \n",
       "                                                                     1136                          -4.0   \n",
       "                                                                     1394                          -3.0   \n",
       "                                                                     1652                           2.0   \n",
       "                                                                     1912                          10.0   \n",
       "                                                                     2170                           4.0   \n",
       "                                                                     2428                           3.0   \n",
       "                                                                     2686                           1.0   \n",
       "                                                                     2944                           0.0   \n",
       "                                                                     3202                           0.0   \n",
       "                                                                     3460                           0.0   \n",
       "                                                                     3718                           0.0   \n",
       "                                                                     3976                           0.0   \n",
       "                                                                     4234                           0.0   \n",
       "                                                                     4492                           0.0   \n",
       "                                                                     4750                           0.0   \n",
       "                                                                     5008                           0.0   \n",
       "\n",
       "                                                                                ChangeClosestDistToB_CT  \n",
       "MatchId                                            MapName  RoundNum RoundTick                           \n",
       "961Gamers-Nationals-2020-yalla-vs-we-sell-power... de_dust2 1        104                            0.0  \n",
       "                                                                     362                           -3.0  \n",
       "                                                                     620                           -1.0  \n",
       "                                                                     878                           -2.0  \n",
       "                                                                     1136                          -7.0  \n",
       "                                                                     1394                           4.0  \n",
       "                                                                     1652                           1.0  \n",
       "                                                                     1912                          -2.0  \n",
       "                                                                     2170                           0.0  \n",
       "                                                                     2428                           1.0  \n",
       "                                                                     2686                          -1.0  \n",
       "                                                                     2944                           0.0  \n",
       "                                                                     3202                           0.0  \n",
       "                                                                     3460                           0.0  \n",
       "                                                                     3718                           0.0  \n",
       "                                                                     3976                           0.0  \n",
       "                                                                     4234                           0.0  \n",
       "                                                                     4492                           0.0  \n",
       "                                                                     4750                           0.0  \n",
       "                                                                     5008                           0.0  "
      ],
      "text/html": "<div>\n<style scoped>\n    .dataframe tbody tr th:only-of-type {\n        vertical-align: middle;\n    }\n\n    .dataframe tbody tr th {\n        vertical-align: top;\n    }\n\n    .dataframe thead th {\n        text-align: right;\n    }\n</style>\n<table border=\"1\" class=\"dataframe\">\n  <thead>\n    <tr style=\"text-align: right;\">\n      <th></th>\n      <th></th>\n      <th></th>\n      <th></th>\n      <th>ClosestDistToA_T</th>\n      <th>ClosestDistToB_T</th>\n      <th>ChangeClosestDistToA_T</th>\n      <th>ChangeClosestDistToB_T</th>\n      <th>ClosestDistToA_CT</th>\n      <th>ClosestDistToB_CT</th>\n      <th>ChangeClosestDistToA_CT</th>\n      <th>ChangeClosestDistToB_CT</th>\n    </tr>\n    <tr>\n      <th>MatchId</th>\n      <th>MapName</th>\n      <th>RoundNum</th>\n      <th>RoundTick</th>\n      <th></th>\n      <th></th>\n      <th></th>\n      <th></th>\n      <th></th>\n      <th></th>\n      <th></th>\n      <th></th>\n    </tr>\n  </thead>\n  <tbody>\n    <tr>\n      <th rowspan=\"20\" valign=\"top\">961Gamers-Nationals-2020-yalla-vs-we-sell-power-bo3</th>\n      <th rowspan=\"20\" valign=\"top\">de_dust2</th>\n      <th rowspan=\"20\" valign=\"top\">1</th>\n      <th>104</th>\n      <td>32.0</td>\n      <td>30.0</td>\n      <td>0.0</td>\n      <td>0.0</td>\n      <td>6.0</td>\n      <td>17.0</td>\n      <td>0.0</td>\n      <td>0.0</td>\n    </tr>\n    <tr>\n      <th>362</th>\n      <td>33.0</td>\n      <td>26.0</td>\n      <td>1.0</td>\n      <td>-4.0</td>\n      <td>15.0</td>\n      <td>14.0</td>\n      <td>9.0</td>\n      <td>-3.0</td>\n    </tr>\n    <tr>\n      <th>620</th>\n      <td>33.0</td>\n      <td>19.0</td>\n      <td>0.0</td>\n      <td>-7.0</td>\n      <td>7.0</td>\n      <td>13.0</td>\n      <td>-8.0</td>\n      <td>-1.0</td>\n    </tr>\n    <tr>\n      <th>878</th>\n      <td>33.0</td>\n      <td>17.0</td>\n      <td>0.0</td>\n      <td>-2.0</td>\n      <td>9.0</td>\n      <td>11.0</td>\n      <td>2.0</td>\n      <td>-2.0</td>\n    </tr>\n    <tr>\n      <th>1136</th>\n      <td>33.0</td>\n      <td>16.0</td>\n      <td>0.0</td>\n      <td>-1.0</td>\n      <td>5.0</td>\n      <td>4.0</td>\n      <td>-4.0</td>\n      <td>-7.0</td>\n    </tr>\n    <tr>\n      <th>1394</th>\n      <td>33.0</td>\n      <td>13.0</td>\n      <td>0.0</td>\n      <td>-3.0</td>\n      <td>2.0</td>\n      <td>8.0</td>\n      <td>-3.0</td>\n      <td>4.0</td>\n    </tr>\n    <tr>\n      <th>1652</th>\n      <td>36.0</td>\n      <td>10.0</td>\n      <td>3.0</td>\n      <td>-3.0</td>\n      <td>4.0</td>\n      <td>9.0</td>\n      <td>2.0</td>\n      <td>1.0</td>\n    </tr>\n    <tr>\n      <th>1912</th>\n      <td>37.0</td>\n      <td>6.0</td>\n      <td>1.0</td>\n      <td>-4.0</td>\n      <td>14.0</td>\n      <td>7.0</td>\n      <td>10.0</td>\n      <td>-2.0</td>\n    </tr>\n    <tr>\n      <th>2170</th>\n      <td>34.0</td>\n      <td>3.0</td>\n      <td>-3.0</td>\n      <td>-3.0</td>\n      <td>18.0</td>\n      <td>7.0</td>\n      <td>4.0</td>\n      <td>0.0</td>\n    </tr>\n    <tr>\n      <th>2428</th>\n      <td>34.0</td>\n      <td>3.0</td>\n      <td>0.0</td>\n      <td>0.0</td>\n      <td>21.0</td>\n      <td>8.0</td>\n      <td>3.0</td>\n      <td>1.0</td>\n    </tr>\n    <tr>\n      <th>2686</th>\n      <td>33.0</td>\n      <td>2.0</td>\n      <td>-1.0</td>\n      <td>-1.0</td>\n      <td>22.0</td>\n      <td>7.0</td>\n      <td>1.0</td>\n      <td>-1.0</td>\n    </tr>\n    <tr>\n      <th>2944</th>\n      <td>32.0</td>\n      <td>3.0</td>\n      <td>-1.0</td>\n      <td>1.0</td>\n      <td>22.0</td>\n      <td>7.0</td>\n      <td>0.0</td>\n      <td>0.0</td>\n    </tr>\n    <tr>\n      <th>3202</th>\n      <td>32.0</td>\n      <td>3.0</td>\n      <td>0.0</td>\n      <td>0.0</td>\n      <td>22.0</td>\n      <td>7.0</td>\n      <td>0.0</td>\n      <td>0.0</td>\n    </tr>\n    <tr>\n      <th>3460</th>\n      <td>34.0</td>\n      <td>3.0</td>\n      <td>2.0</td>\n      <td>0.0</td>\n      <td>22.0</td>\n      <td>7.0</td>\n      <td>0.0</td>\n      <td>0.0</td>\n    </tr>\n    <tr>\n      <th>3718</th>\n      <td>34.0</td>\n      <td>3.0</td>\n      <td>0.0</td>\n      <td>0.0</td>\n      <td>22.0</td>\n      <td>7.0</td>\n      <td>0.0</td>\n      <td>0.0</td>\n    </tr>\n    <tr>\n      <th>3976</th>\n      <td>34.0</td>\n      <td>3.0</td>\n      <td>0.0</td>\n      <td>0.0</td>\n      <td>22.0</td>\n      <td>7.0</td>\n      <td>0.0</td>\n      <td>0.0</td>\n    </tr>\n    <tr>\n      <th>4234</th>\n      <td>34.0</td>\n      <td>3.0</td>\n      <td>0.0</td>\n      <td>0.0</td>\n      <td>22.0</td>\n      <td>7.0</td>\n      <td>0.0</td>\n      <td>0.0</td>\n    </tr>\n    <tr>\n      <th>4492</th>\n      <td>34.0</td>\n      <td>3.0</td>\n      <td>0.0</td>\n      <td>0.0</td>\n      <td>22.0</td>\n      <td>7.0</td>\n      <td>0.0</td>\n      <td>0.0</td>\n    </tr>\n    <tr>\n      <th>4750</th>\n      <td>34.0</td>\n      <td>3.0</td>\n      <td>0.0</td>\n      <td>0.0</td>\n      <td>22.0</td>\n      <td>7.0</td>\n      <td>0.0</td>\n      <td>0.0</td>\n    </tr>\n    <tr>\n      <th>5008</th>\n      <td>34.0</td>\n      <td>3.0</td>\n      <td>0.0</td>\n      <td>0.0</td>\n      <td>22.0</td>\n      <td>7.0</td>\n      <td>0.0</td>\n      <td>0.0</td>\n    </tr>\n  </tbody>\n</table>\n</div>"
     },
     "metadata": {},
     "execution_count": 23
    }
   ],
   "source": [
    "position_state_df.head(20)"
   ]
  },
  {
   "cell_type": "code",
   "execution_count": 24,
   "metadata": {},
   "outputs": [
    {
     "output_type": "execute_result",
     "data": {
      "text/plain": [
       "       ClosestDistToA_T  ClosestDistToB_T  ChangeClosestDistToA_T  \\\n",
       "count      1.870602e+06      1.870602e+06            1.870602e+06   \n",
       "mean       1.862659e+01      1.998202e+01           -4.461505e-01   \n",
       "std        1.292742e+01      1.130454e+01            2.430936e+00   \n",
       "min        0.000000e+00      0.000000e+00           -4.200000e+01   \n",
       "25%        8.000000e+00      1.100000e+01           -1.000000e+00   \n",
       "50%        1.700000e+01      2.000000e+01            0.000000e+00   \n",
       "75%        2.500000e+01      2.700000e+01            0.000000e+00   \n",
       "max        6.900000e+01      6.700000e+01            4.000000e+01   \n",
       "\n",
       "       ChangeClosestDistToB_T  ClosestDistToA_CT  ClosestDistToB_CT  \\\n",
       "count            1.870602e+06       1.870349e+06       1.870349e+06   \n",
       "mean            -4.155769e-01       9.562168e+00       1.063956e+01   \n",
       "std              3.448913e+00       7.848227e+00       8.576449e+00   \n",
       "min             -5.200000e+01       0.000000e+00       0.000000e+00   \n",
       "25%             -1.000000e+00       5.000000e+00       4.000000e+00   \n",
       "50%              0.000000e+00       7.000000e+00       7.000000e+00   \n",
       "75%              0.000000e+00       1.200000e+01       1.500000e+01   \n",
       "max              5.400000e+01       6.600000e+01       6.800000e+01   \n",
       "\n",
       "       ChangeClosestDistToA_CT  ChangeClosestDistToB_CT  \n",
       "count             1.870349e+06             1.870349e+06  \n",
       "mean             -1.054402e-01            -1.349507e-01  \n",
       "std               2.656780e+00             3.104147e+00  \n",
       "min              -4.700000e+01            -4.300000e+01  \n",
       "25%               0.000000e+00             0.000000e+00  \n",
       "50%               0.000000e+00             0.000000e+00  \n",
       "75%               0.000000e+00             0.000000e+00  \n",
       "max               4.800000e+01             4.400000e+01  "
      ],
      "text/html": "<div>\n<style scoped>\n    .dataframe tbody tr th:only-of-type {\n        vertical-align: middle;\n    }\n\n    .dataframe tbody tr th {\n        vertical-align: top;\n    }\n\n    .dataframe thead th {\n        text-align: right;\n    }\n</style>\n<table border=\"1\" class=\"dataframe\">\n  <thead>\n    <tr style=\"text-align: right;\">\n      <th></th>\n      <th>ClosestDistToA_T</th>\n      <th>ClosestDistToB_T</th>\n      <th>ChangeClosestDistToA_T</th>\n      <th>ChangeClosestDistToB_T</th>\n      <th>ClosestDistToA_CT</th>\n      <th>ClosestDistToB_CT</th>\n      <th>ChangeClosestDistToA_CT</th>\n      <th>ChangeClosestDistToB_CT</th>\n    </tr>\n  </thead>\n  <tbody>\n    <tr>\n      <th>count</th>\n      <td>1.870602e+06</td>\n      <td>1.870602e+06</td>\n      <td>1.870602e+06</td>\n      <td>1.870602e+06</td>\n      <td>1.870349e+06</td>\n      <td>1.870349e+06</td>\n      <td>1.870349e+06</td>\n      <td>1.870349e+06</td>\n    </tr>\n    <tr>\n      <th>mean</th>\n      <td>1.862659e+01</td>\n      <td>1.998202e+01</td>\n      <td>-4.461505e-01</td>\n      <td>-4.155769e-01</td>\n      <td>9.562168e+00</td>\n      <td>1.063956e+01</td>\n      <td>-1.054402e-01</td>\n      <td>-1.349507e-01</td>\n    </tr>\n    <tr>\n      <th>std</th>\n      <td>1.292742e+01</td>\n      <td>1.130454e+01</td>\n      <td>2.430936e+00</td>\n      <td>3.448913e+00</td>\n      <td>7.848227e+00</td>\n      <td>8.576449e+00</td>\n      <td>2.656780e+00</td>\n      <td>3.104147e+00</td>\n    </tr>\n    <tr>\n      <th>min</th>\n      <td>0.000000e+00</td>\n      <td>0.000000e+00</td>\n      <td>-4.200000e+01</td>\n      <td>-5.200000e+01</td>\n      <td>0.000000e+00</td>\n      <td>0.000000e+00</td>\n      <td>-4.700000e+01</td>\n      <td>-4.300000e+01</td>\n    </tr>\n    <tr>\n      <th>25%</th>\n      <td>8.000000e+00</td>\n      <td>1.100000e+01</td>\n      <td>-1.000000e+00</td>\n      <td>-1.000000e+00</td>\n      <td>5.000000e+00</td>\n      <td>4.000000e+00</td>\n      <td>0.000000e+00</td>\n      <td>0.000000e+00</td>\n    </tr>\n    <tr>\n      <th>50%</th>\n      <td>1.700000e+01</td>\n      <td>2.000000e+01</td>\n      <td>0.000000e+00</td>\n      <td>0.000000e+00</td>\n      <td>7.000000e+00</td>\n      <td>7.000000e+00</td>\n      <td>0.000000e+00</td>\n      <td>0.000000e+00</td>\n    </tr>\n    <tr>\n      <th>75%</th>\n      <td>2.500000e+01</td>\n      <td>2.700000e+01</td>\n      <td>0.000000e+00</td>\n      <td>0.000000e+00</td>\n      <td>1.200000e+01</td>\n      <td>1.500000e+01</td>\n      <td>0.000000e+00</td>\n      <td>0.000000e+00</td>\n    </tr>\n    <tr>\n      <th>max</th>\n      <td>6.900000e+01</td>\n      <td>6.700000e+01</td>\n      <td>4.000000e+01</td>\n      <td>5.400000e+01</td>\n      <td>6.600000e+01</td>\n      <td>6.800000e+01</td>\n      <td>4.800000e+01</td>\n      <td>4.400000e+01</td>\n    </tr>\n  </tbody>\n</table>\n</div>"
     },
     "metadata": {},
     "execution_count": 24
    }
   ],
   "source": [
    "position_state_df.describe()"
   ]
  },
  {
   "source": [
    "## Putting it all together"
   ],
   "cell_type": "markdown",
   "metadata": {}
  },
  {
   "cell_type": "code",
   "execution_count": 25,
   "metadata": {},
   "outputs": [],
   "source": [
    "bomb_state_df['EventType'] = 'BombPlant'\n",
    "damages_kills_state_df['EventType'] = 'DamageDealt'\n",
    "position_state_df['EventType'] = 'PositionUpdate'"
   ]
  },
  {
   "cell_type": "code",
   "execution_count": 26,
   "metadata": {},
   "outputs": [],
   "source": [
    "game_states_df = pd.concat([bomb_state_df, damages_kills_state_df, position_state_df], axis=0)\n",
    "game_states_df = game_states_df.sort_index()\n",
    "game_states_df.reset_index(inplace=True)"
   ]
  },
  {
   "cell_type": "code",
   "execution_count": 27,
   "metadata": {},
   "outputs": [
    {
     "output_type": "execute_result",
     "data": {
      "text/plain": [
       "Index(['MatchId', 'MapName', 'RoundNum', 'RoundTick', 'BombPlantedA',\n",
       "       'BombPlantedB', 'AttackerSide', 'VictimSide', 'AttackerSteamId',\n",
       "       'EventType', 'VictimSteamId', 'TAlive', 'CTAlive', 'TTotalHp',\n",
       "       'CTTotalHp', 'ClosestDistToA_T', 'ClosestDistToB_T',\n",
       "       'ChangeClosestDistToA_T', 'ChangeClosestDistToB_T', 'ClosestDistToA_CT',\n",
       "       'ClosestDistToB_CT', 'ChangeClosestDistToA_CT',\n",
       "       'ChangeClosestDistToB_CT'],\n",
       "      dtype='object')"
      ]
     },
     "metadata": {},
     "execution_count": 27
    }
   ],
   "source": [
    "game_states_df.columns"
   ]
  },
  {
   "cell_type": "code",
   "execution_count": 28,
   "metadata": {},
   "outputs": [
    {
     "output_type": "execute_result",
     "data": {
      "text/plain": [
       "                                             MatchId   MapName  RoundNum  \\\n",
       "0  961Gamers-Nationals-2020-yalla-vs-we-sell-powe...  de_dust2         1   \n",
       "1  961Gamers-Nationals-2020-yalla-vs-we-sell-powe...  de_dust2         1   \n",
       "2  961Gamers-Nationals-2020-yalla-vs-we-sell-powe...  de_dust2         1   \n",
       "3  961Gamers-Nationals-2020-yalla-vs-we-sell-powe...  de_dust2         1   \n",
       "4  961Gamers-Nationals-2020-yalla-vs-we-sell-powe...  de_dust2         1   \n",
       "\n",
       "   RoundTick  BombPlantedA  BombPlantedB AttackerSide VictimSide  \\\n",
       "0        104         False         False          NaN        NaN   \n",
       "1        362         False         False          NaN        NaN   \n",
       "2        620         False         False          NaN        NaN   \n",
       "3        646         False         False            T         CT   \n",
       "4        878         False         False          NaN        NaN   \n",
       "\n",
       "         AttackerSteamId       EventType  ... TTotalHp  CTTotalHp  \\\n",
       "0                    NaN  PositionUpdate  ...      5.0        5.0   \n",
       "1                    NaN  PositionUpdate  ...      5.0        5.0   \n",
       "2                    NaN  PositionUpdate  ...      5.0        5.0   \n",
       "3  7.656119811125186e+16     DamageDealt  ...    500.0      415.0   \n",
       "4                    NaN  PositionUpdate  ...    500.0      415.0   \n",
       "\n",
       "   ClosestDistToA_T  ClosestDistToB_T  ChangeClosestDistToA_T  \\\n",
       "0              32.0              30.0                     0.0   \n",
       "1              33.0              26.0                     1.0   \n",
       "2              33.0              19.0                     0.0   \n",
       "3              33.0              19.0                     0.0   \n",
       "4              33.0              17.0                     0.0   \n",
       "\n",
       "   ChangeClosestDistToB_T  ClosestDistToA_CT  ClosestDistToB_CT  \\\n",
       "0                     0.0                6.0               17.0   \n",
       "1                    -4.0               15.0               14.0   \n",
       "2                    -7.0                7.0               13.0   \n",
       "3                    -7.0                7.0               13.0   \n",
       "4                    -2.0                9.0               11.0   \n",
       "\n",
       "   ChangeClosestDistToA_CT  ChangeClosestDistToB_CT  \n",
       "0                      0.0                      0.0  \n",
       "1                      9.0                     -3.0  \n",
       "2                     -8.0                     -1.0  \n",
       "3                     -8.0                     -1.0  \n",
       "4                      2.0                     -2.0  \n",
       "\n",
       "[5 rows x 23 columns]"
      ],
      "text/html": "<div>\n<style scoped>\n    .dataframe tbody tr th:only-of-type {\n        vertical-align: middle;\n    }\n\n    .dataframe tbody tr th {\n        vertical-align: top;\n    }\n\n    .dataframe thead th {\n        text-align: right;\n    }\n</style>\n<table border=\"1\" class=\"dataframe\">\n  <thead>\n    <tr style=\"text-align: right;\">\n      <th></th>\n      <th>MatchId</th>\n      <th>MapName</th>\n      <th>RoundNum</th>\n      <th>RoundTick</th>\n      <th>BombPlantedA</th>\n      <th>BombPlantedB</th>\n      <th>AttackerSide</th>\n      <th>VictimSide</th>\n      <th>AttackerSteamId</th>\n      <th>EventType</th>\n      <th>...</th>\n      <th>TTotalHp</th>\n      <th>CTTotalHp</th>\n      <th>ClosestDistToA_T</th>\n      <th>ClosestDistToB_T</th>\n      <th>ChangeClosestDistToA_T</th>\n      <th>ChangeClosestDistToB_T</th>\n      <th>ClosestDistToA_CT</th>\n      <th>ClosestDistToB_CT</th>\n      <th>ChangeClosestDistToA_CT</th>\n      <th>ChangeClosestDistToB_CT</th>\n    </tr>\n  </thead>\n  <tbody>\n    <tr>\n      <th>0</th>\n      <td>961Gamers-Nationals-2020-yalla-vs-we-sell-powe...</td>\n      <td>de_dust2</td>\n      <td>1</td>\n      <td>104</td>\n      <td>False</td>\n      <td>False</td>\n      <td>NaN</td>\n      <td>NaN</td>\n      <td>NaN</td>\n      <td>PositionUpdate</td>\n      <td>...</td>\n      <td>5.0</td>\n      <td>5.0</td>\n      <td>32.0</td>\n      <td>30.0</td>\n      <td>0.0</td>\n      <td>0.0</td>\n      <td>6.0</td>\n      <td>17.0</td>\n      <td>0.0</td>\n      <td>0.0</td>\n    </tr>\n    <tr>\n      <th>1</th>\n      <td>961Gamers-Nationals-2020-yalla-vs-we-sell-powe...</td>\n      <td>de_dust2</td>\n      <td>1</td>\n      <td>362</td>\n      <td>False</td>\n      <td>False</td>\n      <td>NaN</td>\n      <td>NaN</td>\n      <td>NaN</td>\n      <td>PositionUpdate</td>\n      <td>...</td>\n      <td>5.0</td>\n      <td>5.0</td>\n      <td>33.0</td>\n      <td>26.0</td>\n      <td>1.0</td>\n      <td>-4.0</td>\n      <td>15.0</td>\n      <td>14.0</td>\n      <td>9.0</td>\n      <td>-3.0</td>\n    </tr>\n    <tr>\n      <th>2</th>\n      <td>961Gamers-Nationals-2020-yalla-vs-we-sell-powe...</td>\n      <td>de_dust2</td>\n      <td>1</td>\n      <td>620</td>\n      <td>False</td>\n      <td>False</td>\n      <td>NaN</td>\n      <td>NaN</td>\n      <td>NaN</td>\n      <td>PositionUpdate</td>\n      <td>...</td>\n      <td>5.0</td>\n      <td>5.0</td>\n      <td>33.0</td>\n      <td>19.0</td>\n      <td>0.0</td>\n      <td>-7.0</td>\n      <td>7.0</td>\n      <td>13.0</td>\n      <td>-8.0</td>\n      <td>-1.0</td>\n    </tr>\n    <tr>\n      <th>3</th>\n      <td>961Gamers-Nationals-2020-yalla-vs-we-sell-powe...</td>\n      <td>de_dust2</td>\n      <td>1</td>\n      <td>646</td>\n      <td>False</td>\n      <td>False</td>\n      <td>T</td>\n      <td>CT</td>\n      <td>7.656119811125186e+16</td>\n      <td>DamageDealt</td>\n      <td>...</td>\n      <td>500.0</td>\n      <td>415.0</td>\n      <td>33.0</td>\n      <td>19.0</td>\n      <td>0.0</td>\n      <td>-7.0</td>\n      <td>7.0</td>\n      <td>13.0</td>\n      <td>-8.0</td>\n      <td>-1.0</td>\n    </tr>\n    <tr>\n      <th>4</th>\n      <td>961Gamers-Nationals-2020-yalla-vs-we-sell-powe...</td>\n      <td>de_dust2</td>\n      <td>1</td>\n      <td>878</td>\n      <td>False</td>\n      <td>False</td>\n      <td>NaN</td>\n      <td>NaN</td>\n      <td>NaN</td>\n      <td>PositionUpdate</td>\n      <td>...</td>\n      <td>500.0</td>\n      <td>415.0</td>\n      <td>33.0</td>\n      <td>17.0</td>\n      <td>0.0</td>\n      <td>-2.0</td>\n      <td>9.0</td>\n      <td>11.0</td>\n      <td>2.0</td>\n      <td>-2.0</td>\n    </tr>\n  </tbody>\n</table>\n<p>5 rows × 23 columns</p>\n</div>"
     },
     "metadata": {},
     "execution_count": 28
    }
   ],
   "source": [
    "def fill_states(df):\n",
    "    fill_cols = ['BombPlantedA', 'BombPlantedB', 'TAlive', 'CTAlive', 'TTotalHp', 'CTTotalHp', 'ClosestDistToA_T', 'ClosestDistToB_T', 'ChangeClosestDistToA_T', 'ChangeClosestDistToB_T', 'ClosestDistToA_CT', 'ClosestDistToB_CT', 'ChangeClosestDistToA_CT', 'ChangeClosestDistToB_CT']\n",
    "    df[fill_cols] = df[fill_cols].fillna(method='ffill')\n",
    "    dist_names = ['ClosestDistToA_T', 'ClosestDistToB_T', 'ClosestDistToA_CT', 'ClosestDistToB_CT']\n",
    "    df[dist_names] = df[dist_names].fillna(method='bfill')\n",
    "    change_names = ['ChangeClosestDistToA_T', 'ChangeClosestDistToB_T', 'ChangeClosestDistToA_CT', 'ChangeClosestDistToB_CT']\n",
    "    df[change_names] = df[change_names].fillna(0)\n",
    "    df['BombPlantedA'] = df['BombPlantedA'].fillna(False)\n",
    "    df['BombPlantedB'] = df['BombPlantedB'].fillna(False)\n",
    "    df['TAlive'] = df['TAlive'].fillna(5)\n",
    "    df['CTAlive'] = df['CTAlive'].fillna(5)\n",
    "    df['TTotalHp'] = df['TTotalHp'].fillna(5)\n",
    "    df['CTTotalHp'] = df['CTTotalHp'].fillna(5)\n",
    "    return df\n",
    "\n",
    "game_states_df = game_states_df.groupby(['MatchId', 'MapName', 'RoundNum']).apply(fill_states)\n",
    "game_states_df.head()"
   ]
  },
  {
   "cell_type": "code",
   "execution_count": 29,
   "metadata": {},
   "outputs": [],
   "source": [
    "game_states_df = game_states_df.merge(rounds_df[['MatchId', 'MapName', 'RoundNum', 'RoundEndReason', 'CTBuyType', 'TBuyType', 'WinningSide']], how='left', on=['MatchId', 'MapName', 'RoundNum'], validate='many_to_one')"
   ]
  },
  {
   "cell_type": "code",
   "execution_count": 30,
   "metadata": {},
   "outputs": [
    {
     "output_type": "execute_result",
     "data": {
      "text/plain": [
       "                                             MatchId   MapName  RoundNum  \\\n",
       "0  961Gamers-Nationals-2020-yalla-vs-we-sell-powe...  de_dust2         1   \n",
       "1  961Gamers-Nationals-2020-yalla-vs-we-sell-powe...  de_dust2         1   \n",
       "2  961Gamers-Nationals-2020-yalla-vs-we-sell-powe...  de_dust2         1   \n",
       "3  961Gamers-Nationals-2020-yalla-vs-we-sell-powe...  de_dust2         1   \n",
       "4  961Gamers-Nationals-2020-yalla-vs-we-sell-powe...  de_dust2         1   \n",
       "\n",
       "   RoundTick  BombPlantedA  BombPlantedB AttackerSide VictimSide  \\\n",
       "0        104         False         False          NaN        NaN   \n",
       "1        362         False         False          NaN        NaN   \n",
       "2        620         False         False          NaN        NaN   \n",
       "3        646         False         False            T         CT   \n",
       "4        878         False         False          NaN        NaN   \n",
       "\n",
       "         AttackerSteamId       EventType  ... ChangeClosestDistToA_T  \\\n",
       "0                    NaN  PositionUpdate  ...                    0.0   \n",
       "1                    NaN  PositionUpdate  ...                    1.0   \n",
       "2                    NaN  PositionUpdate  ...                    0.0   \n",
       "3  7.656119811125186e+16     DamageDealt  ...                    0.0   \n",
       "4                    NaN  PositionUpdate  ...                    0.0   \n",
       "\n",
       "   ChangeClosestDistToB_T  ClosestDistToA_CT  ClosestDistToB_CT  \\\n",
       "0                     0.0                6.0               17.0   \n",
       "1                    -4.0               15.0               14.0   \n",
       "2                    -7.0                7.0               13.0   \n",
       "3                    -7.0                7.0               13.0   \n",
       "4                    -2.0                9.0               11.0   \n",
       "\n",
       "   ChangeClosestDistToA_CT  ChangeClosestDistToB_CT  RoundEndReason  \\\n",
       "0                      0.0                      0.0    TargetBombed   \n",
       "1                      9.0                     -3.0    TargetBombed   \n",
       "2                     -8.0                     -1.0    TargetBombed   \n",
       "3                     -8.0                     -1.0    TargetBombed   \n",
       "4                      2.0                     -2.0    TargetBombed   \n",
       "\n",
       "   CTBuyType  TBuyType  WinningSide  \n",
       "0     Pistol    Pistol            T  \n",
       "1     Pistol    Pistol            T  \n",
       "2     Pistol    Pistol            T  \n",
       "3     Pistol    Pistol            T  \n",
       "4     Pistol    Pistol            T  \n",
       "\n",
       "[5 rows x 27 columns]"
      ],
      "text/html": "<div>\n<style scoped>\n    .dataframe tbody tr th:only-of-type {\n        vertical-align: middle;\n    }\n\n    .dataframe tbody tr th {\n        vertical-align: top;\n    }\n\n    .dataframe thead th {\n        text-align: right;\n    }\n</style>\n<table border=\"1\" class=\"dataframe\">\n  <thead>\n    <tr style=\"text-align: right;\">\n      <th></th>\n      <th>MatchId</th>\n      <th>MapName</th>\n      <th>RoundNum</th>\n      <th>RoundTick</th>\n      <th>BombPlantedA</th>\n      <th>BombPlantedB</th>\n      <th>AttackerSide</th>\n      <th>VictimSide</th>\n      <th>AttackerSteamId</th>\n      <th>EventType</th>\n      <th>...</th>\n      <th>ChangeClosestDistToA_T</th>\n      <th>ChangeClosestDistToB_T</th>\n      <th>ClosestDistToA_CT</th>\n      <th>ClosestDistToB_CT</th>\n      <th>ChangeClosestDistToA_CT</th>\n      <th>ChangeClosestDistToB_CT</th>\n      <th>RoundEndReason</th>\n      <th>CTBuyType</th>\n      <th>TBuyType</th>\n      <th>WinningSide</th>\n    </tr>\n  </thead>\n  <tbody>\n    <tr>\n      <th>0</th>\n      <td>961Gamers-Nationals-2020-yalla-vs-we-sell-powe...</td>\n      <td>de_dust2</td>\n      <td>1</td>\n      <td>104</td>\n      <td>False</td>\n      <td>False</td>\n      <td>NaN</td>\n      <td>NaN</td>\n      <td>NaN</td>\n      <td>PositionUpdate</td>\n      <td>...</td>\n      <td>0.0</td>\n      <td>0.0</td>\n      <td>6.0</td>\n      <td>17.0</td>\n      <td>0.0</td>\n      <td>0.0</td>\n      <td>TargetBombed</td>\n      <td>Pistol</td>\n      <td>Pistol</td>\n      <td>T</td>\n    </tr>\n    <tr>\n      <th>1</th>\n      <td>961Gamers-Nationals-2020-yalla-vs-we-sell-powe...</td>\n      <td>de_dust2</td>\n      <td>1</td>\n      <td>362</td>\n      <td>False</td>\n      <td>False</td>\n      <td>NaN</td>\n      <td>NaN</td>\n      <td>NaN</td>\n      <td>PositionUpdate</td>\n      <td>...</td>\n      <td>1.0</td>\n      <td>-4.0</td>\n      <td>15.0</td>\n      <td>14.0</td>\n      <td>9.0</td>\n      <td>-3.0</td>\n      <td>TargetBombed</td>\n      <td>Pistol</td>\n      <td>Pistol</td>\n      <td>T</td>\n    </tr>\n    <tr>\n      <th>2</th>\n      <td>961Gamers-Nationals-2020-yalla-vs-we-sell-powe...</td>\n      <td>de_dust2</td>\n      <td>1</td>\n      <td>620</td>\n      <td>False</td>\n      <td>False</td>\n      <td>NaN</td>\n      <td>NaN</td>\n      <td>NaN</td>\n      <td>PositionUpdate</td>\n      <td>...</td>\n      <td>0.0</td>\n      <td>-7.0</td>\n      <td>7.0</td>\n      <td>13.0</td>\n      <td>-8.0</td>\n      <td>-1.0</td>\n      <td>TargetBombed</td>\n      <td>Pistol</td>\n      <td>Pistol</td>\n      <td>T</td>\n    </tr>\n    <tr>\n      <th>3</th>\n      <td>961Gamers-Nationals-2020-yalla-vs-we-sell-powe...</td>\n      <td>de_dust2</td>\n      <td>1</td>\n      <td>646</td>\n      <td>False</td>\n      <td>False</td>\n      <td>T</td>\n      <td>CT</td>\n      <td>7.656119811125186e+16</td>\n      <td>DamageDealt</td>\n      <td>...</td>\n      <td>0.0</td>\n      <td>-7.0</td>\n      <td>7.0</td>\n      <td>13.0</td>\n      <td>-8.0</td>\n      <td>-1.0</td>\n      <td>TargetBombed</td>\n      <td>Pistol</td>\n      <td>Pistol</td>\n      <td>T</td>\n    </tr>\n    <tr>\n      <th>4</th>\n      <td>961Gamers-Nationals-2020-yalla-vs-we-sell-powe...</td>\n      <td>de_dust2</td>\n      <td>1</td>\n      <td>878</td>\n      <td>False</td>\n      <td>False</td>\n      <td>NaN</td>\n      <td>NaN</td>\n      <td>NaN</td>\n      <td>PositionUpdate</td>\n      <td>...</td>\n      <td>0.0</td>\n      <td>-2.0</td>\n      <td>9.0</td>\n      <td>11.0</td>\n      <td>2.0</td>\n      <td>-2.0</td>\n      <td>TargetBombed</td>\n      <td>Pistol</td>\n      <td>Pistol</td>\n      <td>T</td>\n    </tr>\n  </tbody>\n</table>\n<p>5 rows × 27 columns</p>\n</div>"
     },
     "metadata": {},
     "execution_count": 30
    }
   ],
   "source": [
    "game_states_df.head()"
   ]
  },
  {
   "cell_type": "code",
   "execution_count": 31,
   "metadata": {},
   "outputs": [
    {
     "output_type": "execute_result",
     "data": {
      "text/plain": [
       "2736698"
      ]
     },
     "metadata": {},
     "execution_count": 31
    }
   ],
   "source": [
    "game_states_df.shape[0]"
   ]
  },
  {
   "cell_type": "code",
   "execution_count": 32,
   "metadata": {},
   "outputs": [
    {
     "output_type": "execute_result",
     "data": {
      "text/plain": [
       "2711775"
      ]
     },
     "metadata": {},
     "execution_count": 32
    }
   ],
   "source": [
    "bad_rounds = game_states_df[(game_states_df.TTotalHp < 0) | (game_states_df.CTTotalHp < 0)][['MatchId', 'MapName', 'RoundNum']].drop_duplicates()\n",
    "bad_rounds = bad_rounds.reindex(columns=['MatchId', 'MapName', 'RoundNum'])\n",
    "#  | ((game_states_df.TTotalHp > 0) & (game_states_df.TAlive == 0)) | ((game_states_df.CTTotalHp > 0) & (game_states_df.CTAlive == 0))\n",
    "# Going to leave this^^ out because it elimintes too mucn of the data (~8%) (there are a lot of rounds where an entire team is dead and they still have >0 HP, probably because a damage event was missed somewhere)\n",
    "bad_game_states = game_states_df.merge(bad_rounds, how='left', validate='many_to_one', indicator=True)\n",
    "game_states_df = bad_game_states[bad_game_states._merge != 'both'].drop('_merge', axis=1)\n",
    "game_states_df.shape[0]"
   ]
  },
  {
   "cell_type": "code",
   "execution_count": 33,
   "metadata": {},
   "outputs": [],
   "source": [
    "game_states_df.to_csv('game_states.csv', encoding='utf-8', index=False)"
   ]
  },
  {
   "cell_type": "code",
   "execution_count": null,
   "metadata": {},
   "outputs": [],
   "source": []
  }
 ]
}