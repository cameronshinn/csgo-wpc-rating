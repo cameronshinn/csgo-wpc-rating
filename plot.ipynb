{
 "metadata": {
  "language_info": {
   "codemirror_mode": {
    "name": "ipython",
    "version": 3
   },
   "file_extension": ".py",
   "mimetype": "text/x-python",
   "name": "python",
   "nbconvert_exporter": "python",
   "pygments_lexer": "ipython3",
   "version": "3.8.5"
  },
  "orig_nbformat": 2,
  "kernelspec": {
   "name": "python385jvsc74a57bd031f2aee4e71d21fbe5cf8b01ff0e069b9275f58929596ceb00d14d90e3e16cd6",
   "display_name": "Python 3.6.9 64-bit"
  },
  "metadata": {
   "interpreter": {
    "hash": "31f2aee4e71d21fbe5cf8b01ff0e069b9275f58929596ceb00d14d90e3e16cd6"
   }
  }
 },
 "nbformat": 4,
 "nbformat_minor": 2,
 "cells": [
  {
   "cell_type": "code",
   "execution_count": 13,
   "metadata": {},
   "outputs": [
    {
     "output_type": "execute_result",
     "data": {
      "text/plain": [
       "                                                MatchId   MapName  RoundNum  \\\n",
       "4450  BLAST-Premier-Spring-Showdown-2021-astralis-vs...  de_dust2        16   \n",
       "4451  BLAST-Premier-Spring-Showdown-2021-astralis-vs...  de_dust2        16   \n",
       "4452  BLAST-Premier-Spring-Showdown-2021-astralis-vs...  de_dust2        16   \n",
       "4453  BLAST-Premier-Spring-Showdown-2021-astralis-vs...  de_dust2        16   \n",
       "4454  BLAST-Premier-Spring-Showdown-2021-astralis-vs...  de_dust2        16   \n",
       "\n",
       "      RoundTick  BombPlantedA  BombPlantedB AttackerSide VictimSide  \\\n",
       "4450          2         False         False          NaN        NaN   \n",
       "4451        131         False         False          NaN        NaN   \n",
       "4452        260         False         False          NaN        NaN   \n",
       "4453        389         False         False          NaN        NaN   \n",
       "4454        518         False         False          NaN        NaN   \n",
       "\n",
       "      AttackerSteamId       EventType  ...  ChangeClosestDistToB_T  \\\n",
       "4450              NaN  PositionUpdate  ...                     0.0   \n",
       "4451              NaN  PositionUpdate  ...                    -3.0   \n",
       "4452              NaN  PositionUpdate  ...                    -1.0   \n",
       "4453              NaN  PositionUpdate  ...                    -5.0   \n",
       "4454              NaN  PositionUpdate  ...                    -4.0   \n",
       "\n",
       "      ClosestDistToA_CT  ClosestDistToB_CT  ChangeClosestDistToA_CT  \\\n",
       "4450                5.0               20.0                      0.0   \n",
       "4451                6.0               17.0                      1.0   \n",
       "4452               14.0               16.0                      8.0   \n",
       "4453               13.0               15.0                     -1.0   \n",
       "4454               11.0               15.0                     -2.0   \n",
       "\n",
       "      ChangeClosestDistToB_CT  RoundEndReason  CTBuyType  TBuyType  \\\n",
       "4450                      0.0     BombDefused     Pistol    Pistol   \n",
       "4451                     -3.0     BombDefused     Pistol    Pistol   \n",
       "4452                     -1.0     BombDefused     Pistol    Pistol   \n",
       "4453                     -1.0     BombDefused     Pistol    Pistol   \n",
       "4454                      0.0     BombDefused     Pistol    Pistol   \n",
       "\n",
       "      WinningSide  TWinProb  \n",
       "4450           CT  0.448576  \n",
       "4451           CT  0.455910  \n",
       "4452           CT  0.464678  \n",
       "4453           CT  0.469443  \n",
       "4454           CT  0.475258  \n",
       "\n",
       "[5 rows x 28 columns]"
      ],
      "text/html": "<div>\n<style scoped>\n    .dataframe tbody tr th:only-of-type {\n        vertical-align: middle;\n    }\n\n    .dataframe tbody tr th {\n        vertical-align: top;\n    }\n\n    .dataframe thead th {\n        text-align: right;\n    }\n</style>\n<table border=\"1\" class=\"dataframe\">\n  <thead>\n    <tr style=\"text-align: right;\">\n      <th></th>\n      <th>MatchId</th>\n      <th>MapName</th>\n      <th>RoundNum</th>\n      <th>RoundTick</th>\n      <th>BombPlantedA</th>\n      <th>BombPlantedB</th>\n      <th>AttackerSide</th>\n      <th>VictimSide</th>\n      <th>AttackerSteamId</th>\n      <th>EventType</th>\n      <th>...</th>\n      <th>ChangeClosestDistToB_T</th>\n      <th>ClosestDistToA_CT</th>\n      <th>ClosestDistToB_CT</th>\n      <th>ChangeClosestDistToA_CT</th>\n      <th>ChangeClosestDistToB_CT</th>\n      <th>RoundEndReason</th>\n      <th>CTBuyType</th>\n      <th>TBuyType</th>\n      <th>WinningSide</th>\n      <th>TWinProb</th>\n    </tr>\n  </thead>\n  <tbody>\n    <tr>\n      <th>4450</th>\n      <td>BLAST-Premier-Spring-Showdown-2021-astralis-vs...</td>\n      <td>de_dust2</td>\n      <td>16</td>\n      <td>2</td>\n      <td>False</td>\n      <td>False</td>\n      <td>NaN</td>\n      <td>NaN</td>\n      <td>NaN</td>\n      <td>PositionUpdate</td>\n      <td>...</td>\n      <td>0.0</td>\n      <td>5.0</td>\n      <td>20.0</td>\n      <td>0.0</td>\n      <td>0.0</td>\n      <td>BombDefused</td>\n      <td>Pistol</td>\n      <td>Pistol</td>\n      <td>CT</td>\n      <td>0.448576</td>\n    </tr>\n    <tr>\n      <th>4451</th>\n      <td>BLAST-Premier-Spring-Showdown-2021-astralis-vs...</td>\n      <td>de_dust2</td>\n      <td>16</td>\n      <td>131</td>\n      <td>False</td>\n      <td>False</td>\n      <td>NaN</td>\n      <td>NaN</td>\n      <td>NaN</td>\n      <td>PositionUpdate</td>\n      <td>...</td>\n      <td>-3.0</td>\n      <td>6.0</td>\n      <td>17.0</td>\n      <td>1.0</td>\n      <td>-3.0</td>\n      <td>BombDefused</td>\n      <td>Pistol</td>\n      <td>Pistol</td>\n      <td>CT</td>\n      <td>0.455910</td>\n    </tr>\n    <tr>\n      <th>4452</th>\n      <td>BLAST-Premier-Spring-Showdown-2021-astralis-vs...</td>\n      <td>de_dust2</td>\n      <td>16</td>\n      <td>260</td>\n      <td>False</td>\n      <td>False</td>\n      <td>NaN</td>\n      <td>NaN</td>\n      <td>NaN</td>\n      <td>PositionUpdate</td>\n      <td>...</td>\n      <td>-1.0</td>\n      <td>14.0</td>\n      <td>16.0</td>\n      <td>8.0</td>\n      <td>-1.0</td>\n      <td>BombDefused</td>\n      <td>Pistol</td>\n      <td>Pistol</td>\n      <td>CT</td>\n      <td>0.464678</td>\n    </tr>\n    <tr>\n      <th>4453</th>\n      <td>BLAST-Premier-Spring-Showdown-2021-astralis-vs...</td>\n      <td>de_dust2</td>\n      <td>16</td>\n      <td>389</td>\n      <td>False</td>\n      <td>False</td>\n      <td>NaN</td>\n      <td>NaN</td>\n      <td>NaN</td>\n      <td>PositionUpdate</td>\n      <td>...</td>\n      <td>-5.0</td>\n      <td>13.0</td>\n      <td>15.0</td>\n      <td>-1.0</td>\n      <td>-1.0</td>\n      <td>BombDefused</td>\n      <td>Pistol</td>\n      <td>Pistol</td>\n      <td>CT</td>\n      <td>0.469443</td>\n    </tr>\n    <tr>\n      <th>4454</th>\n      <td>BLAST-Premier-Spring-Showdown-2021-astralis-vs...</td>\n      <td>de_dust2</td>\n      <td>16</td>\n      <td>518</td>\n      <td>False</td>\n      <td>False</td>\n      <td>NaN</td>\n      <td>NaN</td>\n      <td>NaN</td>\n      <td>PositionUpdate</td>\n      <td>...</td>\n      <td>-4.0</td>\n      <td>11.0</td>\n      <td>15.0</td>\n      <td>-2.0</td>\n      <td>0.0</td>\n      <td>BombDefused</td>\n      <td>Pistol</td>\n      <td>Pistol</td>\n      <td>CT</td>\n      <td>0.475258</td>\n    </tr>\n  </tbody>\n</table>\n<p>5 rows × 28 columns</p>\n</div>"
     },
     "metadata": {},
     "execution_count": 13
    }
   ],
   "source": [
    "import pandas as pd\n",
    "\n",
    "round = pd.read_csv('example_round.csv', index_col=0)\n",
    "round.head()"
   ]
  },
  {
   "cell_type": "code",
   "execution_count": 14,
   "metadata": {},
   "outputs": [
    {
     "output_type": "execute_result",
     "data": {
      "text/plain": [
       "count    141.000000\n",
       "mean     320.148936\n",
       "std      113.347313\n",
       "min        5.000000\n",
       "25%      197.000000\n",
       "50%      400.000000\n",
       "75%      400.000000\n",
       "max      486.000000\n",
       "Name: CTTotalHp, dtype: float64"
      ]
     },
     "metadata": {},
     "execution_count": 14
    }
   ],
   "source": [
    "round.TTotalHp.describe()\n",
    "round.CTTotalHp.describe()"
   ]
  },
  {
   "cell_type": "code",
   "execution_count": 15,
   "metadata": {},
   "outputs": [],
   "source": [
    "round['Time'] = round.RoundTick / 128\n",
    "round['CTWinProb'] = 1 - round.TWinProb"
   ]
  },
  {
   "cell_type": "code",
   "execution_count": 16,
   "metadata": {},
   "outputs": [],
   "source": [
    "from bokeh.models import HoverTool\n",
    "\n",
    "ht = HoverTool(\n",
    "    names=['TWinProb'],\n",
    "    tooltips=[\n",
    "        ('Time', '@{Time}{0.1f}s'),\n",
    "        ('T HP', '@{TTotalHp}'),\n",
    "        ('CT HP', '@{CTTotalHp}')\n",
    "    ],\n",
    "\n",
    "    # display a tooltip whenever the cursor is vertically in line with a glyph\n",
    "    mode='vline'\n",
    ")\n",
    "\n",
    "tooltips = [\n",
    "    ( 'Time',   '@Time{%F}'            )\n",
    "    # ( 'close',  '$@{adj close}{%0.2f}' ), # use @{ } for field names with spaces\n",
    "    # ( 'volume', '@volume{0.00 a}'      ),\n",
    "]"
   ]
  },
  {
   "cell_type": "code",
   "execution_count": 17,
   "metadata": {},
   "outputs": [
    {
     "output_type": "execute_result",
     "data": {
      "text/plain": [
       "GlyphRenderer(id='1328', ...)"
      ],
      "text/html": "<div style=\"display: table;\"><div style=\"display: table-row;\"><div style=\"display: table-cell;\"><b title=\"bokeh.models.renderers.GlyphRenderer\">GlyphRenderer</b>(</div><div style=\"display: table-cell;\">id&nbsp;=&nbsp;'1328', <span id=\"1331\" style=\"cursor: pointer;\">&hellip;)</span></div></div><div class=\"1330\" style=\"display: none;\"><div style=\"display: table-cell;\"></div><div style=\"display: table-cell;\">data_source&nbsp;=&nbsp;ColumnDataSource(id='1324', ...),</div></div><div class=\"1330\" style=\"display: none;\"><div style=\"display: table-cell;\"></div><div style=\"display: table-cell;\">glyph&nbsp;=&nbsp;Line(id='1326', ...),</div></div><div class=\"1330\" style=\"display: none;\"><div style=\"display: table-cell;\"></div><div style=\"display: table-cell;\">hover_glyph&nbsp;=&nbsp;None,</div></div><div class=\"1330\" style=\"display: none;\"><div style=\"display: table-cell;\"></div><div style=\"display: table-cell;\">js_event_callbacks&nbsp;=&nbsp;{},</div></div><div class=\"1330\" style=\"display: none;\"><div style=\"display: table-cell;\"></div><div style=\"display: table-cell;\">js_property_callbacks&nbsp;=&nbsp;{},</div></div><div class=\"1330\" style=\"display: none;\"><div style=\"display: table-cell;\"></div><div style=\"display: table-cell;\">level&nbsp;=&nbsp;'glyph',</div></div><div class=\"1330\" style=\"display: none;\"><div style=\"display: table-cell;\"></div><div style=\"display: table-cell;\">muted&nbsp;=&nbsp;False,</div></div><div class=\"1330\" style=\"display: none;\"><div style=\"display: table-cell;\"></div><div style=\"display: table-cell;\">muted_glyph&nbsp;=&nbsp;None,</div></div><div class=\"1330\" style=\"display: none;\"><div style=\"display: table-cell;\"></div><div style=\"display: table-cell;\">name&nbsp;=&nbsp;None,</div></div><div class=\"1330\" style=\"display: none;\"><div style=\"display: table-cell;\"></div><div style=\"display: table-cell;\">nonselection_glyph&nbsp;=&nbsp;Line(id='1327', ...),</div></div><div class=\"1330\" style=\"display: none;\"><div style=\"display: table-cell;\"></div><div style=\"display: table-cell;\">selection_glyph&nbsp;=&nbsp;'auto',</div></div><div class=\"1330\" style=\"display: none;\"><div style=\"display: table-cell;\"></div><div style=\"display: table-cell;\">subscribed_events&nbsp;=&nbsp;[],</div></div><div class=\"1330\" style=\"display: none;\"><div style=\"display: table-cell;\"></div><div style=\"display: table-cell;\">syncable&nbsp;=&nbsp;True,</div></div><div class=\"1330\" style=\"display: none;\"><div style=\"display: table-cell;\"></div><div style=\"display: table-cell;\">tags&nbsp;=&nbsp;[],</div></div><div class=\"1330\" style=\"display: none;\"><div style=\"display: table-cell;\"></div><div style=\"display: table-cell;\">view&nbsp;=&nbsp;CDSView(id='1329', ...),</div></div><div class=\"1330\" style=\"display: none;\"><div style=\"display: table-cell;\"></div><div style=\"display: table-cell;\">visible&nbsp;=&nbsp;True,</div></div><div class=\"1330\" style=\"display: none;\"><div style=\"display: table-cell;\"></div><div style=\"display: table-cell;\">x_range_name&nbsp;=&nbsp;'default',</div></div><div class=\"1330\" style=\"display: none;\"><div style=\"display: table-cell;\"></div><div style=\"display: table-cell;\">y_range_name&nbsp;=&nbsp;'default')</div></div></div>\n<script>\n(function() {\n  var expanded = false;\n  var ellipsis = document.getElementById(\"1331\");\n  ellipsis.addEventListener(\"click\", function() {\n    var rows = document.getElementsByClassName(\"1330\");\n    for (var i = 0; i < rows.length; i++) {\n      var el = rows[i];\n      el.style.display = expanded ? \"none\" : \"table-row\";\n    }\n    ellipsis.innerHTML = expanded ? \"&hellip;)\" : \"&lsaquo;&lsaquo;&lsaquo;\";\n    expanded = !expanded;\n  });\n})();\n</script>\n"
     },
     "metadata": {},
     "execution_count": 17
    }
   ],
   "source": [
    "from bokeh.plotting import figure, show, output_file\n",
    "output_file('example.html')\n",
    "\n",
    "p = figure(title='Astralis vs. OG, Dust 2, Round 16', plot_height=350, plot_width=800, y_range=(0, 1), tools=[ht], toolbar_location=None)\n",
    "p.xaxis.axis_label = 'Seconds Since Round Start'\n",
    "p.yaxis.axis_label = 'Win Probability'\n",
    "p.line('Time', 'TWinProb', line_color='#C7A852', line_width=3, line_alpha=0.5, source=round, name='TWinProb')\n",
    "p.line('Time', 'CTWinProb', line_color='#455a94', line_width=3, line_alpha=0.5, source=round)"
   ]
  },
  {
   "cell_type": "code",
   "execution_count": 18,
   "metadata": {},
   "outputs": [],
   "source": [
    "show(p)"
   ]
  }
 ]
}